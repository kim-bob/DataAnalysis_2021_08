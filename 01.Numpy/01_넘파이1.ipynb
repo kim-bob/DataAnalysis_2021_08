{
  "nbformat": 4,
  "nbformat_minor": 0,
  "metadata": {
    "colab": {
      "name": "01_넘파이1.ipynb",
      "provenance": [],
      "collapsed_sections": []
    },
    "kernelspec": {
      "name": "python3",
      "display_name": "Python 3"
    },
    "language_info": {
      "name": "python"
    }
  },
  "cells": [
    {
      "cell_type": "markdown",
      "metadata": {
        "id": "1Nghq7Ko7xWv"
      },
      "source": [
        "Numerical Python(Numpy)-Part 1"
      ]
    },
    {
      "cell_type": "markdown",
      "metadata": {
        "id": "bURFCruCDmqP"
      },
      "source": [
        "1.Numpy Dimension\n"
      ]
    },
    {
      "cell_type": "code",
      "metadata": {
        "colab": {
          "base_uri": "https://localhost:8080/"
        },
        "id": "uTH7eCZFDl6X",
        "outputId": "9650bdf6-61c1-4104-e5f4-020a8f62bfc3"
      },
      "source": [
        "import numpy as np \n",
        "a  = np.array([1,4,5,6], float)\n",
        "a"
      ],
      "execution_count": 4,
      "outputs": [
        {
          "output_type": "execute_result",
          "data": {
            "text/plain": [
              "array([1., 4., 5., 6.])"
            ]
          },
          "metadata": {
            "tags": []
          },
          "execution_count": 4
        }
      ]
    },
    {
      "cell_type": "code",
      "metadata": {
        "colab": {
          "base_uri": "https://localhost:8080/"
        },
        "id": "tOqhDBIuy_4N",
        "outputId": "9d5c68fd-1e7f-440a-d2b6-8e1fdf82ed54"
      },
      "source": [
        "type(a)"
      ],
      "execution_count": 5,
      "outputs": [
        {
          "output_type": "execute_result",
          "data": {
            "text/plain": [
              "numpy.ndarray"
            ]
          },
          "metadata": {
            "tags": []
          },
          "execution_count": 5
        }
      ]
    },
    {
      "cell_type": "code",
      "metadata": {
        "colab": {
          "base_uri": "https://localhost:8080/"
        },
        "id": "J1R_YJJ_D2Ej",
        "outputId": "25c5a20b-4e6f-4f1d-ae28-a1df855a3c2a"
      },
      "source": [
        "a.dtype"
      ],
      "execution_count": 8,
      "outputs": [
        {
          "output_type": "execute_result",
          "data": {
            "text/plain": [
              "dtype('float64')"
            ]
          },
          "metadata": {
            "tags": []
          },
          "execution_count": 8
        }
      ]
    },
    {
      "cell_type": "code",
      "metadata": {
        "colab": {
          "base_uri": "https://localhost:8080/"
        },
        "id": "r-YX3Lg7ECwm",
        "outputId": "201de408-bd9a-4e8b-9261-5b7596935120"
      },
      "source": [
        "a.shape #차원수"
      ],
      "execution_count": 9,
      "outputs": [
        {
          "output_type": "execute_result",
          "data": {
            "text/plain": [
              "(4,)"
            ]
          },
          "metadata": {
            "tags": []
          },
          "execution_count": 9
        }
      ]
    },
    {
      "cell_type": "markdown",
      "metadata": {
        "id": "0NadJUAoFOsH"
      },
      "source": [
        "Array shape"
      ]
    },
    {
      "cell_type": "code",
      "metadata": {
        "colab": {
          "base_uri": "https://localhost:8080/"
        },
        "id": "MMjOk4QgEumJ",
        "outputId": "a2b957b0-1c08-4d12-c60a-019234bd2515"
      },
      "source": [
        "#vector 1차원 데이터\n",
        "vector = np.array([1,4,5,8])\n",
        "vector.shape\n",
        "#4 하나가 찍히므로 1차원"
      ],
      "execution_count": 28,
      "outputs": [
        {
          "output_type": "execute_result",
          "data": {
            "text/plain": [
              "(4,)"
            ]
          },
          "metadata": {
            "tags": []
          },
          "execution_count": 28
        }
      ]
    },
    {
      "cell_type": "code",
      "metadata": {
        "colab": {
          "base_uri": "https://localhost:8080/"
        },
        "id": "e10fNxfPFZLa",
        "outputId": "53a6e1af-a2bb-47f7-81e8-3694f9890a9f"
      },
      "source": [
        "#Matrix 2차원\n",
        "matrix = np.array([[1,2,3], [4,5,6]])\n",
        "print(matrix.shape)\n",
        "print(matrix)\n",
        "#2, 3 이 찍히므로 2 차원"
      ],
      "execution_count": 24,
      "outputs": [
        {
          "output_type": "stream",
          "text": [
            "(2, 3)\n",
            "[[1 2 3]\n",
            " [4 5 6]]\n"
          ],
          "name": "stdout"
        }
      ]
    },
    {
      "cell_type": "code",
      "metadata": {
        "colab": {
          "base_uri": "https://localhost:8080/"
        },
        "id": "WcN0DJmVFtou",
        "outputId": "906cf15f-c1f7-4c63-cebc-6cb2bf8783ac"
      },
      "source": [
        "#Tensor 3차원 이상\n",
        "#tensor = np.array([[[],[]],[[],[]],[[],[]]])\n",
        "tensor = np.arange(1, 25).reshape(2,3,4)\n",
        "tensor\n"
      ],
      "execution_count": 25,
      "outputs": [
        {
          "output_type": "execute_result",
          "data": {
            "text/plain": [
              "array([[[ 1,  2,  3,  4],\n",
              "        [ 5,  6,  7,  8],\n",
              "        [ 9, 10, 11, 12]],\n",
              "\n",
              "       [[13, 14, 15, 16],\n",
              "        [17, 18, 19, 20],\n",
              "        [21, 22, 23, 24]]])"
            ]
          },
          "metadata": {
            "tags": []
          },
          "execution_count": 25
        }
      ]
    },
    {
      "cell_type": "code",
      "metadata": {
        "colab": {
          "base_uri": "https://localhost:8080/"
        },
        "id": "rv6_ZNK5GfdC",
        "outputId": "4beb1e29-22d6-44d3-dff0-8b8303fb9984"
      },
      "source": [
        "tensor.shape\n",
        "#2, 3, 4 가 찍히므로 3 차원"
      ],
      "execution_count": 26,
      "outputs": [
        {
          "output_type": "execute_result",
          "data": {
            "text/plain": [
              "(2, 3, 4)"
            ]
          },
          "metadata": {
            "tags": []
          },
          "execution_count": 26
        }
      ]
    },
    {
      "cell_type": "code",
      "metadata": {
        "colab": {
          "base_uri": "https://localhost:8080/"
        },
        "id": "zNa772z1Gux2",
        "outputId": "0e549bb6-499f-46e2-83e6-8ca32378cace"
      },
      "source": [
        "vector.shape, matrix.shape, tensor.shape"
      ],
      "execution_count": 27,
      "outputs": [
        {
          "output_type": "execute_result",
          "data": {
            "text/plain": [
              "((4,), (2, 3), (2, 3, 4))"
            ]
          },
          "metadata": {
            "tags": []
          },
          "execution_count": 27
        }
      ]
    },
    {
      "cell_type": "code",
      "metadata": {
        "colab": {
          "base_uri": "https://localhost:8080/"
        },
        "id": "GP2S73MhHN20",
        "outputId": "e7dd6649-c583-48c6-f210-c9d618ba96a0"
      },
      "source": [
        "#element의 갯수\n",
        "vector.size, matrix.size, tensor.size"
      ],
      "execution_count": 29,
      "outputs": [
        {
          "output_type": "execute_result",
          "data": {
            "text/plain": [
              "(4, 6, 24)"
            ]
          },
          "metadata": {
            "tags": []
          },
          "execution_count": 29
        }
      ]
    },
    {
      "cell_type": "code",
      "metadata": {
        "colab": {
          "base_uri": "https://localhost:8080/"
        },
        "id": "BIX7H3k7HbOF",
        "outputId": "555a69d2-d6d7-439b-88bd-3f9c0677b6d6"
      },
      "source": [
        "#data type\n",
        "#float32 : 32bit로 표시 - single precision\n",
        "#float64 : 64bit로 표시 -   precision\n",
        "a=np.array([1,2,3], dtype=np.float32)\n",
        "a\n"
      ],
      "execution_count": 32,
      "outputs": [
        {
          "output_type": "execute_result",
          "data": {
            "text/plain": [
              "array([1., 2., 3.], dtype=float32)"
            ]
          },
          "metadata": {
            "tags": []
          },
          "execution_count": 32
        }
      ]
    },
    {
      "cell_type": "code",
      "metadata": {
        "colab": {
          "base_uri": "https://localhost:8080/"
        },
        "id": "k9Rce_MDHyD7",
        "outputId": "33df1adb-9890-4081-fde1-383b8e94cd86"
      },
      "source": [
        "b=np.array([1,2,3], dtype=np.int32)\n",
        "b"
      ],
      "execution_count": 35,
      "outputs": [
        {
          "output_type": "execute_result",
          "data": {
            "text/plain": [
              "array([1, 2, 3], dtype=int32)"
            ]
          },
          "metadata": {
            "tags": []
          },
          "execution_count": 35
        }
      ]
    },
    {
      "cell_type": "markdown",
      "metadata": {
        "id": "lUaF4GIMImf5"
      },
      "source": [
        "### reshape\n"
      ]
    },
    {
      "cell_type": "code",
      "metadata": {
        "colab": {
          "base_uri": "https://localhost:8080/"
        },
        "id": "S_9raDCaINoX",
        "outputId": "63e6cfe6-3fcc-4ec2-d2d8-c36fc9651f08"
      },
      "source": [
        "matrix.shape #(2 by 3)\n",
        "matrix.reshape(6, ) #( 6은 튜플이 아니므로 ,를 붙여줘야함)"
      ],
      "execution_count": 38,
      "outputs": [
        {
          "output_type": "execute_result",
          "data": {
            "text/plain": [
              "array([1, 2, 3, 4, 5, 6])"
            ]
          },
          "metadata": {
            "tags": []
          },
          "execution_count": 38
        }
      ]
    },
    {
      "cell_type": "code",
      "metadata": {
        "colab": {
          "base_uri": "https://localhost:8080/"
        },
        "id": "wbohHCDRIwsm",
        "outputId": "d51cd60e-3f83-4566-a2f1-0ebe421b66b8"
      },
      "source": [
        "matrix.reshape(3,2) #3by 2로"
      ],
      "execution_count": 39,
      "outputs": [
        {
          "output_type": "execute_result",
          "data": {
            "text/plain": [
              "array([[1, 2],\n",
              "       [3, 4],\n",
              "       [5, 6]])"
            ]
          },
          "metadata": {
            "tags": []
          },
          "execution_count": 39
        }
      ]
    },
    {
      "cell_type": "code",
      "metadata": {
        "colab": {
          "base_uri": "https://localhost:8080/"
        },
        "id": "kCCgqbaNJDxL",
        "outputId": "00fc107f-8dde-4551-8cb8-8e2ea4b3d1e4"
      },
      "source": [
        "matrix.reshape(-1, )  #-1 numpy가 알아서 맞춰줌 (단, size가 동일)"
      ],
      "execution_count": 40,
      "outputs": [
        {
          "output_type": "execute_result",
          "data": {
            "text/plain": [
              "array([1, 2, 3, 4, 5, 6])"
            ]
          },
          "metadata": {
            "tags": []
          },
          "execution_count": 40
        }
      ]
    },
    {
      "cell_type": "code",
      "metadata": {
        "colab": {
          "base_uri": "https://localhost:8080/"
        },
        "id": "auzUvQZtJcxp",
        "outputId": "934abb59-cbcd-4c82-ffb1-8337fae6f76c"
      },
      "source": [
        "matrix.reshape(3, -1) #3만 정해주면 -1옵션을 줘 알아서 하게 만듬\n",
        "matrix.shape"
      ],
      "execution_count": 42,
      "outputs": [
        {
          "output_type": "execute_result",
          "data": {
            "text/plain": [
              "(2, 3)"
            ]
          },
          "metadata": {
            "tags": []
          },
          "execution_count": 42
        }
      ]
    },
    {
      "cell_type": "code",
      "metadata": {
        "colab": {
          "base_uri": "https://localhost:8080/"
        },
        "id": "WAlHrU-8KDKQ",
        "outputId": "83312e6d-7688-43b0-92c0-dccd5a477fac"
      },
      "source": [
        "tensor.reshape(4, -1).shape\n",
        "tensor.reshape(3, -1)"
      ],
      "execution_count": 46,
      "outputs": [
        {
          "output_type": "execute_result",
          "data": {
            "text/plain": [
              "array([[ 1,  2,  3,  4,  5,  6,  7,  8],\n",
              "       [ 9, 10, 11, 12, 13, 14, 15, 16],\n",
              "       [17, 18, 19, 20, 21, 22, 23, 24]])"
            ]
          },
          "metadata": {
            "tags": []
          },
          "execution_count": 46
        }
      ]
    },
    {
      "cell_type": "code",
      "metadata": {
        "colab": {
          "base_uri": "https://localhost:8080/"
        },
        "id": "FdTOQiUvKaje",
        "outputId": "e70eb280-14e1-4ea2-a159-bf45b0d0b3d2"
      },
      "source": [
        "tensor.reshape(1, -1)"
      ],
      "execution_count": 51,
      "outputs": [
        {
          "output_type": "execute_result",
          "data": {
            "text/plain": [
              "array([[ 1,  2,  3,  4,  5,  6,  7,  8,  9, 10, 11, 12, 13, 14, 15, 16,\n",
              "        17, 18, 19, 20, 21, 22, 23, 24]])"
            ]
          },
          "metadata": {
            "tags": []
          },
          "execution_count": 51
        }
      ]
    },
    {
      "cell_type": "markdown",
      "metadata": {
        "id": "8-8CgXT8OAzB"
      },
      "source": [
        "flatten\n"
      ]
    },
    {
      "cell_type": "code",
      "metadata": {
        "colab": {
          "base_uri": "https://localhost:8080/"
        },
        "id": "NgjpqXSqNRwO",
        "outputId": "e7ae069b-b3ef-4c4c-cc7c-8330d8200b79"
      },
      "source": [
        "tensor.reshape(-1, )"
      ],
      "execution_count": 52,
      "outputs": [
        {
          "output_type": "execute_result",
          "data": {
            "text/plain": [
              "array([ 1,  2,  3,  4,  5,  6,  7,  8,  9, 10, 11, 12, 13, 14, 15, 16, 17,\n",
              "       18, 19, 20, 21, 22, 23, 24])"
            ]
          },
          "metadata": {
            "tags": []
          },
          "execution_count": 52
        }
      ]
    },
    {
      "cell_type": "code",
      "metadata": {
        "colab": {
          "base_uri": "https://localhost:8080/"
        },
        "id": "NJ2ucAMHOIU7",
        "outputId": "eb6b2852-3836-471e-f708-9620ec0ed1b4"
      },
      "source": [
        "tensor.flatten()"
      ],
      "execution_count": 55,
      "outputs": [
        {
          "output_type": "execute_result",
          "data": {
            "text/plain": [
              "array([ 1,  2,  3,  4,  5,  6,  7,  8,  9, 10, 11, 12, 13, 14, 15, 16, 17,\n",
              "       18, 19, 20, 21, 22, 23, 24])"
            ]
          },
          "metadata": {
            "tags": []
          },
          "execution_count": 55
        }
      ]
    },
    {
      "cell_type": "markdown",
      "metadata": {
        "id": "6MSIvJZkQrHr"
      },
      "source": [
        "##Indexing"
      ]
    },
    {
      "cell_type": "code",
      "metadata": {
        "colab": {
          "base_uri": "https://localhost:8080/"
        },
        "id": "RynHz55XONdQ",
        "outputId": "f86a5740-ae06-4fbc-dc2b-a78c40f94153"
      },
      "source": [
        "matrix"
      ],
      "execution_count": 57,
      "outputs": [
        {
          "output_type": "execute_result",
          "data": {
            "text/plain": [
              "array([[1, 2, 3],\n",
              "       [4, 5, 6]])"
            ]
          },
          "metadata": {
            "tags": []
          },
          "execution_count": 57
        }
      ]
    },
    {
      "cell_type": "code",
      "metadata": {
        "colab": {
          "base_uri": "https://localhost:8080/"
        },
        "id": "UujkHomdQyLs",
        "outputId": "b8f2e133-1246-4c64-a6d0-89547f130629"
      },
      "source": [
        "matrix[0][1]"
      ],
      "execution_count": 58,
      "outputs": [
        {
          "output_type": "execute_result",
          "data": {
            "text/plain": [
              "2"
            ]
          },
          "metadata": {
            "tags": []
          },
          "execution_count": 58
        }
      ]
    },
    {
      "cell_type": "code",
      "metadata": {
        "colab": {
          "base_uri": "https://localhost:8080/"
        },
        "id": "7S8IqOebQ7Q7",
        "outputId": "8fcebe21-f436-493f-8c54-bfea5f7847f7"
      },
      "source": [
        "matrix[0, 1]"
      ],
      "execution_count": 59,
      "outputs": [
        {
          "output_type": "execute_result",
          "data": {
            "text/plain": [
              "2"
            ]
          },
          "metadata": {
            "tags": []
          },
          "execution_count": 59
        }
      ]
    },
    {
      "cell_type": "code",
      "metadata": {
        "colab": {
          "base_uri": "https://localhost:8080/"
        },
        "id": "e6zS15qjRAtu",
        "outputId": "234b471f-0993-447b-de70-751fbcd4218a"
      },
      "source": [
        "#tensordml 19찍고 싶다\n",
        "tensor[1,1,2]"
      ],
      "execution_count": 60,
      "outputs": [
        {
          "output_type": "execute_result",
          "data": {
            "text/plain": [
              "19"
            ]
          },
          "metadata": {
            "tags": []
          },
          "execution_count": 60
        }
      ]
    },
    {
      "cell_type": "markdown",
      "metadata": {
        "id": "Xlb90jOlRtC4"
      },
      "source": [
        "##slicing\n",
        "시험문제 예상"
      ]
    },
    {
      "cell_type": "code",
      "metadata": {
        "colab": {
          "base_uri": "https://localhost:8080/"
        },
        "id": "2eM1B8hURr5m",
        "outputId": "feec922b-29af-44f5-f8a3-b9ab07b8c4ed"
      },
      "source": [
        "b = np.arange(16).reshape(4, -1)\n",
        "b"
      ],
      "execution_count": 63,
      "outputs": [
        {
          "output_type": "execute_result",
          "data": {
            "text/plain": [
              "array([[ 0,  1,  2,  3],\n",
              "       [ 4,  5,  6,  7],\n",
              "       [ 8,  9, 10, 11],\n",
              "       [12, 13, 14, 15]])"
            ]
          },
          "metadata": {
            "tags": []
          },
          "execution_count": 63
        }
      ]
    },
    {
      "cell_type": "code",
      "metadata": {
        "colab": {
          "base_uri": "https://localhost:8080/"
        },
        "id": "Zmbx01-hR0_t",
        "outputId": "c2ba3161-a40f-4bbe-8581-2c9bd168033d"
      },
      "source": [
        "#5,6,9,10\n",
        "b[1:3, 1:3]"
      ],
      "execution_count": 64,
      "outputs": [
        {
          "output_type": "execute_result",
          "data": {
            "text/plain": [
              "array([[ 5,  6],\n",
              "       [ 9, 10]])"
            ]
          },
          "metadata": {
            "tags": []
          },
          "execution_count": 64
        }
      ]
    },
    {
      "cell_type": "code",
      "metadata": {
        "colab": {
          "base_uri": "https://localhost:8080/"
        },
        "id": "0hsXxHSFSCBD",
        "outputId": "be76d0ca-f667-4730-fe59-ecee52b41ee0"
      },
      "source": [
        "#5,6,7 9,10,11\n",
        "b[1:3, 1::]"
      ],
      "execution_count": 65,
      "outputs": [
        {
          "output_type": "execute_result",
          "data": {
            "text/plain": [
              "array([[ 5,  6,  7],\n",
              "       [ 9, 10, 11]])"
            ]
          },
          "metadata": {
            "tags": []
          },
          "execution_count": 65
        }
      ]
    },
    {
      "cell_type": "code",
      "metadata": {
        "colab": {
          "base_uri": "https://localhost:8080/"
        },
        "id": "20XF8RyoSWp9",
        "outputId": "ed4c2b1b-7cec-49a4-e881-4e34708c143f"
      },
      "source": [
        "#1,3, 9, 11\n",
        "b[::2, 1::2]"
      ],
      "execution_count": 66,
      "outputs": [
        {
          "output_type": "execute_result",
          "data": {
            "text/plain": [
              "array([[ 1,  3],\n",
              "       [ 9, 11]])"
            ]
          },
          "metadata": {
            "tags": []
          },
          "execution_count": 66
        }
      ]
    },
    {
      "cell_type": "code",
      "metadata": {
        "id": "7rpundOtSrka"
      },
      "source": [
        "#2차원이상 대문자 1차원 소문자\n",
        "X, y = b[:, :-1], b[:, -1]\n"
      ],
      "execution_count": 71,
      "outputs": []
    },
    {
      "cell_type": "code",
      "metadata": {
        "id": "eACMM12DTjmH"
      },
      "source": [
        ""
      ],
      "execution_count": null,
      "outputs": []
    }
  ]
}