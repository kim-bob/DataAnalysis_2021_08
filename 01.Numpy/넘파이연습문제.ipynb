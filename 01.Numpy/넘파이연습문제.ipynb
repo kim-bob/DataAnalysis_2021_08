{
  "nbformat": 4,
  "nbformat_minor": 0,
  "metadata": {
    "colab": {
      "name": "넘파이연습문제.ipynb",
      "provenance": [],
      "collapsed_sections": []
    },
    "kernelspec": {
      "name": "python3",
      "display_name": "Python 3"
    },
    "language_info": {
      "name": "python"
    }
  },
  "cells": [
    {
      "cell_type": "code",
      "metadata": {
        "id": "s55VPklFQeXM"
      },
      "source": [
        "import numpy as np"
      ],
      "execution_count": 1,
      "outputs": []
    },
    {
      "cell_type": "code",
      "metadata": {
        "colab": {
          "base_uri": "https://localhost:8080/"
        },
        "id": "ZusVbjSgNiaB",
        "outputId": "cab91566-5bf8-4577-b03e-94b93875ab25"
      },
      "source": [
        "#1번\n",
        "a = np.array([[10,20,30,40], np.array([50,60,70,80])])\n",
        "a"
      ],
      "execution_count": null,
      "outputs": [
        {
          "output_type": "execute_result",
          "data": {
            "text/plain": [
              "array([[10, 20, 30, 40],\n",
              "       [50, 60, 70, 80]])"
            ]
          },
          "metadata": {
            "tags": []
          },
          "execution_count": 11
        }
      ]
    },
    {
      "cell_type": "code",
      "metadata": {
        "colab": {
          "base_uri": "https://localhost:8080/"
        },
        "id": "XJsKDojNOg10",
        "outputId": "2b2a4947-abb7-4073-bb17-c22a7f8600a1"
      },
      "source": [
        "#2번 -1 \n",
        "m = np.array([[ 0, 1, 2, 3, 4], [ 5, 6, 7, 8, 9], [10, 11, 12, 13, 14]])\n",
        "m[1, 2] #7값 인덱싱"
      ],
      "execution_count": null,
      "outputs": [
        {
          "output_type": "execute_result",
          "data": {
            "text/plain": [
              "7"
            ]
          },
          "metadata": {
            "tags": []
          },
          "execution_count": 23
        }
      ]
    },
    {
      "cell_type": "code",
      "metadata": {
        "colab": {
          "base_uri": "https://localhost:8080/"
        },
        "id": "gnZG_cvdPz7l",
        "outputId": "828dba1f-c85a-424b-ac62-46b9239c3836"
      },
      "source": [
        "m[2, 4] #14값 인덱싱"
      ],
      "execution_count": null,
      "outputs": [
        {
          "output_type": "execute_result",
          "data": {
            "text/plain": [
              "14"
            ]
          },
          "metadata": {
            "tags": []
          },
          "execution_count": 31
        }
      ]
    },
    {
      "cell_type": "code",
      "metadata": {
        "colab": {
          "base_uri": "https://localhost:8080/"
        },
        "id": "aZ_b_U_9Q0x3",
        "outputId": "de85954f-437e-4f23-ca27-6d1e4baf16a2"
      },
      "source": [
        "m[1, 1:3] #6, 7슬라이싱"
      ],
      "execution_count": null,
      "outputs": [
        {
          "output_type": "execute_result",
          "data": {
            "text/plain": [
              "array([6, 7])"
            ]
          },
          "metadata": {
            "tags": []
          },
          "execution_count": 34
        }
      ]
    },
    {
      "cell_type": "code",
      "metadata": {
        "colab": {
          "base_uri": "https://localhost:8080/"
        },
        "id": "YfnsPIWrRUEY",
        "outputId": "842d40ae-5d7d-4473-c442-a199dec655f5"
      },
      "source": [
        "m[1:3, 2] #7, 12 슬라이싱 "
      ],
      "execution_count": null,
      "outputs": [
        {
          "output_type": "execute_result",
          "data": {
            "text/plain": [
              "array([ 7, 12])"
            ]
          },
          "metadata": {
            "tags": []
          },
          "execution_count": 39
        }
      ]
    },
    {
      "cell_type": "code",
      "metadata": {
        "colab": {
          "base_uri": "https://localhost:8080/"
        },
        "id": "q3fqyuKSRio8",
        "outputId": "92e4b790-3a64-4bba-e606-e7429f230a44"
      },
      "source": [
        "m[:2, 3:5]"
      ],
      "execution_count": null,
      "outputs": [
        {
          "output_type": "execute_result",
          "data": {
            "text/plain": [
              "array([[3, 4],\n",
              "       [8, 9]])"
            ]
          },
          "metadata": {
            "tags": []
          },
          "execution_count": 50
        }
      ]
    },
    {
      "cell_type": "code",
      "metadata": {
        "colab": {
          "base_uri": "https://localhost:8080/"
        },
        "id": "v78vhvePS16q",
        "outputId": "f3f93cf1-f552-4043-b8c9-56be67c7522f"
      },
      "source": [
        "f = m.flatten()\n",
        "for i in f:\n",
        "    if i % 3 == 0 :\n",
        "        print(i, end=',')\n"
      ],
      "execution_count": null,
      "outputs": [
        {
          "output_type": "stream",
          "text": [
            "0,3,6,9,12,"
          ],
          "name": "stdout"
        }
      ]
    },
    {
      "cell_type": "code",
      "metadata": {
        "colab": {
          "base_uri": "https://localhost:8080/"
        },
        "id": "xvOJcT2bTYNe",
        "outputId": "d401c7e1-ca8f-4530-8ed5-b174048df60a"
      },
      "source": [
        "f = m.flatten()\n",
        "for i in f:\n",
        "    if i % 4 == 1 or i%3 == 0:\n",
        "        print(i, end=',')"
      ],
      "execution_count": null,
      "outputs": [
        {
          "output_type": "stream",
          "text": [
            "0,1,3,5,6,9,12,13,"
          ],
          "name": "stdout"
        }
      ]
    },
    {
      "cell_type": "code",
      "metadata": {
        "colab": {
          "base_uri": "https://localhost:8080/"
        },
        "id": "-21PqIOPWu2Y",
        "outputId": "e545fc2b-1adf-48ee-f09d-0b53dddd8e69"
      },
      "source": [
        "a = np.arange(4)\n",
        "np.tile(a, (4, 1))"
      ],
      "execution_count": null,
      "outputs": [
        {
          "output_type": "execute_result",
          "data": {
            "text/plain": [
              "array([[0, 1, 2, 3],\n",
              "       [0, 1, 2, 3],\n",
              "       [0, 1, 2, 3],\n",
              "       [0, 1, 2, 3]])"
            ]
          },
          "metadata": {
            "tags": []
          },
          "execution_count": 92
        }
      ]
    },
    {
      "cell_type": "code",
      "metadata": {
        "id": "E1O3DTUfX4JU"
      },
      "source": [
        ""
      ],
      "execution_count": null,
      "outputs": []
    },
    {
      "cell_type": "markdown",
      "metadata": {
        "id": "9fLWKVTvjDdu"
      },
      "source": [
        "#선생님 문제풀이"
      ]
    },
    {
      "cell_type": "code",
      "metadata": {
        "id": "OOEVw5q4jE5T",
        "colab": {
          "base_uri": "https://localhost:8080/"
        },
        "outputId": "f630591c-072e-4126-be6d-d9d56800533f"
      },
      "source": [
        "#1번\n",
        "np.arange(1,9).reshape(2,4)*10"
      ],
      "execution_count": null,
      "outputs": [
        {
          "output_type": "execute_result",
          "data": {
            "text/plain": [
              "array([[10, 20, 30, 40],\n",
              "       [50, 60, 70, 80]])"
            ]
          },
          "metadata": {
            "tags": []
          },
          "execution_count": 94
        }
      ]
    },
    {
      "cell_type": "code",
      "metadata": {
        "id": "K9eN2F1dlMdD"
      },
      "source": [
        "#2번\n",
        "m = np.arange(15).reshape(3,5)\n",
        "m[1,2] #2-1\n",
        "m[-1,-1] #2-2\n",
        "m[1, 1:3] #2-3\n",
        "m[1:, 2] #2-4\n",
        "m[:2, 3:] #2-5"
      ],
      "execution_count": null,
      "outputs": []
    },
    {
      "cell_type": "code",
      "metadata": {
        "id": "o-9CSlRYl8R6"
      },
      "source": [
        "#Boolean indexing\n",
        "#3번\n",
        "#3-1\n",
        "f=m.flatten()\n",
        "f[f%3==0]\n",
        "#3-2\n",
        "f[f%4==1]\n",
        "#3-3\n",
        "f[np.logical_and(f%3==0,f%4==1)]\n"
      ],
      "execution_count": null,
      "outputs": []
    },
    {
      "cell_type": "code",
      "metadata": {
        "colab": {
          "base_uri": "https://localhost:8080/"
        },
        "id": "WFFD3UWQmqxG",
        "outputId": "136329e9-b192-4a74-dd1f-9981efd25996"
      },
      "source": [
        "#eye로 행렬만들기\n",
        "np.eye(5, 5, k=-1)*3 + np.eye(5,5)*2 + np.eye(5,5, k=1) #5 by5\n"
      ],
      "execution_count": null,
      "outputs": [
        {
          "output_type": "execute_result",
          "data": {
            "text/plain": [
              "array([[2., 1., 0., 0., 0.],\n",
              "       [3., 2., 1., 0., 0.],\n",
              "       [0., 3., 2., 1., 0.],\n",
              "       [0., 0., 3., 2., 1.],\n",
              "       [0., 0., 0., 3., 2.]])"
            ]
          },
          "metadata": {
            "tags": []
          },
          "execution_count": 95
        }
      ]
    },
    {
      "cell_type": "code",
      "metadata": {
        "colab": {
          "base_uri": "https://localhost:8080/"
        },
        "id": "P8WhFWqBm_h2",
        "outputId": "7e8861da-44d4-4993-8a9e-0bdc8fc3f54b"
      },
      "source": [
        "# Matrix operation\n",
        "np.random.seed(2021)\n",
        "m = np.random.uniform(0, 10, 30).reshape(5,6).round(4) #0에서 10까지 30개 뽑기 5바이 6 \n",
        "m\n"
      ],
      "execution_count": null,
      "outputs": [
        {
          "output_type": "execute_result",
          "data": {
            "text/plain": [
              "array([[6.0598, 7.3337, 1.3895, 3.1267, 9.9724, 1.2816],\n",
              "       [1.7899, 7.5293, 6.6216, 7.8431, 0.9689, 0.5857],\n",
              "       [9.624 , 6.1656, 0.8663, 5.6127, 6.1652, 9.6384],\n",
              "       [5.743 , 3.7116, 4.5215, 2.0185, 5.6931, 1.951 ],\n",
              "       [5.837 , 4.7631, 5.1781, 8.231 , 7.3223, 0.6906]])"
            ]
          },
          "metadata": {
            "tags": []
          },
          "execution_count": 99
        }
      ]
    },
    {
      "cell_type": "code",
      "metadata": {
        "id": "49W_gp2cnWhy"
      },
      "source": [
        "#5-1\n",
        "np.max(m)\n",
        "#5-2\n",
        "np.sum(m, axis=1)\n",
        "#5-3\n",
        "np.max(m, axis=1)\n",
        "#5-4\n",
        "np.mean(m, axis=0)\n",
        "#5-5\n",
        "np.min(m, axis=0)\n"
      ],
      "execution_count": null,
      "outputs": []
    },
    {
      "cell_type": "code",
      "metadata": {
        "colab": {
          "base_uri": "https://localhost:8080/"
        },
        "id": "M51c6B4AoCA2",
        "outputId": "b3af6515-0944-46b1-b36b-7d60af7006e5"
      },
      "source": [
        "#6번\n",
        "score = np.array([[1,2,3,4],[46,99,100,71],[81,59,90,100]])\n",
        "score"
      ],
      "execution_count": null,
      "outputs": [
        {
          "output_type": "execute_result",
          "data": {
            "text/plain": [
              "array([[  1,   2,   3,   4],\n",
              "       [ 46,  99, 100,  71],\n",
              "       [ 81,  59,  90, 100]])"
            ]
          },
          "metadata": {
            "tags": []
          },
          "execution_count": 100
        }
      ]
    },
    {
      "cell_type": "code",
      "metadata": {
        "colab": {
          "base_uri": "https://localhost:8080/"
        },
        "id": "4HP8flTsoYNJ",
        "outputId": "6c1b70b7-2405-4f8f-c382-4191367a526a"
      },
      "source": [
        "np.sort(score)"
      ],
      "execution_count": null,
      "outputs": [
        {
          "output_type": "execute_result",
          "data": {
            "text/plain": [
              "array([[  1,   2,   3,   4],\n",
              "       [ 46,  71,  99, 100],\n",
              "       [ 59,  81,  90, 100]])"
            ]
          },
          "metadata": {
            "tags": []
          },
          "execution_count": 102
        }
      ]
    },
    {
      "cell_type": "code",
      "metadata": {
        "colab": {
          "base_uri": "https://localhost:8080/"
        },
        "id": "6p-lHe7RobeQ",
        "outputId": "d981edd0-0620-451c-fc96-787c760caa7d"
      },
      "source": [
        "s = np.argsort(score[1])\n",
        "s"
      ],
      "execution_count": null,
      "outputs": [
        {
          "output_type": "execute_result",
          "data": {
            "text/plain": [
              "array([0, 3, 1, 2])"
            ]
          },
          "metadata": {
            "tags": []
          },
          "execution_count": 104
        }
      ]
    },
    {
      "cell_type": "code",
      "metadata": {
        "colab": {
          "base_uri": "https://localhost:8080/"
        },
        "id": "CrYmpqL5ovBi",
        "outputId": "ca70e7e8-90f7-4eab-a05e-056bed55560e"
      },
      "source": [
        "#내림차순\n",
        "s[::-1]"
      ],
      "execution_count": null,
      "outputs": [
        {
          "output_type": "execute_result",
          "data": {
            "text/plain": [
              "array([2, 1, 3, 0])"
            ]
          },
          "metadata": {
            "tags": []
          },
          "execution_count": 105
        }
      ]
    },
    {
      "cell_type": "code",
      "metadata": {
        "colab": {
          "base_uri": "https://localhost:8080/"
        },
        "id": "N39Bj1HOo1i7",
        "outputId": "54319bf2-f1d2-45c9-ae56-7a3e854a7bec"
      },
      "source": [
        "score[:, s[::-1]]"
      ],
      "execution_count": null,
      "outputs": [
        {
          "output_type": "execute_result",
          "data": {
            "text/plain": [
              "array([[  3,   2,   4,   1],\n",
              "       [100,  99,  71,  46],\n",
              "       [ 90,  59, 100,  81]])"
            ]
          },
          "metadata": {
            "tags": []
          },
          "execution_count": 108
        }
      ]
    },
    {
      "cell_type": "code",
      "metadata": {
        "colab": {
          "base_uri": "https://localhost:8080/"
        },
        "id": "hIFNj1W7o8ln",
        "outputId": "afb25b7d-f5b2-4547-fe7c-c53e8f9272cb"
      },
      "source": [
        "#한번에 소팅하는 방법\n",
        "score[:, np.argsort(score[1])[::-1]]"
      ],
      "execution_count": null,
      "outputs": [
        {
          "output_type": "execute_result",
          "data": {
            "text/plain": [
              "array([[  3,   2,   4,   1],\n",
              "       [100,  99,  71,  46],\n",
              "       [ 90,  59, 100,  81]])"
            ]
          },
          "metadata": {
            "tags": []
          },
          "execution_count": 109
        }
      ]
    },
    {
      "cell_type": "code",
      "metadata": {
        "id": "u-k7BDGwpMqS"
      },
      "source": [
        "###7번 주사위 100번"
      ],
      "execution_count": null,
      "outputs": []
    },
    {
      "cell_type": "code",
      "metadata": {
        "colab": {
          "base_uri": "https://localhost:8080/"
        },
        "id": "Lg6NcJkZpWXy",
        "outputId": "77663e6e-327f-44f5-c246-708d21060735"
      },
      "source": [
        "np.random.seed(2021)\n",
        "dice = np.random.randint(1, 7, 100)\n",
        "dice"
      ],
      "execution_count": null,
      "outputs": [
        {
          "output_type": "execute_result",
          "data": {
            "text/plain": [
              "array([5, 6, 2, 1, 6, 5, 4, 6, 6, 6, 1, 5, 2, 6, 2, 2, 5, 6, 3, 3, 1, 4,\n",
              "       2, 1, 3, 4, 5, 6, 1, 6, 2, 3, 6, 2, 6, 2, 3, 3, 5, 6, 3, 4, 2, 3,\n",
              "       3, 1, 3, 5, 6, 4, 4, 2, 2, 2, 3, 6, 4, 4, 5, 4, 2, 5, 2, 2, 5, 4,\n",
              "       6, 4, 4, 4, 3, 2, 4, 3, 6, 3, 3, 1, 5, 4, 2, 4, 2, 5, 3, 4, 2, 3,\n",
              "       6, 3, 6, 3, 4, 5, 6, 2, 2, 6, 1, 6])"
            ]
          },
          "metadata": {
            "tags": []
          },
          "execution_count": 111
        }
      ]
    },
    {
      "cell_type": "code",
      "metadata": {
        "colab": {
          "base_uri": "https://localhost:8080/"
        },
        "id": "PyCGrx52pdJn",
        "outputId": "bda67d38-5325-445f-8003-581cf2447d0a"
      },
      "source": [
        "np.mean(dice)\n"
      ],
      "execution_count": null,
      "outputs": [
        {
          "output_type": "execute_result",
          "data": {
            "text/plain": [
              "3.7"
            ]
          },
          "metadata": {
            "tags": []
          },
          "execution_count": 112
        }
      ]
    },
    {
      "cell_type": "code",
      "metadata": {
        "colab": {
          "base_uri": "https://localhost:8080/"
        },
        "id": "7KgqJ6typkQh",
        "outputId": "62661dfa-1876-4927-a792-be41e60fba9a"
      },
      "source": [
        "np.unique(dice)"
      ],
      "execution_count": null,
      "outputs": [
        {
          "output_type": "execute_result",
          "data": {
            "text/plain": [
              "array([1, 2, 3, 4, 5, 6])"
            ]
          },
          "metadata": {
            "tags": []
          },
          "execution_count": 113
        }
      ]
    },
    {
      "cell_type": "markdown",
      "metadata": {
        "id": "2NkaYZsXiHer"
      },
      "source": [
        "연습문제 7"
      ]
    },
    {
      "cell_type": "code",
      "metadata": {
        "colab": {
          "base_uri": "https://localhost:8080/"
        },
        "id": "OylfBz7wiEZk",
        "outputId": "dbcd5dd6-af8c-43de-9fe0-fa11e6d60cca"
      },
      "source": [
        "np.random.seed(2021)\n",
        "\n",
        "price = 10000\n",
        "rate = np.random.normal(0, 0.01, 10)\n",
        "for i in range(10):\n",
        "    price = price + np.round(price*rate[i])\n",
        "    print(price, end=', ')"
      ],
      "execution_count": 4,
      "outputs": [
        {
          "output_type": "stream",
          "text": [
            "10149.0, 10218.0, 10175.0, 10093.0, 10149.0, 10077.0, 10191.0, 10257.0, 10268.0, 10311.0, "
          ],
          "name": "stdout"
        }
      ]
    },
    {
      "cell_type": "code",
      "metadata": {
        "id": "IFjZIj-6p00C"
      },
      "source": [
        "np.random.seed(2021)\n",
        "price_List = []\n",
        "rate = np.random.normal(0, 0.01, 250)\n",
        "price = 10000\n",
        "for i in range(250):\n",
        "    price += np.round(price * rate[i])\n",
        "    price_List.append(int(price))\n",
        "    "
      ],
      "execution_count": 5,
      "outputs": []
    },
    {
      "cell_type": "code",
      "metadata": {
        "colab": {
          "base_uri": "https://localhost:8080/"
        },
        "id": "DWmqH91NkKGV",
        "outputId": "ccde58ca-5566-4fc3-b49d-d6d8b778df92"
      },
      "source": [
        "price_List[:10]"
      ],
      "execution_count": 6,
      "outputs": [
        {
          "output_type": "execute_result",
          "data": {
            "text/plain": [
              "[10149, 10218, 10175, 10093, 10149, 10077, 10191, 10257, 10268, 10311]"
            ]
          },
          "metadata": {
            "tags": []
          },
          "execution_count": 6
        }
      ]
    },
    {
      "cell_type": "code",
      "metadata": {
        "id": "KAVTI5SIkMfl"
      },
      "source": [
        ""
      ],
      "execution_count": null,
      "outputs": []
    }
  ]
}