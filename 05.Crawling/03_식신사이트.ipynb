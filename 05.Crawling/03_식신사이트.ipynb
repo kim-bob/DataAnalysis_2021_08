{
  "nbformat": 4,
  "nbformat_minor": 0,
  "metadata": {
    "colab": {
      "name": "03_식신사이트.ipynb",
      "provenance": [],
      "collapsed_sections": []
    },
    "kernelspec": {
      "name": "python3",
      "display_name": "Python 3"
    },
    "language_info": {
      "name": "python"
    }
  },
  "cells": [
    {
      "cell_type": "markdown",
      "metadata": {
        "id": "07nOTKfTtdIN"
      },
      "source": [
        "# 식신 - 양재역으로 검색\n",
        "- 명칭, 주요메뉴, 평점, 전화번호, 주소"
      ]
    },
    {
      "cell_type": "code",
      "metadata": {
        "id": "3ff_SuVVtNPO"
      },
      "source": [
        "from bs4 import BeautifulSoup\n",
        "import requests \n",
        "import pandas as pd\n",
        "from urllib.parse import quote #base 64 인코딩 한글로 전달"
      ],
      "execution_count": 1,
      "outputs": []
    },
    {
      "cell_type": "markdown",
      "metadata": {
        "id": "zat0HLQRt6vV"
      },
      "source": [
        "- 데이터 가져오기"
      ]
    },
    {
      "cell_type": "code",
      "metadata": {
        "id": "Pm1QLN_Mt3qP"
      },
      "source": [
        "base_url = 'https://www.siksinhot.com'\n",
        "url = f'{base_url}/search?keywords={quote(\"양재역\")}'\n",
        "req = requests.get(url)\n",
        "html = req.text"
      ],
      "execution_count": 4,
      "outputs": []
    },
    {
      "cell_type": "code",
      "metadata": {
        "id": "ow2XyCRGuy_i"
      },
      "source": [
        "soup = BeautifulSoup(html, 'html.parser')\n"
      ],
      "execution_count": 5,
      "outputs": []
    },
    {
      "cell_type": "code",
      "metadata": {
        "colab": {
          "base_uri": "https://localhost:8080/"
        },
        "id": "75RZMkslvOWN",
        "outputId": "4de51b51-883d-4f9e-a53a-8dd6af160257"
      },
      "source": [
        "lis = soup.select('div.listTy1 > ul > li')\n",
        "len(lis)"
      ],
      "execution_count": 6,
      "outputs": [
        {
          "output_type": "execute_result",
          "data": {
            "text/plain": [
              "12"
            ]
          },
          "metadata": {
            "tags": []
          },
          "execution_count": 6
        }
      ]
    },
    {
      "cell_type": "code",
      "metadata": {
        "id": "P8SwS63Pwhlt"
      },
      "source": [
        "li = lis[0]\n",
        "href = li.select_one('a')['href']"
      ],
      "execution_count": 7,
      "outputs": []
    },
    {
      "cell_type": "code",
      "metadata": {
        "id": "A9hNESQ6xDKA"
      },
      "source": [
        "url = base_url + href\n",
        "req = requests.get(url)\n",
        "sub_soup = BeautifulSoup(req.text, 'html.parser')\n"
      ],
      "execution_count": 8,
      "outputs": []
    },
    {
      "cell_type": "code",
      "metadata": {
        "id": "27wq4te8ywjz"
      },
      "source": [
        "#store\n",
        "store = sub_soup.select_one('.title')\n",
        "info = store.find('h3').get_text()"
      ],
      "execution_count": 9,
      "outputs": []
    },
    {
      "cell_type": "code",
      "metadata": {
        "colab": {
          "base_uri": "https://localhost:8080/",
          "height": 35
        },
        "id": "dMcu4esPzRjn",
        "outputId": "075d8b1a-bea7-4648-a00e-23fbc81a22c7"
      },
      "source": [
        "score = store.select_one('h3 > strong').string\n",
        "score"
      ],
      "execution_count": 10,
      "outputs": [
        {
          "output_type": "execute_result",
          "data": {
            "application/vnd.google.colaboratory.intrinsic+json": {
              "type": "string"
            },
            "text/plain": [
              "'3.6'"
            ]
          },
          "metadata": {
            "tags": []
          },
          "execution_count": 10
        }
      ]
    },
    {
      "cell_type": "code",
      "metadata": {
        "colab": {
          "base_uri": "https://localhost:8080/"
        },
        "id": "QqNQi_Srzo2e",
        "outputId": "d4d13b49-453b-4d6b-f320-0d9c7df96d86"
      },
      "source": [
        "info.find(score)"
      ],
      "execution_count": 11,
      "outputs": [
        {
          "output_type": "execute_result",
          "data": {
            "text/plain": [
              "10"
            ]
          },
          "metadata": {
            "tags": []
          },
          "execution_count": 11
        }
      ]
    },
    {
      "cell_type": "code",
      "metadata": {
        "colab": {
          "base_uri": "https://localhost:8080/",
          "height": 35
        },
        "id": "JPmkFwTWz5Bg",
        "outputId": "55de016f-95c4-485d-887b-402989b2e686"
      },
      "source": [
        "name = info[:info.find(score)] #사이트가 지저분해서 그냥 서브스트링으로 글자 분리함\n",
        "name"
      ],
      "execution_count": 12,
      "outputs": [
        {
          "output_type": "execute_result",
          "data": {
            "application/vnd.google.colaboratory.intrinsic+json": {
              "type": "string"
            },
            "text/plain": [
              "'그릭슈바인 양재역점'"
            ]
          },
          "metadata": {
            "tags": []
          },
          "execution_count": 12
        }
      ]
    },
    {
      "cell_type": "code",
      "metadata": {
        "id": "upxBtcHG0SDm"
      },
      "source": [
        "menue = sub_soup.select('.store_info p')[1].get_text()\n"
      ],
      "execution_count": 13,
      "outputs": []
    },
    {
      "cell_type": "code",
      "metadata": {
        "colab": {
          "base_uri": "https://localhost:8080/",
          "height": 35
        },
        "id": "AQp23dya05wb",
        "outputId": "2a59df10-6872-4807-a227-6a94db896618"
      },
      "source": [
        "tel = sub_soup.select_one('.p_tel p').get_text()\n",
        "tel\n",
        "\n",
        "#.select_one('a').get_text()"
      ],
      "execution_count": 14,
      "outputs": [
        {
          "output_type": "execute_result",
          "data": {
            "application/vnd.google.colaboratory.intrinsic+json": {
              "type": "string"
            },
            "text/plain": [
              "'02-572-6100'"
            ]
          },
          "metadata": {
            "tags": []
          },
          "execution_count": 14
        }
      ]
    },
    {
      "cell_type": "code",
      "metadata": {
        "id": "rwGCqN5z1Tzv"
      },
      "source": [
        "addr = sub_soup.select_one('.txt_adr').string"
      ],
      "execution_count": 15,
      "outputs": []
    },
    {
      "cell_type": "code",
      "metadata": {
        "colab": {
          "base_uri": "https://localhost:8080/",
          "height": 247
        },
        "id": "tXNrW0oH2BGZ",
        "outputId": "f9915d92-6d94-48e3-ee00-6dc1227e7755"
      },
      "source": [
        "name_list, score_list, tel_list, menu_list, addr_list =[], [], [], [], []\n",
        "for li in lis:\n",
        "    href = li.select_one('a')['href']\n",
        "    url = base_url + href\n",
        "    req = requests.get(url)\n",
        "    sub_soup = BeautifulSoup(req.text, 'html.parser')\n",
        "    store = sub_soup.select_one('.title')\n",
        "    info = store.find('h3').get_text()\n",
        "    score = store.select_one('h3 > strong').string\n",
        "    name = info[:info.find(score)]\n",
        "    menu = sub_soup.select('.store_info p')[1].get_text()\n",
        "    tel = sub_soup.select_one('.p_tel p').get_text()\n",
        "    addr = sub_soup.select_one('.txt_adr').string\n",
        "\n",
        "    name_list.append(name)\n",
        "    score_list.append(score)\n",
        "    menu_list.append(menu)\n",
        "    tel_list.append(tel)\n",
        "    addr_list.append(addr)\n",
        "   "
      ],
      "execution_count": 27,
      "outputs": [
        {
          "output_type": "error",
          "ename": "TypeError",
          "evalue": "ignored",
          "traceback": [
            "\u001b[0;31m---------------------------------------------------------------------------\u001b[0m",
            "\u001b[0;31mTypeError\u001b[0m                                 Traceback (most recent call last)",
            "\u001b[0;32m<ipython-input-27-0ad6380586d1>\u001b[0m in \u001b[0;36m<module>\u001b[0;34m()\u001b[0m\n\u001b[1;32m      8\u001b[0m     \u001b[0minfo\u001b[0m \u001b[0;34m=\u001b[0m \u001b[0mstore\u001b[0m\u001b[0;34m.\u001b[0m\u001b[0mfind\u001b[0m\u001b[0;34m(\u001b[0m\u001b[0;34m'h3'\u001b[0m\u001b[0;34m)\u001b[0m\u001b[0;34m.\u001b[0m\u001b[0mget_text\u001b[0m\u001b[0;34m(\u001b[0m\u001b[0;34m)\u001b[0m\u001b[0;34m\u001b[0m\u001b[0;34m\u001b[0m\u001b[0m\n\u001b[1;32m      9\u001b[0m     \u001b[0mscore\u001b[0m \u001b[0;34m=\u001b[0m \u001b[0mstore\u001b[0m\u001b[0;34m.\u001b[0m\u001b[0mselect_one\u001b[0m\u001b[0;34m(\u001b[0m\u001b[0;34m'h3 > strong'\u001b[0m\u001b[0;34m)\u001b[0m\u001b[0;34m.\u001b[0m\u001b[0mstring\u001b[0m\u001b[0;34m\u001b[0m\u001b[0;34m\u001b[0m\u001b[0m\n\u001b[0;32m---> 10\u001b[0;31m     \u001b[0mname\u001b[0m \u001b[0;34m=\u001b[0m \u001b[0minfo\u001b[0m\u001b[0;34m[\u001b[0m\u001b[0;34m:\u001b[0m\u001b[0minfo\u001b[0m\u001b[0;34m.\u001b[0m\u001b[0mfind\u001b[0m\u001b[0;34m(\u001b[0m\u001b[0mscore\u001b[0m\u001b[0;34m)\u001b[0m\u001b[0;34m]\u001b[0m\u001b[0;34m\u001b[0m\u001b[0;34m\u001b[0m\u001b[0m\n\u001b[0m\u001b[1;32m     11\u001b[0m     \u001b[0mmenu\u001b[0m \u001b[0;34m=\u001b[0m \u001b[0msub_soup\u001b[0m\u001b[0;34m.\u001b[0m\u001b[0mselect\u001b[0m\u001b[0;34m(\u001b[0m\u001b[0;34m'.store_info p'\u001b[0m\u001b[0;34m)\u001b[0m\u001b[0;34m[\u001b[0m\u001b[0;36m1\u001b[0m\u001b[0;34m]\u001b[0m\u001b[0;34m.\u001b[0m\u001b[0mget_text\u001b[0m\u001b[0;34m(\u001b[0m\u001b[0;34m)\u001b[0m\u001b[0;34m\u001b[0m\u001b[0;34m\u001b[0m\u001b[0m\n\u001b[1;32m     12\u001b[0m     \u001b[0mtel\u001b[0m \u001b[0;34m=\u001b[0m \u001b[0msub_soup\u001b[0m\u001b[0;34m.\u001b[0m\u001b[0mselect_one\u001b[0m\u001b[0;34m(\u001b[0m\u001b[0;34m'.p_tel p'\u001b[0m\u001b[0;34m)\u001b[0m\u001b[0;34m.\u001b[0m\u001b[0mget_text\u001b[0m\u001b[0;34m(\u001b[0m\u001b[0;34m)\u001b[0m\u001b[0;34m\u001b[0m\u001b[0;34m\u001b[0m\u001b[0m\n",
            "\u001b[0;31mTypeError\u001b[0m: must be str, not NoneType"
          ]
        }
      ]
    },
    {
      "cell_type": "code",
      "metadata": {
        "colab": {
          "base_uri": "https://localhost:8080/"
        },
        "id": "Kq37MUTS3CqG",
        "outputId": "81f1d24f-9d99-4f6e-bb20-6308fac9a619"
      },
      "source": [
        "#에러가 난다면\n",
        "name_list, score_list, tel_list, menu_list, addr_list =[], [], [], [], []\n",
        "for i, li in enumerate(lis): \n",
        "    href = li.select_one('a')['href']\n",
        "    url = base_url + href\n",
        "    req = requests.get(url)\n",
        "    sub_soup = BeautifulSoup(req.text, 'html.parser')\n",
        "    \n",
        "    try : \n",
        "        store = sub_soup.select_one('.title')\n",
        "        info = store.find('h3').get_text()\n",
        "        score = store.select_one('h3 > strong').string\n",
        "        name = info[:info.find(score)]\n",
        "        menue = sub_soup.select('.store_info p')[1].get_text()\n",
        "        tel = sub_soup.select_one('.p_tel p').get_text()\n",
        "        addr = sub_soup.select_one('.txt_adr').string\n",
        "        name_list.append(name)\n",
        "        score_list.append(score)\n",
        "        menu_list.append(menu)\n",
        "        tel_list.append(tel)\n",
        "        addr_list.append(addr)\n",
        "    except :\n",
        "        print(i)\n"
      ],
      "execution_count": 17,
      "outputs": [
        {
          "output_type": "stream",
          "text": [
            "3\n",
            "4\n"
          ],
          "name": "stdout"
        }
      ]
    },
    {
      "cell_type": "code",
      "metadata": {
        "id": "UYA9GQkj4kSg"
      },
      "source": [
        "df = pd.DataFrame({\n",
        "             '식당명' : name_list,\n",
        "             '평점' : score_list,\n",
        "             '메뉴' : menu_list,\n",
        "             '전화번호' : tel_list,\n",
        "             '주소' : addr_list\n",
        "            \n",
        "\n",
        "})"
      ],
      "execution_count": 18,
      "outputs": []
    },
    {
      "cell_type": "code",
      "metadata": {
        "colab": {
          "base_uri": "https://localhost:8080/",
          "height": 355
        },
        "id": "qJgt2Oott6CE",
        "outputId": "829f7350-85b6-4bd8-ee1a-126e39781b59"
      },
      "source": [
        "df"
      ],
      "execution_count": 19,
      "outputs": [
        {
          "output_type": "execute_result",
          "data": {
            "text/html": [
              "<div>\n",
              "<style scoped>\n",
              "    .dataframe tbody tr th:only-of-type {\n",
              "        vertical-align: middle;\n",
              "    }\n",
              "\n",
              "    .dataframe tbody tr th {\n",
              "        vertical-align: top;\n",
              "    }\n",
              "\n",
              "    .dataframe thead th {\n",
              "        text-align: right;\n",
              "    }\n",
              "</style>\n",
              "<table border=\"1\" class=\"dataframe\">\n",
              "  <thead>\n",
              "    <tr style=\"text-align: right;\">\n",
              "      <th></th>\n",
              "      <th>식당명</th>\n",
              "      <th>평점</th>\n",
              "      <th>메뉴</th>\n",
              "      <th>전화번호</th>\n",
              "      <th>주소</th>\n",
              "    </tr>\n",
              "  </thead>\n",
              "  <tbody>\n",
              "    <tr>\n",
              "      <th>0</th>\n",
              "      <td>그릭슈바인 양재역점</td>\n",
              "      <td>3.6</td>\n",
              "      <td>한국음식 &gt; 회</td>\n",
              "      <td>02-572-6100</td>\n",
              "      <td>서울특별시 서초구 강남대로 224</td>\n",
              "    </tr>\n",
              "    <tr>\n",
              "      <th>1</th>\n",
              "      <td>미스터브리즈 양재역점</td>\n",
              "      <td>3.4</td>\n",
              "      <td>한국음식 &gt; 회</td>\n",
              "      <td>02-576-4333</td>\n",
              "      <td>서울 서초구 강남대로34길 6</td>\n",
              "    </tr>\n",
              "    <tr>\n",
              "      <th>2</th>\n",
              "      <td>동신참치 양재역점</td>\n",
              "      <td>3.0</td>\n",
              "      <td>한국음식 &gt; 회</td>\n",
              "      <td>02-529-7130</td>\n",
              "      <td>서울 서초구 강남대로 213</td>\n",
              "    </tr>\n",
              "    <tr>\n",
              "      <th>3</th>\n",
              "      <td>영동족발 3호점</td>\n",
              "      <td>4.1</td>\n",
              "      <td>한국음식 &gt; 회</td>\n",
              "      <td>02-575-0250</td>\n",
              "      <td>서울특별시 서초구 남부순환로 2628-18</td>\n",
              "    </tr>\n",
              "    <tr>\n",
              "      <th>4</th>\n",
              "      <td>황재벌</td>\n",
              "      <td>3.9</td>\n",
              "      <td>한국음식 &gt; 회</td>\n",
              "      <td>02-3471-5454</td>\n",
              "      <td>서울특별시 서초구 남부순환로347길 42-4 신화빌딩</td>\n",
              "    </tr>\n",
              "    <tr>\n",
              "      <th>5</th>\n",
              "      <td>김영모과자점 도곡타워점</td>\n",
              "      <td>4.1</td>\n",
              "      <td>한국음식 &gt; 회</td>\n",
              "      <td>02-3460-2005</td>\n",
              "      <td>서울특별시 강남구 언주로30길 10 현대비젼21</td>\n",
              "    </tr>\n",
              "    <tr>\n",
              "      <th>6</th>\n",
              "      <td>소호정 본점</td>\n",
              "      <td>4.0</td>\n",
              "      <td>한국음식 &gt; 회</td>\n",
              "      <td>02-579-7282</td>\n",
              "      <td>서울특별시 서초구 논현로 27</td>\n",
              "    </tr>\n",
              "    <tr>\n",
              "      <th>7</th>\n",
              "      <td>산동칼국수</td>\n",
              "      <td>3.9</td>\n",
              "      <td>한국음식 &gt; 회</td>\n",
              "      <td>02-3473-7972</td>\n",
              "      <td>서울특별시 서초구 강남대로37길 63</td>\n",
              "    </tr>\n",
              "    <tr>\n",
              "      <th>8</th>\n",
              "      <td>양재정육식당</td>\n",
              "      <td>4.1</td>\n",
              "      <td>한국음식 &gt; 회</td>\n",
              "      <td>02-577-5804</td>\n",
              "      <td>서울 서초구 바우뫼로35길 3</td>\n",
              "    </tr>\n",
              "    <tr>\n",
              "      <th>9</th>\n",
              "      <td>스타쉐프</td>\n",
              "      <td>3.9</td>\n",
              "      <td>한국음식 &gt; 회</td>\n",
              "      <td>02-529-8248</td>\n",
              "      <td>서울특별시 강남구 논현로38길 38-6</td>\n",
              "    </tr>\n",
              "  </tbody>\n",
              "</table>\n",
              "</div>"
            ],
            "text/plain": [
              "            식당명   평점        메뉴          전화번호                             주소\n",
              "0    그릭슈바인 양재역점  3.6  한국음식 > 회   02-572-6100             서울특별시 서초구 강남대로 224\n",
              "1   미스터브리즈 양재역점  3.4  한국음식 > 회   02-576-4333               서울 서초구 강남대로34길 6\n",
              "2     동신참치 양재역점  3.0  한국음식 > 회   02-529-7130                서울 서초구 강남대로 213\n",
              "3      영동족발 3호점  4.1  한국음식 > 회   02-575-0250        서울특별시 서초구 남부순환로 2628-18\n",
              "4           황재벌  3.9  한국음식 > 회  02-3471-5454  서울특별시 서초구 남부순환로347길 42-4 신화빌딩\n",
              "5  김영모과자점 도곡타워점  4.1  한국음식 > 회  02-3460-2005     서울특별시 강남구 언주로30길 10 현대비젼21\n",
              "6        소호정 본점  4.0  한국음식 > 회   02-579-7282               서울특별시 서초구 논현로 27\n",
              "7         산동칼국수  3.9  한국음식 > 회  02-3473-7972           서울특별시 서초구 강남대로37길 63\n",
              "8        양재정육식당  4.1  한국음식 > 회   02-577-5804               서울 서초구 바우뫼로35길 3\n",
              "9          스타쉐프  3.9  한국음식 > 회   02-529-8248          서울특별시 강남구 논현로38길 38-6"
            ]
          },
          "metadata": {
            "tags": []
          },
          "execution_count": 19
        }
      ]
    },
    {
      "cell_type": "code",
      "metadata": {
        "colab": {
          "base_uri": "https://localhost:8080/",
          "height": 35
        },
        "id": "5a302fMIuIOR",
        "outputId": "5f1db66d-6437-4966-8e00-9435ec6ea9e1"
      },
      "source": [
        "li = lis[1]\n",
        "li.select_one('.store').string"
      ],
      "execution_count": 28,
      "outputs": [
        {
          "output_type": "execute_result",
          "data": {
            "application/vnd.google.colaboratory.intrinsic+json": {
              "type": "string"
            },
            "text/plain": [
              "'미스터브리즈 양재역점'"
            ]
          },
          "metadata": {
            "tags": []
          },
          "execution_count": 28
        }
      ]
    },
    {
      "cell_type": "code",
      "metadata": {
        "id": "mS_1hESvv0rJ"
      },
      "source": [
        "li.select"
      ],
      "execution_count": null,
      "outputs": []
    },
    {
      "cell_type": "code",
      "metadata": {
        "id": "kfsdQVAGzi0f"
      },
      "source": [
        ""
      ],
      "execution_count": null,
      "outputs": []
    },
    {
      "cell_type": "code",
      "metadata": {
        "id": "LLCgMUEFzSQw"
      },
      "source": [
        "score = li.select_one('em').string"
      ],
      "execution_count": null,
      "outputs": []
    },
    {
      "cell_type": "code",
      "metadata": {
        "id": "Ly3szNTk1mKu"
      },
      "source": [
        "# #contents > div > div > div.content > div.sec_left > div > div:nth-child(1) > div:nth-child(1) > p\n",
        "menu = sub_soup.select('.store_info p')[1].get_text()\n",
        "menu"
      ],
      "execution_count": null,
      "outputs": []
    },
    {
      "cell_type": "code",
      "metadata": {
        "id": "PK43ltZS2hdu"
      },
      "source": [
        "li.select_one('.cnt p').get_text()"
      ],
      "execution_count": null,
      "outputs": []
    },
    {
      "cell_type": "code",
      "metadata": {
        "id": "xTlxey292fN0"
      },
      "source": [
        "\n",
        "li = lis[3]\n",
        "li.select_one('em').string"
      ],
      "execution_count": null,
      "outputs": []
    },
    {
      "cell_type": "code",
      "metadata": {
        "id": "XwKIEoQ11jaz"
      },
      "source": [
        "lis[1].select_one('em').string"
      ],
      "execution_count": null,
      "outputs": []
    },
    {
      "cell_type": "code",
      "metadata": {
        "id": "R1ekJkefzj7A"
      },
      "source": [
        "score = li.select_one('em').string\n",
        "if score == '평가중':\n",
        "    score = '0'"
      ],
      "execution_count": null,
      "outputs": []
    },
    {
      "cell_type": "code",
      "metadata": {
        "id": "JJWaa6ofzb7f"
      },
      "source": [
        "name_list, score_list, menu_list, tel_list, addr_list = [],[],[],[],[]\n",
        "for i, li in enumerate(lis):\n",
        "    href = li.select_one('a')['href']\n",
        "    name = li.select_one('.store').string\n",
        "    score = li.select_one('em').string\n",
        "    if score == '평가중':\n",
        "        score = '0'\n",
        "    menu = li.select_one('.cnt p').get_text()\n",
        "\n",
        "    url = base_url + href\n",
        "    req = requests.get(url)\n",
        "    sub_soup = BeautifulSoup(req.text, 'html.parser')\n",
        "\n",
        "    try:\n",
        "        tel = sub_soup.select_one('.p_tel p').get_text()\n",
        "        addr = sub_soup.select_one('.txt_adr').string\n",
        "\n",
        "        name_list.append(name)\n",
        "        score_list.append(float(score))\n",
        "        menu_list.append(menu)\n",
        "        tel_list.append(tel)\n",
        "        addr_list.append(addr)\n",
        "    except:\n",
        "        print(i)"
      ],
      "execution_count": 29,
      "outputs": []
    },
    {
      "cell_type": "code",
      "metadata": {
        "id": "FVeJAxp90xuk"
      },
      "source": [
        "df = pd.DataFrame({\n",
        "             '식당명' : name_list,\n",
        "             '평점' : score_list,\n",
        "             '메뉴' : menu_list,\n",
        "             '전화번호' : tel_list,\n",
        "             '주소' : addr_list\n",
        "            \n",
        "\n",
        "})"
      ],
      "execution_count": 30,
      "outputs": []
    },
    {
      "cell_type": "code",
      "metadata": {
        "colab": {
          "base_uri": "https://localhost:8080/",
          "height": 417
        },
        "id": "0jQdlkj70_5u",
        "outputId": "6dd81d74-887c-4a9a-88cc-651ad60c183c"
      },
      "source": [
        "df"
      ],
      "execution_count": 31,
      "outputs": [
        {
          "output_type": "execute_result",
          "data": {
            "text/html": [
              "<div>\n",
              "<style scoped>\n",
              "    .dataframe tbody tr th:only-of-type {\n",
              "        vertical-align: middle;\n",
              "    }\n",
              "\n",
              "    .dataframe tbody tr th {\n",
              "        vertical-align: top;\n",
              "    }\n",
              "\n",
              "    .dataframe thead th {\n",
              "        text-align: right;\n",
              "    }\n",
              "</style>\n",
              "<table border=\"1\" class=\"dataframe\">\n",
              "  <thead>\n",
              "    <tr style=\"text-align: right;\">\n",
              "      <th></th>\n",
              "      <th>식당명</th>\n",
              "      <th>평점</th>\n",
              "      <th>메뉴</th>\n",
              "      <th>전화번호</th>\n",
              "      <th>주소</th>\n",
              "    </tr>\n",
              "  </thead>\n",
              "  <tbody>\n",
              "    <tr>\n",
              "      <th>0</th>\n",
              "      <td>그릭슈바인 양재역점</td>\n",
              "      <td>3.6</td>\n",
              "      <td>그릭슈바인bbq, 슈바이네 학센, 모듬 소세지 bbq, 콥 샐러드</td>\n",
              "      <td>02-572-6100</td>\n",
              "      <td>서울특별시 서초구 강남대로 224</td>\n",
              "    </tr>\n",
              "    <tr>\n",
              "      <th>1</th>\n",
              "      <td>미스터브리즈 양재역점</td>\n",
              "      <td>3.4</td>\n",
              "      <td>아메리카노, 허니버터브레드, 와플</td>\n",
              "      <td>02-576-4333</td>\n",
              "      <td>서울 서초구 강남대로34길 6</td>\n",
              "    </tr>\n",
              "    <tr>\n",
              "      <th>2</th>\n",
              "      <td>동신참치 양재역점</td>\n",
              "      <td>3.0</td>\n",
              "      <td>참치회, 참치정식</td>\n",
              "      <td>02-529-7130</td>\n",
              "      <td>서울 서초구 강남대로 213</td>\n",
              "    </tr>\n",
              "    <tr>\n",
              "      <th>3</th>\n",
              "      <td>새우닭 양재역점</td>\n",
              "      <td>0.0</td>\n",
              "      <td>딱새우회, 닭도리탕, 딱새우튀김, 술국닭계장, 마라해물새우</td>\n",
              "      <td>02-575-6088</td>\n",
              "      <td>서울특별시 서초구 남부순환로356길 52  1층</td>\n",
              "    </tr>\n",
              "    <tr>\n",
              "      <th>4</th>\n",
              "      <td>양재역 옛날짜장</td>\n",
              "      <td>0.0</td>\n",
              "      <td>짜장면, 짬뽕, 볶음밥, 고추잡채, 쟁반짜장, 탕수육</td>\n",
              "      <td>031-503-2550</td>\n",
              "      <td>경기도 시흥시 공단1대로 13</td>\n",
              "    </tr>\n",
              "    <tr>\n",
              "      <th>5</th>\n",
              "      <td>영동족발 3호점</td>\n",
              "      <td>4.1</td>\n",
              "      <td>족발大, 쟁반막국수大, 순두부찌개, 족발 중, 해물파전</td>\n",
              "      <td>02-575-0250</td>\n",
              "      <td>서울특별시 서초구 남부순환로 2628-18</td>\n",
              "    </tr>\n",
              "    <tr>\n",
              "      <th>6</th>\n",
              "      <td>황재벌</td>\n",
              "      <td>3.9</td>\n",
              "      <td>꼼장어, 쭈꾸미, 왕 꼼장어, 닭발, 계란찜, 알 주먹밥</td>\n",
              "      <td>02-3471-5454</td>\n",
              "      <td>서울특별시 서초구 남부순환로347길 42-4 신화빌딩</td>\n",
              "    </tr>\n",
              "    <tr>\n",
              "      <th>7</th>\n",
              "      <td>김영모과자점 도곡타워점</td>\n",
              "      <td>4.1</td>\n",
              "      <td>몽블랑, 바게트샌드위치, 레즌 천연발효빵, 생크림앙팡, 마늘바게트</td>\n",
              "      <td>02-3460-2005</td>\n",
              "      <td>서울특별시 강남구 언주로30길 10 현대비젼21</td>\n",
              "    </tr>\n",
              "    <tr>\n",
              "      <th>8</th>\n",
              "      <td>소호정 본점</td>\n",
              "      <td>4.0</td>\n",
              "      <td>안동국시, 국밥, 수육(대), 전(대), 묵(대)</td>\n",
              "      <td>02-579-7282</td>\n",
              "      <td>서울특별시 서초구 논현로 27</td>\n",
              "    </tr>\n",
              "    <tr>\n",
              "      <th>9</th>\n",
              "      <td>산동칼국수</td>\n",
              "      <td>3.9</td>\n",
              "      <td>손칼국수, 만두국, 왕만두</td>\n",
              "      <td>02-3473-7972</td>\n",
              "      <td>서울특별시 서초구 강남대로37길 63</td>\n",
              "    </tr>\n",
              "    <tr>\n",
              "      <th>10</th>\n",
              "      <td>양재정육식당</td>\n",
              "      <td>4.1</td>\n",
              "      <td>한우모듬, 업진 치마살, 한우등심</td>\n",
              "      <td>02-577-5804</td>\n",
              "      <td>서울 서초구 바우뫼로35길 3</td>\n",
              "    </tr>\n",
              "    <tr>\n",
              "      <th>11</th>\n",
              "      <td>스타쉐프</td>\n",
              "      <td>3.9</td>\n",
              "      <td>지중해식문어요리, 놀라운농어요리, 버섯크림요리와 빵, 키조개관자샐러드</td>\n",
              "      <td>02-529-8248</td>\n",
              "      <td>서울특별시 강남구 논현로38길 38-6</td>\n",
              "    </tr>\n",
              "  </tbody>\n",
              "</table>\n",
              "</div>"
            ],
            "text/plain": [
              "             식당명   평점  ...          전화번호                             주소\n",
              "0     그릭슈바인 양재역점  3.6  ...   02-572-6100             서울특별시 서초구 강남대로 224\n",
              "1    미스터브리즈 양재역점  3.4  ...   02-576-4333               서울 서초구 강남대로34길 6\n",
              "2      동신참치 양재역점  3.0  ...   02-529-7130                서울 서초구 강남대로 213\n",
              "3       새우닭 양재역점  0.0  ...   02-575-6088     서울특별시 서초구 남부순환로356길 52  1층\n",
              "4       양재역 옛날짜장  0.0  ...  031-503-2550              경기도 시흥시 공단1대로 13 \n",
              "5       영동족발 3호점  4.1  ...   02-575-0250        서울특별시 서초구 남부순환로 2628-18\n",
              "6            황재벌  3.9  ...  02-3471-5454  서울특별시 서초구 남부순환로347길 42-4 신화빌딩\n",
              "7   김영모과자점 도곡타워점  4.1  ...  02-3460-2005     서울특별시 강남구 언주로30길 10 현대비젼21\n",
              "8         소호정 본점  4.0  ...   02-579-7282               서울특별시 서초구 논현로 27\n",
              "9          산동칼국수  3.9  ...  02-3473-7972           서울특별시 서초구 강남대로37길 63\n",
              "10        양재정육식당  4.1  ...   02-577-5804               서울 서초구 바우뫼로35길 3\n",
              "11          스타쉐프  3.9  ...   02-529-8248          서울특별시 강남구 논현로38길 38-6\n",
              "\n",
              "[12 rows x 5 columns]"
            ]
          },
          "metadata": {
            "tags": []
          },
          "execution_count": 31
        }
      ]
    },
    {
      "cell_type": "code",
      "metadata": {
        "id": "AwVEd1Gf1A2H"
      },
      "source": [
        ""
      ],
      "execution_count": null,
      "outputs": []
    }
  ]
}