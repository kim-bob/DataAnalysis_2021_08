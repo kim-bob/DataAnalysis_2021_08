{
  "nbformat": 4,
  "nbformat_minor": 0,
  "metadata": {
    "colab": {
      "name": "12_공원단계구분도.pynb",
      "provenance": [],
      "collapsed_sections": []
    },
    "kernelspec": {
      "name": "python3",
      "display_name": "Python 3"
    },
    "language_info": {
      "name": "python"
    }
  },
  "cells": [
    {
      "cell_type": "markdown",
      "metadata": {
        "id": "y3YkRrjQk_lQ"
      },
      "source": [
        "# 단계구분도"
      ]
    },
    {
      "cell_type": "code",
      "metadata": {
        "id": "paUW5UddlSkB"
      },
      "source": [
        "import pandas as pd\n",
        "import folium\n",
        "import json"
      ],
      "execution_count": 1,
      "outputs": []
    },
    {
      "cell_type": "code",
      "metadata": {
        "id": "5n9a_CgKeOdo"
      },
      "source": [
        "from google.colab import files\n",
        "uploaded = files.upload()\n",
        "filename = list(uploaded.keys())[0]"
      ],
      "execution_count": null,
      "outputs": []
    },
    {
      "cell_type": "code",
      "metadata": {
        "id": "EiY2q6FMlkOP"
      },
      "source": [
        "#자치구별 공운현황.csv파일업로드\n",
        "df = pd.read_csv(filname)"
      ],
      "execution_count": null,
      "outputs": []
    },
    {
      "cell_type": "code",
      "metadata": {
        "id": "UoWfBwpLlwoX"
      },
      "source": [
        "#seoul-gu-simple.csv 파일 업로드\n",
        "uploaded = files.upload()\n",
        "filename = list(uploaded.keys())[0]"
      ],
      "execution_count": null,
      "outputs": []
    },
    {
      "cell_type": "code",
      "metadata": {
        "id": "wLP38oVfl-WZ"
      },
      "source": [
        "geo_data = json.load(open(filename))"
      ],
      "execution_count": null,
      "outputs": []
    },
    {
      "cell_type": "markdown",
      "metadata": {
        "id": "PjnJrti6mQNA"
      },
      "source": [
        "## 자치구별 공원면적"
      ]
    },
    {
      "cell_type": "code",
      "metadata": {
        "id": "_oeD2_ATmTQO"
      },
      "source": [
        "center = [37.581, 126.986]      # 서울 중심부 위도, 경도\n",
        "map = folium.Map(location=center, zoom_start=11, tiles='Stamen Toner')\n",
        "\n",
        "folium.Choropleth(\n",
        "    geo_data=geo_data,\n",
        "    data=df,\n",
        "    columns=('지역','공원면적'),\n",
        "    key_on='feature.id',\n",
        "    fill_color='BuPu',\n",
        "    legend_name='공원면적'\n",
        ").add_to(map)\n",
        "title = '<h3 align=\"center\" style=\"font-size:20px\">서울시 자치구별 공원면적</h3>'\n",
        "map.get_root().html.add_child(folium.Element(title))\n",
        "map"
      ],
      "execution_count": null,
      "outputs": []
    },
    {
      "cell_type": "code",
      "metadata": {
        "id": "C3iO534cnhB4"
      },
      "source": [
        "#서울공원요약 업로드\n",
        "uploaded = files.upload()\n",
        "filename = list(uploaded.keys())[0]"
      ],
      "execution_count": null,
      "outputs": []
    },
    {
      "cell_type": "code",
      "metadata": {
        "id": "JhtlHhxEnobA"
      },
      "source": [
        "park = pd.read_csv(filename)\n",
        "park.head()\n"
      ],
      "execution_count": null,
      "outputs": []
    },
    {
      "cell_type": "code",
      "metadata": {
        "id": "kzPPYGwyn1IC"
      },
      "source": [
        "map = folium.Map(location=center, zoom_start=11, tiles='Stamen Toner')\n",
        "\n",
        "folium.Choropleth(\n",
        "    geo_data=geo_data,\n",
        "    data=df,\n",
        "    columns=('지역','공원면적'),\n",
        "    key_on='feature.id',\n",
        "    fill_color='BuPu',\n",
        "    legend_name='공원면적'\n",
        ").add_to(map)\n",
        "\n",
        " \n",
        "for i in park.index:\n",
        "    folium.CircleMarker([df.위도[i], df.경도[i]], \n",
        "                        radius=int(df.크기[i]),\n",
        "                        tooltip=f\"{df.공원명[i]}({df.면적[i]:,d}㎡)\",\n",
        "                        color='green', fill_color='green').add_to(map)\n",
        " \n",
        "\n",
        "title = '<h3 align=\"center\" style=\"font-size:20px\">서울시 자치구별 공원면적</h3>'\n",
        "map.get_root().html.add_child(folium.Element(title))\n",
        "map"
      ],
      "execution_count": null,
      "outputs": []
    },
    {
      "cell_type": "markdown",
      "metadata": {
        "id": "nQyU39WZotDY"
      },
      "source": [
        "## 자치구별 공원수"
      ]
    },
    {
      "cell_type": "code",
      "metadata": {
        "id": "S9hL37YLowzt"
      },
      "source": [
        "map = folium.Map(location=center, zoom_start=11, tiles='Stamen Toner')\n",
        "\n",
        "folium.Choropleth(\n",
        "    geo_data=geo_data,\n",
        "    data=df,\n",
        "    columns=('지역','공원수'),\n",
        "    key_on='feature.id',\n",
        "    fill_color='BuPu',\n",
        "    legend_name='공원수'\n",
        ").add_to(map)\n",
        "\n",
        " \n",
        "for i in park.index:\n",
        "    folium.CircleMarker([df.위도[i], df.경도[i]], \n",
        "                        radius=int(df.크기[i]),\n",
        "                        tooltip=f\"{df.공원명[i]}({df.면적[i]:,d}㎡)\",\n",
        "                        color='green', fill_color='green').add_to(map)\n",
        " \n",
        "\n",
        "title = '<h3 align=\"center\" style=\"font-size:20px\">서울시 자치구별 공원수</h3>'\n",
        "map.get_root().html.add_child(folium.Element(title))\n",
        "map"
      ],
      "execution_count": null,
      "outputs": []
    },
    {
      "cell_type": "markdown",
      "metadata": {
        "id": "nziye9KjpRfP"
      },
      "source": [
        "## 자치구별 공원면적비율"
      ]
    },
    {
      "cell_type": "code",
      "metadata": {
        "id": "h1kGiyX5pZA1"
      },
      "source": [
        "map = folium.Map(location=center, zoom_start=11, tiles='Stamen Toner')\n",
        "\n",
        "folium.Choropleth(\n",
        "    geo_data=geo_data,\n",
        "    data=df,\n",
        "    columns=('지역','면적비율'),\n",
        "    key_on='feature.id',\n",
        "    fill_color='RdB6',\n",
        "    legend_name='공원면적비율'\n",
        ").add_to(map)\n",
        "\n",
        " \n",
        "for i in park.index:\n",
        "    folium.CircleMarker([df.위도[i], df.경도[i]], \n",
        "                        radius=int(df.크기[i]),\n",
        "                        tooltip=f\"{df.공원명[i]}({df.면적[i]:,d}㎡)\",\n",
        "                        color='green', fill_color='green').add_to(map)\n",
        " \n",
        "\n",
        "title = '<h3 align=\"center\" style=\"font-size:20px\">서울시 자치구별 공원면적비율</h3>'\n",
        "map.get_root().html.add_child(folium.Element(title))\n",
        "map"
      ],
      "execution_count": null,
      "outputs": []
    },
    {
      "cell_type": "markdown",
      "metadata": {
        "id": "rDgQcIAWp57X"
      },
      "source": [
        "## 자치구별 인당 공원면적"
      ]
    },
    {
      "cell_type": "code",
      "metadata": {
        "id": "8_5ES1Dzp-IJ"
      },
      "source": [
        "map = folium.Map(location=center, zoom_start=11, tiles='Stamen Toner')\n",
        "\n",
        "folium.Choropleth(\n",
        "    geo_data=geo_data,\n",
        "    data=df,\n",
        "    columns=('지역','인당면적'),\n",
        "    key_on='feature.id',\n",
        "    fill_color='RdB6',\n",
        "    legend_name='인당공원면적'\n",
        ").add_to(map)\n",
        "\n",
        " \n",
        "for i in park.index:\n",
        "    folium.CircleMarker([df.위도[i], df.경도[i]], \n",
        "                        radius=int(df.크기[i]),\n",
        "                        tooltip=f\"{df.공원명[i]}({df.면적[i]:,d}㎡)\",\n",
        "                        color='green', fill_color='green').add_to(map)\n",
        " \n",
        "\n",
        "title = '<h3 align=\"center\" style=\"font-size:20px\">서울시 자치구별 인당 공원면적</h3>'\n",
        "map.get_root().html.add_child(folium.Element(title))\n",
        "map"
      ],
      "execution_count": null,
      "outputs": []
    }
  ]
}