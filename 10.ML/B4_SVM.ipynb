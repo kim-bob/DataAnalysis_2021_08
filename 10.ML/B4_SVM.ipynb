{
  "nbformat": 4,
  "nbformat_minor": 0,
  "metadata": {
    "colab": {
      "name": "B4_SVM.ipynb",
      "provenance": [],
      "collapsed_sections": []
    },
    "kernelspec": {
      "name": "python3",
      "display_name": "Python 3"
    },
    "language_info": {
      "name": "python"
    }
  },
  "cells": [
    {
      "cell_type": "code",
      "metadata": {
        "id": "xgX_nMA3xzR9"
      },
      "source": [
        "import numpy as np\n",
        "from sklearn import svm\n",
        "import matplotlib.pyplot as plt\n",
        "from matplotlib import style\n"
      ],
      "execution_count": 2,
      "outputs": []
    },
    {
      "cell_type": "code",
      "metadata": {
        "colab": {
          "base_uri": "https://localhost:8080/"
        },
        "id": "UvC_Bv9y7r6_",
        "outputId": "f4294e3a-db0a-40a2-e18a-3467bd578807"
      },
      "source": [
        "X = np.array([[0,0],[1,1]])\n",
        "y = [0,1]\n",
        "X"
      ],
      "execution_count": 12,
      "outputs": [
        {
          "output_type": "execute_result",
          "data": {
            "text/plain": [
              "array([[0, 0],\n",
              "       [1, 1]])"
            ]
          },
          "metadata": {},
          "execution_count": 12
        }
      ]
    },
    {
      "cell_type": "code",
      "metadata": {
        "colab": {
          "base_uri": "https://localhost:8080/"
        },
        "id": "DWlZ07zm71XW",
        "outputId": "378d1e59-7e31-49b4-a668-f1ade2143193"
      },
      "source": [
        "LinearSVM = svm.LinearSVC()\n",
        "LinearSVM.fit(X,y)"
      ],
      "execution_count": 6,
      "outputs": [
        {
          "output_type": "execute_result",
          "data": {
            "text/plain": [
              "LinearSVC(C=1.0, class_weight=None, dual=True, fit_intercept=True,\n",
              "          intercept_scaling=1, loss='squared_hinge', max_iter=1000,\n",
              "          multi_class='ovr', penalty='l2', random_state=None, tol=0.0001,\n",
              "          verbose=0)"
            ]
          },
          "metadata": {},
          "execution_count": 6
        }
      ]
    },
    {
      "cell_type": "code",
      "metadata": {
        "colab": {
          "base_uri": "https://localhost:8080/"
        },
        "id": "RgvL9ynX8Lj-",
        "outputId": "b7884946-bd68-49b2-bd12-9a9817a60976"
      },
      "source": [
        "LinearSVM.predict([[2,2]])"
      ],
      "execution_count": 7,
      "outputs": [
        {
          "output_type": "execute_result",
          "data": {
            "text/plain": [
              "array([1])"
            ]
          },
          "metadata": {},
          "execution_count": 7
        }
      ]
    },
    {
      "cell_type": "code",
      "metadata": {
        "colab": {
          "base_uri": "https://localhost:8080/"
        },
        "id": "98kU5wH48Rr-",
        "outputId": "0172d390-2622-4f77-b3fc-7b973fae9da6"
      },
      "source": [
        "print(LinearSVM.coef_[0]) # 기울기\n",
        "print(LinearSVM.intercept_[0]) #상수항 절편\n",
        "# y = 0.59x1 +0.59x2 - 0.47"
      ],
      "execution_count": 8,
      "outputs": [
        {
          "output_type": "stream",
          "name": "stdout",
          "text": [
            "[0.58823254 0.58823254]\n",
            "-0.4705891526105236\n"
          ]
        }
      ]
    },
    {
      "cell_type": "code",
      "metadata": {
        "id": "WWwJwDIc6ZKP"
      },
      "source": [
        "style.use(\"ggplot\")"
      ],
      "execution_count": null,
      "outputs": []
    },
    {
      "cell_type": "code",
      "metadata": {
        "colab": {
          "base_uri": "https://localhost:8080/",
          "height": 284
        },
        "id": "SeXaolWN7ZIz",
        "outputId": "89653c16-342b-4b2f-ec2f-d88c7ce2f753"
      },
      "source": [
        "w = LinearSVM.coef_[0]\n",
        "print(w)\n",
        "b = LinearSVM.intercept_[0]\n",
        "slope = -w[0] / w[1]\n",
        "xx = np.linspace(0, 1.5)\n",
        "yy = slope * xx - b/w[1]\n",
        "h0 = plt.plot(xx, yy, 'k-', label='Hyperplane')\n",
        "plt.scatter(X[:, 0], X[:, 1], c=y)\n",
        "plt.legend()\n",
        "plt.show()"
      ],
      "execution_count": 14,
      "outputs": [
        {
          "output_type": "stream",
          "name": "stdout",
          "text": [
            "[0.58823254 0.58823254]\n"
          ]
        },
        {
          "output_type": "display_data",
          "data": {
            "image/png": "[encoded data removed]",
            "text/plain": [
              "<Figure size 432x288 with 1 Axes>"
            ]
          },
          "metadata": {
            "needs_background": "light"
          }
        }
      ]
    },
    {
      "cell_type": "markdown",
      "metadata": {
        "id": "qhIkocl6DiFf"
      },
      "source": [
        "# SVM XOR문제"
      ]
    },
    {
      "cell_type": "code",
      "metadata": {
        "id": "lJ3kuabpEKlg"
      },
      "source": [
        ""
      ],
      "execution_count": null,
      "outputs": []
    },
    {
      "cell_type": "code",
      "metadata": {
        "id": "7JUasUvu-0Vu"
      },
      "source": [
        "#데이터 준비\n",
        "X = np.array([[0,0], [0,1], [1,0], [1,1]])\n",
        "y =  [0, 1, 1, 0]"
      ],
      "execution_count": 16,
      "outputs": []
    },
    {
      "cell_type": "code",
      "metadata": {
        "colab": {
          "base_uri": "https://localhost:8080/"
        },
        "id": "O68v3rs8ETBd",
        "outputId": "e711a786-3923-447d-b7f1-b9f7f80cf8f9"
      },
      "source": [
        "SVM_XOR = svm.SVC()\n",
        "SVM_XOR.fit(X, y)"
      ],
      "execution_count": 17,
      "outputs": [
        {
          "output_type": "execute_result",
          "data": {
            "text/plain": [
              "SVC(C=1.0, break_ties=False, cache_size=200, class_weight=None, coef0=0.0,\n",
              "    decision_function_shape='ovr', degree=3, gamma='scale', kernel='rbf',\n",
              "    max_iter=-1, probability=False, random_state=None, shrinking=True,\n",
              "    tol=0.001, verbose=False)"
            ]
          },
          "metadata": {},
          "execution_count": 17
        }
      ]
    },
    {
      "cell_type": "code",
      "metadata": {
        "colab": {
          "base_uri": "https://localhost:8080/"
        },
        "id": "N2WHc7AjEgjB",
        "outputId": "a38e2201-5922-4b13-ce85-36788267bb91"
      },
      "source": [
        "test_data = np.array([[0.8 ,0.8], [0.2,0.9]])\n",
        "SVM_XOR.predict(test_data)"
      ],
      "execution_count": 18,
      "outputs": [
        {
          "output_type": "execute_result",
          "data": {
            "text/plain": [
              "array([0, 1])"
            ]
          },
          "metadata": {},
          "execution_count": 18
        }
      ]
    },
    {
      "cell_type": "code",
      "metadata": {
        "id": "Z8Qk8hUjEu5_"
      },
      "source": [
        ""
      ],
      "execution_count": null,
      "outputs": []
    }
  ]
}