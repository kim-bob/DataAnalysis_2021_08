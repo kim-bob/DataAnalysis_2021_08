{
  "nbformat": 4,
  "nbformat_minor": 0,
  "metadata": {
    "colab": {
      "name": "12_커피지수_ID.ipynb",
      "provenance": [],
      "collapsed_sections": []
    },
    "kernelspec": {
      "name": "python3",
      "display_name": "Python 3"
    },
    "language_info": {
      "name": "python"
    }
  },
  "cells": [
    {
      "cell_type": "code",
      "metadata": {
        "id": "sWImjrY9l9Ll"
      },
      "source": [
        "!apt-get install -y fonts-nanum > /dev/null\n",
        "!fc-cache -fv > /dev/null\n",
        "!rm -rf ~/.cache/matplotlib > /dev/null\n",
        "# 런타임 다시시작"
      ],
      "execution_count": 1,
      "outputs": []
    },
    {
      "cell_type": "code",
      "metadata": {
        "id": "Wybr8qBxnMtX"
      },
      "source": [
        "import numpy as np\n",
        "import pandas as pd\n",
        "import warnings\n",
        "warnings.filterwarnings('ignore')"
      ],
      "execution_count": 1,
      "outputs": []
    },
    {
      "cell_type": "code",
      "metadata": {
        "id": "3gGRa91xnOLY"
      },
      "source": [
        "import matplotlib as mpl\n",
        "import matplotlib.pyplot as plt\n",
        "mpl.rcParams['axes.unicode_minus'] = False\n",
        "plt.rc('font', family='NanumBarunGothic')"
      ],
      "execution_count": 2,
      "outputs": []
    },
    {
      "cell_type": "code",
      "metadata": {
        "colab": {
          "base_uri": "https://localhost:8080/"
        },
        "id": "MAWbwZ9VnQdX",
        "outputId": "e770e29b-52ae-46b1-90da-b20b5234e45c"
      },
      "source": [
        "from google.colab import drive\n",
        "drive.mount('/content/mnt')"
      ],
      "execution_count": 3,
      "outputs": [
        {
          "output_type": "stream",
          "name": "stdout",
          "text": [
            "Mounted at /content/mnt\n"
          ]
        }
      ]
    },
    {
      "cell_type": "code",
      "metadata": {
        "id": "RT_T_MXUnlyK"
      },
      "source": [
        "data_folder = \"/content/mnt/MyDrive/results/CoffeeIndex\""
      ],
      "execution_count": 4,
      "outputs": []
    },
    {
      "cell_type": "code",
      "metadata": {
        "colab": {
          "base_uri": "https://localhost:8080/"
        },
        "id": "lzswNek0qWfo",
        "outputId": "ff9216ad-8bc2-4b33-e207-d65b481e8228"
      },
      "source": [
        "from glob import glob\n",
        "\n",
        "sb = pd.read_csv(f'{data_folder}/스타벅스.csv') # 스벅데이터\n",
        "cb = pd.read_csv(f'{data_folder}/커피빈.csv')\n",
        "ed = pd.read_csv(f'{data_folder}/이디아.csv')\n",
        "bd = pd.read_csv(f'{data_folder}/백다방.csv')\n",
        "\n",
        "sb.시군구명.nunique(), cb.시군구명.nunique(),ed.시군구명.nunique(), bd.시군구명.nunique()\n",
        "# df = pd.concat([sb, cb, ed, bd])\n"
      ],
      "execution_count": 5,
      "outputs": [
        {
          "output_type": "execute_result",
          "data": {
            "text/plain": [
              "(174, 87, 219, 152)"
            ]
          },
          "metadata": {},
          "execution_count": 5
        }
      ]
    },
    {
      "cell_type": "markdown",
      "metadata": {
        "id": "CIBJDPQ3WnH0"
      },
      "source": [
        "# ID 필드 도출"
      ]
    },
    {
      "cell_type": "code",
      "metadata": {
        "id": "42aWhJJIWwhU"
      },
      "source": [
        "tmp_gu_dict = {\n",
        "    '수원': ['장안구', '권선구', '팔달구', '영통구'], \n",
        "    '성남': ['수정구', '중원구', '분당구'], \n",
        "    '안양': ['만안구', '동안구'], \n",
        "    '안산': ['상록구', '단원구'], \n",
        "    '고양': ['덕양구', '일산동구', '일산서구'], \n",
        "    '용인': ['처인구', '기흥구', '수지구'], \n",
        "    '청주': ['상당구', '서원구', '흥덕구', '청원구'], \n",
        "    '천안': ['동남구', '서북구'], \n",
        "    '전주': ['완산구', '덕진구'], \n",
        "    '포항': ['남구', '북구'], \n",
        "    '창원': ['의창구', '성산구', '진해구', '마산합포구', '마산회원구']\n",
        "}"
      ],
      "execution_count": 6,
      "outputs": []
    },
    {
      "cell_type": "code",
      "metadata": {
        "colab": {
          "base_uri": "https://localhost:8080/",
          "height": 203
        },
        "id": "U8u7Erm6W1U8",
        "outputId": "cb70e5e0-37be-411f-ac74-68a2ce761ea6"
      },
      "source": [
        "sb[sb.시도명.str.contains('세종|제주')].head(12).tail()"
      ],
      "execution_count": 8,
      "outputs": [
        {
          "output_type": "execute_result",
          "data": {
            "text/html": [
              "<div>\n",
              "<style scoped>\n",
              "    .dataframe tbody tr th:only-of-type {\n",
              "        vertical-align: middle;\n",
              "    }\n",
              "\n",
              "    .dataframe tbody tr th {\n",
              "        vertical-align: top;\n",
              "    }\n",
              "\n",
              "    .dataframe thead th {\n",
              "        text-align: right;\n",
              "    }\n",
              "</style>\n",
              "<table border=\"1\" class=\"dataframe\">\n",
              "  <thead>\n",
              "    <tr style=\"text-align: right;\">\n",
              "      <th></th>\n",
              "      <th>상호명</th>\n",
              "      <th>지점명</th>\n",
              "      <th>시도명</th>\n",
              "      <th>시군구명</th>\n",
              "      <th>도로명주소</th>\n",
              "    </tr>\n",
              "  </thead>\n",
              "  <tbody>\n",
              "    <tr>\n",
              "      <th>1307</th>\n",
              "      <td>스타벅스</td>\n",
              "      <td>세종첫마을점</td>\n",
              "      <td>세종특별자치시</td>\n",
              "      <td>세종특별자치시</td>\n",
              "      <td>세종특별자치시 세종특별자치시 한누리대로 169</td>\n",
              "    </tr>\n",
              "    <tr>\n",
              "      <th>1308</th>\n",
              "      <td>스타벅스</td>\n",
              "      <td>NaN</td>\n",
              "      <td>세종특별자치시</td>\n",
              "      <td>세종특별자치시</td>\n",
              "      <td>세종특별자치시 세종특별자치시 도움5로 19</td>\n",
              "    </tr>\n",
              "    <tr>\n",
              "      <th>1309</th>\n",
              "      <td>스타벅스</td>\n",
              "      <td>세종충남대학교병원점</td>\n",
              "      <td>세종특별자치시</td>\n",
              "      <td>세종특별자치시</td>\n",
              "      <td>세종특별자치시 세종특별자치시 보듬7로 20</td>\n",
              "    </tr>\n",
              "    <tr>\n",
              "      <th>1450</th>\n",
              "      <td>스타벅스</td>\n",
              "      <td>제주송악산점</td>\n",
              "      <td>제주특별자치도</td>\n",
              "      <td>서귀포시</td>\n",
              "      <td>제주특별자치도 서귀포시 대정읍 형제해안로 322</td>\n",
              "    </tr>\n",
              "    <tr>\n",
              "      <th>1451</th>\n",
              "      <td>스타벅스</td>\n",
              "      <td>성산일출봉점</td>\n",
              "      <td>제주특별자치도</td>\n",
              "      <td>서귀포시</td>\n",
              "      <td>제주특별자치도 서귀포시 성산읍 일출로 284-5</td>\n",
              "    </tr>\n",
              "  </tbody>\n",
              "</table>\n",
              "</div>"
            ],
            "text/plain": [
              "       상호명         지점명      시도명     시군구명                       도로명주소\n",
              "1307  스타벅스      세종첫마을점  세종특별자치시  세종특별자치시   세종특별자치시 세종특별자치시 한누리대로 169\n",
              "1308  스타벅스         NaN  세종특별자치시  세종특별자치시     세종특별자치시 세종특별자치시 도움5로 19\n",
              "1309  스타벅스  세종충남대학교병원점  세종특별자치시  세종특별자치시     세종특별자치시 세종특별자치시 보듬7로 20\n",
              "1450  스타벅스      제주송악산점  제주특별자치도     서귀포시  제주특별자치도 서귀포시 대정읍 형제해안로 322\n",
              "1451  스타벅스      성산일출봉점  제주특별자치도     서귀포시  제주특별자치도 서귀포시 성산읍 일출로 284-5"
            ]
          },
          "metadata": {},
          "execution_count": 8
        }
      ]
    },
    {
      "cell_type": "code",
      "metadata": {
        "id": "VRmFxpvOY3_q"
      },
      "source": [
        "metro_list = ['서울특별시','부산광역시','대구광역시','인천광역시','대전광역시','광주광역시','울산광역시']\n",
        "\n",
        "def get_ID(df):\n",
        "    si_name = [None] * len(df)\n",
        "\n",
        "    for i in df.index:\n",
        "        if df.시도명[i] in metro_list:\n",
        "            if len(df.시군구명[i]) == 2:\n",
        "                si_name[i] = df.시도명[i][:2] + ' ' + df.시군구명[i]\n",
        "            else:\n",
        "                si_name[i] = df.시도명[i][:2] + ' ' + df.시군구명[i][:-1]     # 긴 구 이름에서 '구' 제외\n",
        "        else:\n",
        "            si_len = len(df.시군구명[i].split())\n",
        "            if si_len == 1:\n",
        "                if df.시군구명[i][:-1] == '고성':\n",
        "                    if df.시도명[i] == '강원도':\n",
        "                        si_name[i] = '고성(강원)'\n",
        "                    else:\n",
        "                        si_name[i] = '고성(경남)'\n",
        "                elif df.시군구명[i][:-1] in tmp_gu_dict.keys():  # 시군구명에 시 이름만 있는 것이 있음\n",
        "                    if len(df.도로명주소[i].split()[2]) == 5:\n",
        "                        si_name[i] = df.시군구명[i][:2] + ' ' + df.도로명주소[i].split()[2][2:-1]\n",
        "                    else:\n",
        "                        si_name[i] = df.시군구명[i][:2] + ' ' + df.도로명주소[i].split()[2][:-1]\n",
        "                elif df.시군구명[i][:2] == '세종':\n",
        "                    si_name[i] = '세종'\n",
        "                else:\n",
        "                    si_name[i] = df.시군구명[i][:-1]\n",
        "\n",
        "            else:\n",
        "                _, admingu = df.시군구명[i].split()\n",
        "                for key, values in tmp_gu_dict.items():\n",
        "                    if admingu in values:\n",
        "                        if len(admingu) == 2:\n",
        "                            si_name[i] = key + ' ' + admingu\n",
        "                        elif admingu in ['마산합포구', '마산회원구']:\n",
        "                            si_name[i] = key + ' ' + admingu[2:-1]\n",
        "                        else:\n",
        "                            si_name[i] = key + ' ' + admingu[:-1]\n",
        "\n",
        "    return si_name"
      ],
      "execution_count": 9,
      "outputs": []
    },
    {
      "cell_type": "code",
      "metadata": {
        "colab": {
          "base_uri": "https://localhost:8080/",
          "height": 203
        },
        "id": "mNtja_HJdhNY",
        "outputId": "480ec190-c196-44b5-f6b6-89befca9a459"
      },
      "source": [
        "sb['ID'] = get_ID(sb)\n",
        "sb.head()"
      ],
      "execution_count": 10,
      "outputs": [
        {
          "output_type": "execute_result",
          "data": {
            "text/html": [
              "<div>\n",
              "<style scoped>\n",
              "    .dataframe tbody tr th:only-of-type {\n",
              "        vertical-align: middle;\n",
              "    }\n",
              "\n",
              "    .dataframe tbody tr th {\n",
              "        vertical-align: top;\n",
              "    }\n",
              "\n",
              "    .dataframe thead th {\n",
              "        text-align: right;\n",
              "    }\n",
              "</style>\n",
              "<table border=\"1\" class=\"dataframe\">\n",
              "  <thead>\n",
              "    <tr style=\"text-align: right;\">\n",
              "      <th></th>\n",
              "      <th>상호명</th>\n",
              "      <th>지점명</th>\n",
              "      <th>시도명</th>\n",
              "      <th>시군구명</th>\n",
              "      <th>도로명주소</th>\n",
              "      <th>ID</th>\n",
              "    </tr>\n",
              "  </thead>\n",
              "  <tbody>\n",
              "    <tr>\n",
              "      <th>0</th>\n",
              "      <td>스타벅스강릉안목항점</td>\n",
              "      <td>강릉안목항점</td>\n",
              "      <td>강원도</td>\n",
              "      <td>강릉시</td>\n",
              "      <td>강원도 강릉시 창해로14번길 40</td>\n",
              "      <td>강릉</td>\n",
              "    </tr>\n",
              "    <tr>\n",
              "      <th>1</th>\n",
              "      <td>스타벅스</td>\n",
              "      <td>대명델피노리조트점</td>\n",
              "      <td>강원도</td>\n",
              "      <td>고성군</td>\n",
              "      <td>강원도 고성군 토성면 미시령옛길 1153</td>\n",
              "      <td>고성(강원)</td>\n",
              "    </tr>\n",
              "    <tr>\n",
              "      <th>2</th>\n",
              "      <td>스타벅스춘천후평DT점</td>\n",
              "      <td>춘천후평DT점</td>\n",
              "      <td>강원도</td>\n",
              "      <td>춘천시</td>\n",
              "      <td>강원도 춘천시 후석로 318</td>\n",
              "      <td>춘천</td>\n",
              "    </tr>\n",
              "    <tr>\n",
              "      <th>3</th>\n",
              "      <td>스타벅스</td>\n",
              "      <td>춘천명동점</td>\n",
              "      <td>강원도</td>\n",
              "      <td>춘천시</td>\n",
              "      <td>강원도 춘천시 중앙로 55</td>\n",
              "      <td>춘천</td>\n",
              "    </tr>\n",
              "    <tr>\n",
              "      <th>4</th>\n",
              "      <td>스타벅스설악워터피아점</td>\n",
              "      <td>설악워터피아점</td>\n",
              "      <td>강원도</td>\n",
              "      <td>속초시</td>\n",
              "      <td>강원도 속초시 미시령로2983번길 88</td>\n",
              "      <td>속초</td>\n",
              "    </tr>\n",
              "  </tbody>\n",
              "</table>\n",
              "</div>"
            ],
            "text/plain": [
              "           상호명        지점명  시도명 시군구명                   도로명주소      ID\n",
              "0   스타벅스강릉안목항점     강릉안목항점  강원도  강릉시      강원도 강릉시 창해로14번길 40      강릉\n",
              "1         스타벅스  대명델피노리조트점  강원도  고성군  강원도 고성군 토성면 미시령옛길 1153  고성(강원)\n",
              "2  스타벅스춘천후평DT점    춘천후평DT점  강원도  춘천시         강원도 춘천시 후석로 318      춘천\n",
              "3         스타벅스      춘천명동점  강원도  춘천시          강원도 춘천시 중앙로 55      춘천\n",
              "4  스타벅스설악워터피아점    설악워터피아점  강원도  속초시   강원도 속초시 미시령로2983번길 88      속초"
            ]
          },
          "metadata": {},
          "execution_count": 10
        }
      ]
    },
    {
      "cell_type": "code",
      "metadata": {
        "colab": {
          "base_uri": "https://localhost:8080/"
        },
        "id": "lX9pPD77AEVn",
        "outputId": "a2a834d5-d11b-490b-d859-7c4dc9ba876c"
      },
      "source": [
        "print(np.sort(sb.ID.unique()))\n",
        "sb_set = set(sb.ID.unique())\n",
        "print(len(sb_set))"
      ],
      "execution_count": 12,
      "outputs": [
        {
          "output_type": "stream",
          "name": "stdout",
          "text": [
            "['가평' '강릉' '거제' '경산' '경주' '계룡' '고령' '고성(강원)' '고양 덕양' '고양 일산동' '고양 일산서'\n",
            " '고창' '공주' '과천' '광명' '광양' '광주' '광주 광산' '광주 남구' '광주 동구' '광주 북구' '광주 서구'\n",
            " '구리' '구미' '군산' '군포' '김천' '김포' '김해' '나주' '남양주' '논산' '당진' '대구 남구' '대구 달서'\n",
            " '대구 달성' '대구 동구' '대구 북구' '대구 서구' '대구 수성' '대구 중구' '대전 대덕' '대전 동구' '대전 서구'\n",
            " '대전 유성' '대전 중구' '동두천' '동해' '목포' '무안' '문경' '밀양' '보령' '보은' '부산 강서' '부산 금정'\n",
            " '부산 기장' '부산 남구' '부산 동구' '부산 동래' '부산 부산진' '부산 북구' '부산 사상' '부산 사하' '부산 서구'\n",
            " '부산 수영' '부산 연제' '부산 영도' '부산 중구' '부산 해운대' '부안' '부천' '사천' '산청' '서귀포' '서산'\n",
            " '서울 강남' '서울 강동' '서울 강북' '서울 강서' '서울 관악' '서울 광진' '서울 구로' '서울 금천' '서울 노원'\n",
            " '서울 도봉' '서울 동대문' '서울 동작' '서울 마포' '서울 서대문' '서울 서초' '서울 성동' '서울 성북' '서울 송파'\n",
            " '서울 양천' '서울 영등포' '서울 용산' '서울 은평' '서울 종로' '서울 중구' '서울 중랑' '서천' '성남 분당'\n",
            " '성남 수정' '성남 중원' '세종' '속초' '수원 권선' '수원 영통' '수원 장안' '수원 팔달' '순천' '시흥' '아산'\n",
            " '안동' '안산 단원' '안산 상록' '안성' '안양 동안' '안양 만안' '양산' '양주' '양평' '여수' '여주' '영덕'\n",
            " '영양' '예산' '오산' '용인 기흥' '용인 수지' '용인 처인' '울산 남구' '울산 동구' '울산 북구' '울산 울주'\n",
            " '울산 중구' '원주' '음성' '의왕' '의정부' '이천' '익산' '인제' '인천 강화' '인천 계양' '인천 남동'\n",
            " '인천 동구' '인천 미추홀' '인천 부평' '인천 서구' '인천 연수' '인천 옹진' '인천 중구' '임실' '전주 덕진'\n",
            " '전주 완산' '제주' '제천' '증평' '진주' '창녕' '창원 성산' '창원 의창' '창원 진해' '창원 합포' '창원 회원'\n",
            " '천안 동남' '천안 서북' '청도' '청송' '청양' '청주 상당' '청주 서원' '청주 청원' '청주 흥덕' '춘천' '충주'\n",
            " '태백' '통영' '파주' '평창' '평택' '포천' '포항 남구' '포항 북구' '하남' '하동' '함양' '홍천' '화성'\n",
            " '횡성']\n",
            "192\n"
          ]
        }
      ]
    },
    {
      "cell_type": "code",
      "metadata": {
        "colab": {
          "base_uri": "https://localhost:8080/"
        },
        "id": "NgPciC10Ar8k",
        "outputId": "f2663127-1853-476b-f1a4-f2c9fbea9efc"
      },
      "source": [
        "cb['ID'] = get_ID(cb)\n",
        "print(np.sort(cb.ID.unique()))\n",
        "cb_set = set(cb.ID.unique())\n",
        "print(len(cb_set))"
      ],
      "execution_count": 16,
      "outputs": [
        {
          "output_type": "stream",
          "name": "stdout",
          "text": [
            "['경주' '고양 덕양' '고양 일산동' '고양 일산서' '광명' '광주 남구' '광주 동구' '광주 서구' '구미' '군포'\n",
            " '금산' '김포' '김해' '남양주' '대구 수성' '대구 중구' '대전 서구' '대전 유성' '동해' '부산 강서' '부산 기장'\n",
            " '부산 동구' '부산 부산진' '부산 북구' '부산 수영' '부산 중구' '부산 해운대' '부천' '상주' '서울 강남'\n",
            " '서울 강동' '서울 강북' '서울 강서' '서울 관악' '서울 광진' '서울 구로' '서울 금천' '서울 노원' '서울 동대문'\n",
            " '서울 동작' '서울 마포' '서울 서대문' '서울 서초' '서울 성동' '서울 성북' '서울 송파' '서울 양천' '서울 영등포'\n",
            " '서울 용산' '서울 은평' '서울 종로' '서울 중구' '서울 중랑' '성남 분당' '성남 수정' '성남 중원' '수원 권선'\n",
            " '수원 영통' '수원 장안' '수원 팔달' '안양 동안' '안양 만안' '여주' '연천' '영덕' '용인 기흥' '용인 수지'\n",
            " '울산 남구' '울산 중구' '울진' '원주' '이천' '인천 남동' '인천 부평' '인천 연수' '인천 중구' '전주 완산'\n",
            " '제주' '제천' '진주' '창원 성산' '창원 의창' '창원 진해' '창원 합포' '천안 동남' '청주 상당' '청주 흥덕'\n",
            " '통영' '파주' '평택' '포항 북구' '하남' '함안' '해남' '화성']\n",
            "95\n"
          ]
        }
      ]
    },
    {
      "cell_type": "code",
      "metadata": {
        "colab": {
          "base_uri": "https://localhost:8080/"
        },
        "id": "r0d3PNtFbg43",
        "outputId": "61e7a799-f3da-4cb4-f355-5e777b066afc"
      },
      "source": [
        "ed['ID'] = get_ID(ed)\n",
        "print(np.sort(ed.ID.unique()))\n",
        "ed_set = set(ed.ID.unique())\n",
        "print(len(ed_set))"
      ],
      "execution_count": 15,
      "outputs": [
        {
          "output_type": "stream",
          "name": "stdout",
          "text": [
            "['가평' '강릉' '강진' '거제' '거창' '경산' '경주' '고령' '고성(경남)' '고양 덕양' '고양 일산동'\n",
            " '고양 일산서' '고창' '고흥' '곡성' '공주' '과천' '광명' '광양' '광주' '광주 광산' '광주 남구' '광주 동구'\n",
            " '광주 북구' '광주 서구' '괴산' '구례' '구리' '구미' '군산' '군포' '금산' '김제' '김천' '김포' '김해'\n",
            " '나주' '남양주' '남원' '남해' '논산' '단양' '담양' '당진' '대구 남구' '대구 달서' '대구 달성' '대구 동구'\n",
            " '대구 북구' '대구 서구' '대구 수성' '대구 중구' '대전 대덕' '대전 동구' '대전 서구' '대전 유성' '대전 중구'\n",
            " '동두천' '동해' '목포' '무안' '무주' '문경' '밀양' '보령' '보은' '부산 강서' '부산 금정' '부산 기장'\n",
            " '부산 남구' '부산 동구' '부산 동래' '부산 부산진' '부산 북구' '부산 사상' '부산 사하' '부산 서구' '부산 수영'\n",
            " '부산 연제' '부산 영도' '부산 중구' '부산 해운대' '부안' '부여' '부천' '사천' '산청' '삼척' '상주' '서귀포'\n",
            " '서산' '서울 강남' '서울 강동' '서울 강북' '서울 강서' '서울 관악' '서울 광진' '서울 구로' '서울 금천'\n",
            " '서울 노원' '서울 도봉' '서울 동대문' '서울 동작' '서울 마포' '서울 서대문' '서울 서초' '서울 성동' '서울 성북'\n",
            " '서울 송파' '서울 양천' '서울 영등포' '서울 용산' '서울 은평' '서울 종로' '서울 중구' '서울 중랑' '서천'\n",
            " '성남 분당' '성남 수정' '성남 중원' '성주' '세종' '속초' '수원 권선' '수원 영통' '수원 장안' '수원 팔달'\n",
            " '순창' '순천' '시흥' '아산' '안동' '안산 단원' '안산 상록' '안성' '안양 동안' '안양 만안' '양구' '양산'\n",
            " '양양' '양주' '양평' '여수' '여주' '연천' '영광' '영덕' '영동' '영암' '영월' '영주' '영천' '예산'\n",
            " '예천' '오산' '옥천' '완도' '완주' '용인 기흥' '용인 수지' '용인 처인' '울산 남구' '울산 동구' '울산 북구'\n",
            " '울산 울주' '울산 중구' '울진' '원주' '음성' '의왕' '의정부' '이천' '익산' '인제' '인천 강화' '인천 계양'\n",
            " '인천 남동' '인천 동구' '인천 미추홀' '인천 부평' '인천 서구' '인천 연수' '인천 옹진' '인천 중구' '임실'\n",
            " '장성' '장수' '장흥' '전주 덕진' '전주 완산' '정선' '정읍' '제주' '제천' '증평' '진안' '진주' '진천'\n",
            " '창녕' '창원 성산' '창원 의창' '창원 진해' '창원 합포' '창원 회원' '천안 동남' '천안 서북' '철원' '청도'\n",
            " '청송' '청주 상당' '청주 서원' '청주 청원' '청주 흥덕' '춘천' '충주' '칠곡' '태백' '태안' '통영' '파주'\n",
            " '평창' '평택' '포천' '포항 남구' '포항 북구' '하남' '함안' '함양' '합천' '해남' '홍성' '홍천' '화성'\n",
            " '화순' '화천' '횡성']\n",
            "236\n"
          ]
        }
      ]
    },
    {
      "cell_type": "code",
      "metadata": {
        "colab": {
          "base_uri": "https://localhost:8080/"
        },
        "id": "zxJqO9rGbhfR",
        "outputId": "7c49d25e-eecb-4ebc-c389-5caab7c988b9"
      },
      "source": [
        "bd['ID'] = get_ID(bd)\n",
        "print(np.sort(bd.ID.unique()))\n",
        "bd_set = set(bd.ID.unique())\n",
        "print(len(bd_set))"
      ],
      "execution_count": 14,
      "outputs": [
        {
          "output_type": "stream",
          "name": "stdout",
          "text": [
            "['강릉' '거창' '경산' '경주' '고성(경남)' '고양 덕양' '고양 일산동' '고양 일산서' '고창' '공주' '광명'\n",
            " '광양' '광주' '광주 광산' '광주 남구' '광주 동구' '광주 북구' '광주 서구' '구리' '구미' '군산' '군포'\n",
            " '김제' '김포' '김해' '남양주' '남원' '논산' '당진' '대구 달서' '대구 달성' '대구 동구' '대구 북구'\n",
            " '대구 서구' '대구 수성' '대구 중구' '대전 대덕' '대전 동구' '대전 서구' '대전 유성' '대전 중구' '동두천'\n",
            " '동해' '목포' '무안' '문경' '보령' '부산 금정' '부산 남구' '부산 동래' '부산 부산진' '부산 북구' '부산 사하'\n",
            " '부산 중구' '부산 해운대' '부안' '부천' '삼척' '서귀포' '서산' '서울 강남' '서울 강동' '서울 강북'\n",
            " '서울 강서' '서울 관악' '서울 광진' '서울 구로' '서울 금천' '서울 노원' '서울 도봉' '서울 동대문' '서울 동작'\n",
            " '서울 마포' '서울 서대문' '서울 서초' '서울 성동' '서울 성북' '서울 송파' '서울 영등포' '서울 용산' '서울 은평'\n",
            " '서울 종로' '서울 중구' '서울 중랑' '성남 분당' '성남 수정' '성남 중원' '세종' '수원 권선' '수원 영통'\n",
            " '수원 장안' '수원 팔달' '순천' '시흥' '아산' '안동' '안산 단원' '안산 상록' '안양 동안' '안양 만안' '양산'\n",
            " '양주' '양평' '여수' '영동' '영암' '영주' '예산' '예천' '오산' '옥천' '용인 기흥' '용인 수지' '용인 처인'\n",
            " '울산 남구' '울산 동구' '울산 북구' '울진' '원주' '의왕' '의정부' '이천' '익산' '인천 강화' '인천 계양'\n",
            " '인천 남동' '인천 동구' '인천 미추홀' '인천 부평' '인천 서구' '인천 연수' '인천 중구' '전주 덕진' '전주 완산'\n",
            " '정읍' '제주' '증평' '진안' '진주' '진천' '창원 성산' '창원 의창' '창원 합포' '천안 동남' '천안 서북'\n",
            " '청주 상당' '청주 서원' '청주 청원' '청주 흥덕' '춘천' '충주' '칠곡' '태안' '통영' '파주' '평택' '포천'\n",
            " '포항 남구' '포항 북구' '하남' '하동' '함양' '홍성' '홍천' '화성' '화순' '화천']\n",
            "167\n"
          ]
        }
      ]
    },
    {
      "cell_type": "code",
      "metadata": {
        "colab": {
          "base_uri": "https://localhost:8080/",
          "height": 204
        },
        "id": "TQEXZTErnUwY",
        "outputId": "ed9efc1e-6c12-449b-ba0b-6bd44f5568ec"
      },
      "source": [
        "all_data = pd.DataFrame()\n",
        "\n",
        "for file in glob(f'{data_folder}/*.csv'):\n",
        "    df = pd.read_csv(file)\n",
        "    all_data = pd.concat([all_data, df])\n",
        "\n",
        "all_data.head()\n",
        " "
      ],
      "execution_count": null,
      "outputs": [
        {
          "output_type": "execute_result",
          "data": {
            "text/html": [
              "<div>\n",
              "<style scoped>\n",
              "    .dataframe tbody tr th:only-of-type {\n",
              "        vertical-align: middle;\n",
              "    }\n",
              "\n",
              "    .dataframe tbody tr th {\n",
              "        vertical-align: top;\n",
              "    }\n",
              "\n",
              "    .dataframe thead th {\n",
              "        text-align: right;\n",
              "    }\n",
              "</style>\n",
              "<table border=\"1\" class=\"dataframe\">\n",
              "  <thead>\n",
              "    <tr style=\"text-align: right;\">\n",
              "      <th></th>\n",
              "      <th>상호명</th>\n",
              "      <th>지점명</th>\n",
              "      <th>시도명</th>\n",
              "      <th>시군구명</th>\n",
              "      <th>도로명주소</th>\n",
              "    </tr>\n",
              "  </thead>\n",
              "  <tbody>\n",
              "    <tr>\n",
              "      <th>0</th>\n",
              "      <td>스타벅스강릉안목항점</td>\n",
              "      <td>강릉안목항점</td>\n",
              "      <td>강원도</td>\n",
              "      <td>강릉시</td>\n",
              "      <td>강원도 강릉시 창해로14번길 40</td>\n",
              "    </tr>\n",
              "    <tr>\n",
              "      <th>1</th>\n",
              "      <td>스타벅스</td>\n",
              "      <td>대명델피노리조트점</td>\n",
              "      <td>강원도</td>\n",
              "      <td>고성군</td>\n",
              "      <td>강원도 고성군 토성면 미시령옛길 1153</td>\n",
              "    </tr>\n",
              "    <tr>\n",
              "      <th>2</th>\n",
              "      <td>스타벅스춘천후평DT점</td>\n",
              "      <td>춘천후평DT점</td>\n",
              "      <td>강원도</td>\n",
              "      <td>춘천시</td>\n",
              "      <td>강원도 춘천시 후석로 318</td>\n",
              "    </tr>\n",
              "    <tr>\n",
              "      <th>3</th>\n",
              "      <td>스타벅스</td>\n",
              "      <td>춘천명동점</td>\n",
              "      <td>강원도</td>\n",
              "      <td>춘천시</td>\n",
              "      <td>강원도 춘천시 중앙로 55</td>\n",
              "    </tr>\n",
              "    <tr>\n",
              "      <th>4</th>\n",
              "      <td>스타벅스설악워터피아점</td>\n",
              "      <td>설악워터피아점</td>\n",
              "      <td>강원도</td>\n",
              "      <td>속초시</td>\n",
              "      <td>강원도 속초시 미시령로2983번길 88</td>\n",
              "    </tr>\n",
              "  </tbody>\n",
              "</table>\n",
              "</div>"
            ],
            "text/plain": [
              "           상호명        지점명  시도명 시군구명                   도로명주소\n",
              "0   스타벅스강릉안목항점     강릉안목항점  강원도  강릉시      강원도 강릉시 창해로14번길 40\n",
              "1         스타벅스  대명델피노리조트점  강원도  고성군  강원도 고성군 토성면 미시령옛길 1153\n",
              "2  스타벅스춘천후평DT점    춘천후평DT점  강원도  춘천시         강원도 춘천시 후석로 318\n",
              "3         스타벅스      춘천명동점  강원도  춘천시          강원도 춘천시 중앙로 55\n",
              "4  스타벅스설악워터피아점    설악워터피아점  강원도  속초시   강원도 속초시 미시령로2983번길 88"
            ]
          },
          "metadata": {},
          "execution_count": 189
        }
      ]
    },
    {
      "cell_type": "code",
      "metadata": {
        "colab": {
          "base_uri": "https://localhost:8080/",
          "height": 204
        },
        "id": "GrUvkO5pjR7n",
        "outputId": "9e04506c-f41b-421d-e2d3-1d0c7275e8cb"
      },
      "source": [
        "all_data.head()"
      ],
      "execution_count": null,
      "outputs": [
        {
          "output_type": "execute_result",
          "data": {
            "text/html": [
              "<div>\n",
              "<style scoped>\n",
              "    .dataframe tbody tr th:only-of-type {\n",
              "        vertical-align: middle;\n",
              "    }\n",
              "\n",
              "    .dataframe tbody tr th {\n",
              "        vertical-align: top;\n",
              "    }\n",
              "\n",
              "    .dataframe thead th {\n",
              "        text-align: right;\n",
              "    }\n",
              "</style>\n",
              "<table border=\"1\" class=\"dataframe\">\n",
              "  <thead>\n",
              "    <tr style=\"text-align: right;\">\n",
              "      <th></th>\n",
              "      <th>상호명</th>\n",
              "      <th>지점명</th>\n",
              "      <th>시도명</th>\n",
              "      <th>시군구명</th>\n",
              "      <th>도로명주소</th>\n",
              "    </tr>\n",
              "  </thead>\n",
              "  <tbody>\n",
              "    <tr>\n",
              "      <th>0</th>\n",
              "      <td>스타벅스강릉안목항점</td>\n",
              "      <td>강릉안목항점</td>\n",
              "      <td>강원도</td>\n",
              "      <td>강릉시</td>\n",
              "      <td>강원도 강릉시 창해로14번길 40</td>\n",
              "    </tr>\n",
              "    <tr>\n",
              "      <th>1</th>\n",
              "      <td>스타벅스</td>\n",
              "      <td>대명델피노리조트점</td>\n",
              "      <td>강원도</td>\n",
              "      <td>고성군</td>\n",
              "      <td>강원도 고성군 토성면 미시령옛길 1153</td>\n",
              "    </tr>\n",
              "    <tr>\n",
              "      <th>2</th>\n",
              "      <td>스타벅스춘천후평DT점</td>\n",
              "      <td>춘천후평DT점</td>\n",
              "      <td>강원도</td>\n",
              "      <td>춘천시</td>\n",
              "      <td>강원도 춘천시 후석로 318</td>\n",
              "    </tr>\n",
              "    <tr>\n",
              "      <th>3</th>\n",
              "      <td>스타벅스</td>\n",
              "      <td>춘천명동점</td>\n",
              "      <td>강원도</td>\n",
              "      <td>춘천시</td>\n",
              "      <td>강원도 춘천시 중앙로 55</td>\n",
              "    </tr>\n",
              "    <tr>\n",
              "      <th>4</th>\n",
              "      <td>스타벅스설악워터피아점</td>\n",
              "      <td>설악워터피아점</td>\n",
              "      <td>강원도</td>\n",
              "      <td>속초시</td>\n",
              "      <td>강원도 속초시 미시령로2983번길 88</td>\n",
              "    </tr>\n",
              "  </tbody>\n",
              "</table>\n",
              "</div>"
            ],
            "text/plain": [
              "           상호명        지점명  시도명 시군구명                   도로명주소\n",
              "0   스타벅스강릉안목항점     강릉안목항점  강원도  강릉시      강원도 강릉시 창해로14번길 40\n",
              "1         스타벅스  대명델피노리조트점  강원도  고성군  강원도 고성군 토성면 미시령옛길 1153\n",
              "2  스타벅스춘천후평DT점    춘천후평DT점  강원도  춘천시         강원도 춘천시 후석로 318\n",
              "3         스타벅스      춘천명동점  강원도  춘천시          강원도 춘천시 중앙로 55\n",
              "4  스타벅스설악워터피아점    설악워터피아점  강원도  속초시   강원도 속초시 미시령로2983번길 88"
            ]
          },
          "metadata": {},
          "execution_count": 201
        }
      ]
    },
    {
      "cell_type": "code",
      "metadata": {
        "id": "KGXB0xJK9Xfg"
      },
      "source": [
        "all_data =all.reset_index()"
      ],
      "execution_count": null,
      "outputs": []
    },
    {
      "cell_type": "code",
      "metadata": {
        "colab": {
          "base_uri": "https://localhost:8080/",
          "height": 35
        },
        "id": "phoF25SE9iG4",
        "outputId": "489f2b83-97f3-4b3f-e2df-c9c75a11b5dc"
      },
      "source": [
        "all_data['상호명'][1]"
      ],
      "execution_count": null,
      "outputs": [
        {
          "output_type": "execute_result",
          "data": {
            "application/vnd.google.colaboratory.intrinsic+json": {
              "type": "string"
            },
            "text/plain": [
              "'스타벅스'"
            ]
          },
          "metadata": {},
          "execution_count": 92
        }
      ]
    },
    {
      "cell_type": "code",
      "metadata": {
        "colab": {
          "base_uri": "https://localhost:8080/"
        },
        "id": "7cJYWq6m229B",
        "outputId": "b5568b43-74ea-418d-9c63-afcddae755da"
      },
      "source": [
        " \n",
        "print(len(all_data.시도명.unique()))\n",
        "all_data.시도명.unique()"
      ],
      "execution_count": null,
      "outputs": [
        {
          "output_type": "stream",
          "name": "stdout",
          "text": [
            "17\n"
          ]
        },
        {
          "output_type": "execute_result",
          "data": {
            "text/plain": [
              "array(['강원도', '경기도', '경상남도', '경상북도', '광주광역시', '대구광역시', '대전광역시', '부산광역시',\n",
              "       '서울특별시', '세종특별자치시', '울산광역시', '인천광역시', '전라남도', '전라북도', '제주특별자치도',\n",
              "       '충청남도', '충청북도'], dtype=object)"
            ]
          },
          "metadata": {},
          "execution_count": 93
        }
      ]
    },
    {
      "cell_type": "code",
      "metadata": {
        "colab": {
          "base_uri": "https://localhost:8080/"
        },
        "id": "-iyLASQtySWb",
        "outputId": "aaab243c-6b10-4ca4-d132-3e26c53f2ac3"
      },
      "source": [
        "print(len(all_data))\n",
        "print(len(all_data.시군구명.unique()))\n",
        "all_data.시군구명.unique()\n",
        "\n",
        " "
      ],
      "execution_count": null,
      "outputs": [
        {
          "output_type": "stream",
          "name": "stdout",
          "text": [
            "4569\n",
            "223\n"
          ]
        },
        {
          "output_type": "execute_result",
          "data": {
            "text/plain": [
              "array(['강릉시', '고성군', '춘천시', '속초시', '원주시', '평창군', '태백시', '인제군', '동해시',\n",
              "       '홍천군', '횡성군', '성남시 분당구', '용인시 기흥구', '화성시', '수원시 팔달구', '고양시 일산동구',\n",
              "       '김포시', '수원시', '파주시', '이천시', '광명시', '부천시', '안산시', '고양시 일산서구',\n",
              "       '수원시 영통구', '안산시 상록구', '군포시', '포천시', '평택시', '의정부시', '고양시 덕양구',\n",
              "       '남양주시', '용인시 처인구', '하남시', '동두천시', '과천시', '시흥시', '광주시', '의왕시',\n",
              "       '안성시', '오산시', '양주시', '안양시 동안구', '양평군', '용인시 수지구', '수원시 장안구',\n",
              "       '안양시 만안구', '수원시 권선구', '성남시 중원구', '성남시 수정구', '여주시', '안산시 단원구',\n",
              "       '용인시', '구리시', '가평군', '진주시', '거제시', '김해시', '창원시 마산합포구', '창원시 성산구',\n",
              "       '양산시', '창원시 의창구', '산청군', '사천시', '밀양시', '창원시 진해구', '창원시 마산회원구',\n",
              "       '하동군', '창녕군', '함양군', '통영시', '구미시', '포항시 북구', '포항시 남구', '김천시',\n",
              "       '영양군', '청도군', '고령군', '안동시', '경주시', '경산시', '영덕군', '문경시', '청송군',\n",
              "       '서구', '동구', '광산구', '북구', '남구', '수성구', '달서구', '중구', '달성군', '유성구',\n",
              "       '대덕구', '연제구', '사하구', '부산진구', '동래구', '해운대구', '사상구', '금정구', '강서구',\n",
              "       '기장군', '수영구', '영도구', '종로구', '서초구', '영등포구', '강남구', '강북구', '중랑구',\n",
              "       '마포구', '은평구', '구로구', '성북구', '용산구', '관악구', '동작구', '서대문구', '강동구',\n",
              "       '광진구', '양천구', '송파구', '노원구', '성동구', '동대문구', '금천구', '도봉구', '세종특별자치시',\n",
              "       '울주군', '부평구', '연수구', '미추홀구', '남동구', '계양구', '옹진군', '강화군', '여수시',\n",
              "       '순천시', '목포시', '광양시', '나주시', '무안군', '전주시 완산구', '군산시', '전주시 덕진구',\n",
              "       '익산시', '임실군', '부안군', '고창군', '서귀포시', '제주시', '천안시 서북구', '천안시 동남구',\n",
              "       '공주시', '보령시', '당진시', '아산시', '서산시', '서천군', '논산시', '예산군', '청양군',\n",
              "       '계룡시', '청주시 서원구', '청주시 흥덕구', '청주시 청원구', '청주시 상당구', '충주시', '증평군',\n",
              "       '음성군', '보은군', '제천시', '연천군', '함안군', '창원시', '상주시', '울진군', '해남군',\n",
              "       '금산군', '정선군', '철원군', '화천군', '양구군', '삼척시', '양양군', '영월군', '거창군',\n",
              "       '남해군', '합천군', '칠곡군', '영주시', '성주군', '영천시', '예천군', '장흥군', '영광군',\n",
              "       '고흥군', '영암군', '강진군', '완도군', '곡성군', '장성군', '담양군', '구례군', '화순군',\n",
              "       '김제시', '정읍시', '완주군', '진안군', '장수군', '남원시', '무주군', '순창군', '홍성군',\n",
              "       '태안군', '부여군', '진천군', '단양군', '영동군', '괴산군', '옥천군'], dtype=object)"
            ]
          },
          "metadata": {},
          "execution_count": 94
        }
      ]
    },
    {
      "cell_type": "code",
      "metadata": {
        "id": "ZlIXsZ4uz9iz"
      },
      "source": [
        "# 합집합\n",
        "city_set = sb_set | ed_set | cb_set | bd_set "
      ],
      "execution_count": 18,
      "outputs": []
    },
    {
      "cell_type": "code",
      "metadata": {
        "colab": {
          "base_uri": "https://localhost:8080/"
        },
        "id": "yNT_XsUA3fyV",
        "outputId": "969b62e6-ec08-4bc8-fb8d-c64f15482a62"
      },
      "source": [
        "len(city_set)"
      ],
      "execution_count": 19,
      "outputs": [
        {
          "output_type": "execute_result",
          "data": {
            "text/plain": [
              "241"
            ]
          },
          "metadata": {},
          "execution_count": 19
        }
      ]
    },
    {
      "cell_type": "code",
      "metadata": {
        "colab": {
          "base_uri": "https://localhost:8080/"
        },
        "id": "CrVSaBRsc59v",
        "outputId": "acfd5961-321b-44e3-b655-65d9767c3031"
      },
      "source": [
        "# 차집합\n",
        "sb_set - ed_set"
      ],
      "execution_count": 20,
      "outputs": [
        {
          "output_type": "execute_result",
          "data": {
            "text/plain": [
              "{'계룡', '고성(강원)', '영양', '청양', '하동'}"
            ]
          },
          "metadata": {},
          "execution_count": 20
        }
      ]
    },
    {
      "cell_type": "code",
      "metadata": {
        "colab": {
          "base_uri": "https://localhost:8080/",
          "height": 234
        },
        "id": "mHocR1Rtc-ln",
        "outputId": "90e12a46-f025-4a4d-932f-cd477a02603c"
      },
      "source": [
        "sb[sb.ID.isin({'계룡', '고성(강원)', '영양', '청양', '하동'})]"
      ],
      "execution_count": 21,
      "outputs": [
        {
          "output_type": "execute_result",
          "data": {
            "text/html": [
              "<div>\n",
              "<style scoped>\n",
              "    .dataframe tbody tr th:only-of-type {\n",
              "        vertical-align: middle;\n",
              "    }\n",
              "\n",
              "    .dataframe tbody tr th {\n",
              "        vertical-align: top;\n",
              "    }\n",
              "\n",
              "    .dataframe thead th {\n",
              "        text-align: right;\n",
              "    }\n",
              "</style>\n",
              "<table border=\"1\" class=\"dataframe\">\n",
              "  <thead>\n",
              "    <tr style=\"text-align: right;\">\n",
              "      <th></th>\n",
              "      <th>상호명</th>\n",
              "      <th>지점명</th>\n",
              "      <th>시도명</th>\n",
              "      <th>시군구명</th>\n",
              "      <th>도로명주소</th>\n",
              "      <th>ID</th>\n",
              "    </tr>\n",
              "  </thead>\n",
              "  <tbody>\n",
              "    <tr>\n",
              "      <th>1</th>\n",
              "      <td>스타벅스</td>\n",
              "      <td>대명델피노리조트점</td>\n",
              "      <td>강원도</td>\n",
              "      <td>고성군</td>\n",
              "      <td>강원도 고성군 토성면 미시령옛길 1153</td>\n",
              "      <td>고성(강원)</td>\n",
              "    </tr>\n",
              "    <tr>\n",
              "      <th>38</th>\n",
              "      <td>스타벅스</td>\n",
              "      <td>NaN</td>\n",
              "      <td>강원도</td>\n",
              "      <td>고성군</td>\n",
              "      <td>강원도 고성군 간성읍 간성로 36</td>\n",
              "      <td>고성(강원)</td>\n",
              "    </tr>\n",
              "    <tr>\n",
              "      <th>429</th>\n",
              "      <td>스타벅스</td>\n",
              "      <td>NaN</td>\n",
              "      <td>경상남도</td>\n",
              "      <td>하동군</td>\n",
              "      <td>경상남도 하동군 하동읍 중앙로 12</td>\n",
              "      <td>하동</td>\n",
              "    </tr>\n",
              "    <tr>\n",
              "      <th>464</th>\n",
              "      <td>스타벅스</td>\n",
              "      <td>NaN</td>\n",
              "      <td>경상북도</td>\n",
              "      <td>영양군</td>\n",
              "      <td>경상북도 영양군 석보면 원리길 11-3</td>\n",
              "      <td>영양</td>\n",
              "    </tr>\n",
              "    <tr>\n",
              "      <th>1512</th>\n",
              "      <td>스타벅스</td>\n",
              "      <td>NaN</td>\n",
              "      <td>충청남도</td>\n",
              "      <td>청양군</td>\n",
              "      <td>충청남도 청양군 청양읍 중앙로 116-1</td>\n",
              "      <td>청양</td>\n",
              "    </tr>\n",
              "    <tr>\n",
              "      <th>1513</th>\n",
              "      <td>스타벅스계룡대로DT점</td>\n",
              "      <td>계룡대로DT점</td>\n",
              "      <td>충청남도</td>\n",
              "      <td>계룡시</td>\n",
              "      <td>충청남도 계룡시 엄사면 번영로 6</td>\n",
              "      <td>계룡</td>\n",
              "    </tr>\n",
              "  </tbody>\n",
              "</table>\n",
              "</div>"
            ],
            "text/plain": [
              "              상호명        지점명   시도명 시군구명                   도로명주소      ID\n",
              "1            스타벅스  대명델피노리조트점   강원도  고성군  강원도 고성군 토성면 미시령옛길 1153  고성(강원)\n",
              "38           스타벅스        NaN   강원도  고성군      강원도 고성군 간성읍 간성로 36  고성(강원)\n",
              "429          스타벅스        NaN  경상남도  하동군     경상남도 하동군 하동읍 중앙로 12      하동\n",
              "464          스타벅스        NaN  경상북도  영양군   경상북도 영양군 석보면 원리길 11-3      영양\n",
              "1512         스타벅스        NaN  충청남도  청양군  충청남도 청양군 청양읍 중앙로 116-1      청양\n",
              "1513  스타벅스계룡대로DT점    계룡대로DT점  충청남도  계룡시      충청남도 계룡시 엄사면 번영로 6      계룡"
            ]
          },
          "metadata": {},
          "execution_count": 21
        }
      ]
    },
    {
      "cell_type": "code",
      "metadata": {
        "colab": {
          "base_uri": "https://localhost:8080/",
          "height": 80
        },
        "id": "_fJvhLEBdGbg",
        "outputId": "563d9f5d-85ce-4ff2-fff2-6f5ba643aa12"
      },
      "source": [
        "bd[bd.ID.isin({'계룡', '고성(강원)', '영양', '청양', '하동'})]"
      ],
      "execution_count": 22,
      "outputs": [
        {
          "output_type": "execute_result",
          "data": {
            "text/html": [
              "<div>\n",
              "<style scoped>\n",
              "    .dataframe tbody tr th:only-of-type {\n",
              "        vertical-align: middle;\n",
              "    }\n",
              "\n",
              "    .dataframe tbody tr th {\n",
              "        vertical-align: top;\n",
              "    }\n",
              "\n",
              "    .dataframe thead th {\n",
              "        text-align: right;\n",
              "    }\n",
              "</style>\n",
              "<table border=\"1\" class=\"dataframe\">\n",
              "  <thead>\n",
              "    <tr style=\"text-align: right;\">\n",
              "      <th></th>\n",
              "      <th>상호명</th>\n",
              "      <th>지점명</th>\n",
              "      <th>시도명</th>\n",
              "      <th>시군구명</th>\n",
              "      <th>도로명주소</th>\n",
              "      <th>ID</th>\n",
              "    </tr>\n",
              "  </thead>\n",
              "  <tbody>\n",
              "    <tr>\n",
              "      <th>209</th>\n",
              "      <td>빽다방</td>\n",
              "      <td>하동점</td>\n",
              "      <td>경상남도</td>\n",
              "      <td>하동군</td>\n",
              "      <td>경상남도 하동군 하동읍 경서대로 136</td>\n",
              "      <td>하동</td>\n",
              "    </tr>\n",
              "  </tbody>\n",
              "</table>\n",
              "</div>"
            ],
            "text/plain": [
              "     상호명  지점명   시도명 시군구명                  도로명주소  ID\n",
              "209  빽다방  하동점  경상남도  하동군  경상남도 하동군 하동읍 경서대로 136  하동"
            ]
          },
          "metadata": {},
          "execution_count": 22
        }
      ]
    },
    {
      "cell_type": "markdown",
      "metadata": {
        "id": "dbfcvWgQdZCL"
      },
      "source": [
        " # 브랜드별 매장수 계산"
      ]
    },
    {
      "cell_type": "code",
      "metadata": {
        "colab": {
          "base_uri": "https://localhost:8080/",
          "height": 234
        },
        "id": "HdcQ0eT5dXP-",
        "outputId": "67f3aac8-27a6-40d8-af8c-1cdb87354d11"
      },
      "source": [
        "\n",
        "pt_sb = sb.pivot_table('상호명', index='ID', aggfunc='count')\n",
        "pt_sb.head()"
      ],
      "execution_count": 24,
      "outputs": [
        {
          "output_type": "execute_result",
          "data": {
            "text/html": [
              "<div>\n",
              "<style scoped>\n",
              "    .dataframe tbody tr th:only-of-type {\n",
              "        vertical-align: middle;\n",
              "    }\n",
              "\n",
              "    .dataframe tbody tr th {\n",
              "        vertical-align: top;\n",
              "    }\n",
              "\n",
              "    .dataframe thead th {\n",
              "        text-align: right;\n",
              "    }\n",
              "</style>\n",
              "<table border=\"1\" class=\"dataframe\">\n",
              "  <thead>\n",
              "    <tr style=\"text-align: right;\">\n",
              "      <th></th>\n",
              "      <th>상호명</th>\n",
              "    </tr>\n",
              "    <tr>\n",
              "      <th>ID</th>\n",
              "      <th></th>\n",
              "    </tr>\n",
              "  </thead>\n",
              "  <tbody>\n",
              "    <tr>\n",
              "      <th>가평</th>\n",
              "      <td>2</td>\n",
              "    </tr>\n",
              "    <tr>\n",
              "      <th>강릉</th>\n",
              "      <td>5</td>\n",
              "    </tr>\n",
              "    <tr>\n",
              "      <th>거제</th>\n",
              "      <td>6</td>\n",
              "    </tr>\n",
              "    <tr>\n",
              "      <th>경산</th>\n",
              "      <td>8</td>\n",
              "    </tr>\n",
              "    <tr>\n",
              "      <th>경주</th>\n",
              "      <td>8</td>\n",
              "    </tr>\n",
              "  </tbody>\n",
              "</table>\n",
              "</div>"
            ],
            "text/plain": [
              "    상호명\n",
              "ID     \n",
              "가평    2\n",
              "강릉    5\n",
              "거제    6\n",
              "경산    8\n",
              "경주    8"
            ]
          },
          "metadata": {},
          "execution_count": 24
        }
      ]
    },
    {
      "cell_type": "code",
      "metadata": {
        "colab": {
          "base_uri": "https://localhost:8080/",
          "height": 234
        },
        "id": "PGrMeytrd4sJ",
        "outputId": "e1eac442-7622-45eb-a369-30ebec648ba7"
      },
      "source": [
        "sb[['상호명','ID']].groupby('ID').count().head()"
      ],
      "execution_count": 25,
      "outputs": [
        {
          "output_type": "execute_result",
          "data": {
            "text/html": [
              "<div>\n",
              "<style scoped>\n",
              "    .dataframe tbody tr th:only-of-type {\n",
              "        vertical-align: middle;\n",
              "    }\n",
              "\n",
              "    .dataframe tbody tr th {\n",
              "        vertical-align: top;\n",
              "    }\n",
              "\n",
              "    .dataframe thead th {\n",
              "        text-align: right;\n",
              "    }\n",
              "</style>\n",
              "<table border=\"1\" class=\"dataframe\">\n",
              "  <thead>\n",
              "    <tr style=\"text-align: right;\">\n",
              "      <th></th>\n",
              "      <th>상호명</th>\n",
              "    </tr>\n",
              "    <tr>\n",
              "      <th>ID</th>\n",
              "      <th></th>\n",
              "    </tr>\n",
              "  </thead>\n",
              "  <tbody>\n",
              "    <tr>\n",
              "      <th>가평</th>\n",
              "      <td>2</td>\n",
              "    </tr>\n",
              "    <tr>\n",
              "      <th>강릉</th>\n",
              "      <td>5</td>\n",
              "    </tr>\n",
              "    <tr>\n",
              "      <th>거제</th>\n",
              "      <td>6</td>\n",
              "    </tr>\n",
              "    <tr>\n",
              "      <th>경산</th>\n",
              "      <td>8</td>\n",
              "    </tr>\n",
              "    <tr>\n",
              "      <th>경주</th>\n",
              "      <td>8</td>\n",
              "    </tr>\n",
              "  </tbody>\n",
              "</table>\n",
              "</div>"
            ],
            "text/plain": [
              "    상호명\n",
              "ID     \n",
              "가평    2\n",
              "강릉    5\n",
              "거제    6\n",
              "경산    8\n",
              "경주    8"
            ]
          },
          "metadata": {},
          "execution_count": 25
        }
      ]
    },
    {
      "cell_type": "code",
      "metadata": {
        "colab": {
          "base_uri": "https://localhost:8080/",
          "height": 203
        },
        "id": "zSUSpv9beEfo",
        "outputId": "fd90fa2e-2a16-4f51-e38d-d1e104d2f0df"
      },
      "source": [
        "pt_sb.columns = ['스타벅스']\n",
        "pt_sb.reset_index(inplace=True)\n",
        "pt_sb.head()"
      ],
      "execution_count": 26,
      "outputs": [
        {
          "output_type": "execute_result",
          "data": {
            "text/html": [
              "<div>\n",
              "<style scoped>\n",
              "    .dataframe tbody tr th:only-of-type {\n",
              "        vertical-align: middle;\n",
              "    }\n",
              "\n",
              "    .dataframe tbody tr th {\n",
              "        vertical-align: top;\n",
              "    }\n",
              "\n",
              "    .dataframe thead th {\n",
              "        text-align: right;\n",
              "    }\n",
              "</style>\n",
              "<table border=\"1\" class=\"dataframe\">\n",
              "  <thead>\n",
              "    <tr style=\"text-align: right;\">\n",
              "      <th></th>\n",
              "      <th>ID</th>\n",
              "      <th>스타벅스</th>\n",
              "    </tr>\n",
              "  </thead>\n",
              "  <tbody>\n",
              "    <tr>\n",
              "      <th>0</th>\n",
              "      <td>가평</td>\n",
              "      <td>2</td>\n",
              "    </tr>\n",
              "    <tr>\n",
              "      <th>1</th>\n",
              "      <td>강릉</td>\n",
              "      <td>5</td>\n",
              "    </tr>\n",
              "    <tr>\n",
              "      <th>2</th>\n",
              "      <td>거제</td>\n",
              "      <td>6</td>\n",
              "    </tr>\n",
              "    <tr>\n",
              "      <th>3</th>\n",
              "      <td>경산</td>\n",
              "      <td>8</td>\n",
              "    </tr>\n",
              "    <tr>\n",
              "      <th>4</th>\n",
              "      <td>경주</td>\n",
              "      <td>8</td>\n",
              "    </tr>\n",
              "  </tbody>\n",
              "</table>\n",
              "</div>"
            ],
            "text/plain": [
              "   ID  스타벅스\n",
              "0  가평     2\n",
              "1  강릉     5\n",
              "2  거제     6\n",
              "3  경산     8\n",
              "4  경주     8"
            ]
          },
          "metadata": {},
          "execution_count": 26
        }
      ]
    },
    {
      "cell_type": "code",
      "metadata": {
        "colab": {
          "base_uri": "https://localhost:8080/",
          "height": 203
        },
        "id": "zE1tPIL6eNfe",
        "outputId": "5f1db11f-eabe-4305-fdb5-5af72e50fbb9"
      },
      "source": [
        "pt_cb = cb.pivot_table('상호명', index='ID', aggfunc='count')\n",
        "pt_cb.columns = ['커피빈']\n",
        "pt_cb.reset_index(inplace=True)\n",
        "pt_cb.head()"
      ],
      "execution_count": 27,
      "outputs": [
        {
          "output_type": "execute_result",
          "data": {
            "text/html": [
              "<div>\n",
              "<style scoped>\n",
              "    .dataframe tbody tr th:only-of-type {\n",
              "        vertical-align: middle;\n",
              "    }\n",
              "\n",
              "    .dataframe tbody tr th {\n",
              "        vertical-align: top;\n",
              "    }\n",
              "\n",
              "    .dataframe thead th {\n",
              "        text-align: right;\n",
              "    }\n",
              "</style>\n",
              "<table border=\"1\" class=\"dataframe\">\n",
              "  <thead>\n",
              "    <tr style=\"text-align: right;\">\n",
              "      <th></th>\n",
              "      <th>ID</th>\n",
              "      <th>커피빈</th>\n",
              "    </tr>\n",
              "  </thead>\n",
              "  <tbody>\n",
              "    <tr>\n",
              "      <th>0</th>\n",
              "      <td>경주</td>\n",
              "      <td>2</td>\n",
              "    </tr>\n",
              "    <tr>\n",
              "      <th>1</th>\n",
              "      <td>고양 덕양</td>\n",
              "      <td>1</td>\n",
              "    </tr>\n",
              "    <tr>\n",
              "      <th>2</th>\n",
              "      <td>고양 일산동</td>\n",
              "      <td>5</td>\n",
              "    </tr>\n",
              "    <tr>\n",
              "      <th>3</th>\n",
              "      <td>고양 일산서</td>\n",
              "      <td>5</td>\n",
              "    </tr>\n",
              "    <tr>\n",
              "      <th>4</th>\n",
              "      <td>광명</td>\n",
              "      <td>1</td>\n",
              "    </tr>\n",
              "  </tbody>\n",
              "</table>\n",
              "</div>"
            ],
            "text/plain": [
              "       ID  커피빈\n",
              "0      경주    2\n",
              "1   고양 덕양    1\n",
              "2  고양 일산동    5\n",
              "3  고양 일산서    5\n",
              "4      광명    1"
            ]
          },
          "metadata": {},
          "execution_count": 27
        }
      ]
    },
    {
      "cell_type": "code",
      "metadata": {
        "colab": {
          "base_uri": "https://localhost:8080/",
          "height": 203
        },
        "id": "9Lbc2OHXeVZI",
        "outputId": "beef98a7-21dd-4e05-cbe8-034a702dc30b"
      },
      "source": [
        "pt_ed = ed.pivot_table('상호명', index='ID', aggfunc='count')\n",
        "pt_ed.columns = ['이디야']\n",
        "pt_ed.reset_index(inplace=True)\n",
        "pt_ed.head()"
      ],
      "execution_count": 28,
      "outputs": [
        {
          "output_type": "execute_result",
          "data": {
            "text/html": [
              "<div>\n",
              "<style scoped>\n",
              "    .dataframe tbody tr th:only-of-type {\n",
              "        vertical-align: middle;\n",
              "    }\n",
              "\n",
              "    .dataframe tbody tr th {\n",
              "        vertical-align: top;\n",
              "    }\n",
              "\n",
              "    .dataframe thead th {\n",
              "        text-align: right;\n",
              "    }\n",
              "</style>\n",
              "<table border=\"1\" class=\"dataframe\">\n",
              "  <thead>\n",
              "    <tr style=\"text-align: right;\">\n",
              "      <th></th>\n",
              "      <th>ID</th>\n",
              "      <th>이디야</th>\n",
              "    </tr>\n",
              "  </thead>\n",
              "  <tbody>\n",
              "    <tr>\n",
              "      <th>0</th>\n",
              "      <td>가평</td>\n",
              "      <td>9</td>\n",
              "    </tr>\n",
              "    <tr>\n",
              "      <th>1</th>\n",
              "      <td>강릉</td>\n",
              "      <td>15</td>\n",
              "    </tr>\n",
              "    <tr>\n",
              "      <th>2</th>\n",
              "      <td>강진</td>\n",
              "      <td>1</td>\n",
              "    </tr>\n",
              "    <tr>\n",
              "      <th>3</th>\n",
              "      <td>거제</td>\n",
              "      <td>9</td>\n",
              "    </tr>\n",
              "    <tr>\n",
              "      <th>4</th>\n",
              "      <td>거창</td>\n",
              "      <td>1</td>\n",
              "    </tr>\n",
              "  </tbody>\n",
              "</table>\n",
              "</div>"
            ],
            "text/plain": [
              "   ID  이디야\n",
              "0  가평    9\n",
              "1  강릉   15\n",
              "2  강진    1\n",
              "3  거제    9\n",
              "4  거창    1"
            ]
          },
          "metadata": {},
          "execution_count": 28
        }
      ]
    },
    {
      "cell_type": "code",
      "metadata": {
        "colab": {
          "base_uri": "https://localhost:8080/",
          "height": 203
        },
        "id": "6tlN7KDPedvE",
        "outputId": "75cf339a-3775-418a-b43f-ebd978654464"
      },
      "source": [
        "\n",
        "pt_bd = bd.pivot_table('상호명', index='ID', aggfunc='count')\n",
        "pt_bd.columns = ['빽다방']\n",
        "pt_bd.reset_index(inplace=True)\n",
        "pt_bd.head()"
      ],
      "execution_count": 29,
      "outputs": [
        {
          "output_type": "execute_result",
          "data": {
            "text/html": [
              "<div>\n",
              "<style scoped>\n",
              "    .dataframe tbody tr th:only-of-type {\n",
              "        vertical-align: middle;\n",
              "    }\n",
              "\n",
              "    .dataframe tbody tr th {\n",
              "        vertical-align: top;\n",
              "    }\n",
              "\n",
              "    .dataframe thead th {\n",
              "        text-align: right;\n",
              "    }\n",
              "</style>\n",
              "<table border=\"1\" class=\"dataframe\">\n",
              "  <thead>\n",
              "    <tr style=\"text-align: right;\">\n",
              "      <th></th>\n",
              "      <th>ID</th>\n",
              "      <th>빽다방</th>\n",
              "    </tr>\n",
              "  </thead>\n",
              "  <tbody>\n",
              "    <tr>\n",
              "      <th>0</th>\n",
              "      <td>강릉</td>\n",
              "      <td>2</td>\n",
              "    </tr>\n",
              "    <tr>\n",
              "      <th>1</th>\n",
              "      <td>거창</td>\n",
              "      <td>1</td>\n",
              "    </tr>\n",
              "    <tr>\n",
              "      <th>2</th>\n",
              "      <td>경산</td>\n",
              "      <td>4</td>\n",
              "    </tr>\n",
              "    <tr>\n",
              "      <th>3</th>\n",
              "      <td>경주</td>\n",
              "      <td>1</td>\n",
              "    </tr>\n",
              "    <tr>\n",
              "      <th>4</th>\n",
              "      <td>고성(경남)</td>\n",
              "      <td>2</td>\n",
              "    </tr>\n",
              "  </tbody>\n",
              "</table>\n",
              "</div>"
            ],
            "text/plain": [
              "       ID  빽다방\n",
              "0      강릉    2\n",
              "1      거창    1\n",
              "2      경산    4\n",
              "3      경주    1\n",
              "4  고성(경남)    2"
            ]
          },
          "metadata": {},
          "execution_count": 29
        }
      ]
    },
    {
      "cell_type": "markdown",
      "metadata": {
        "id": "y_pdm1kheosc"
      },
      "source": [
        "# 커피샵 데이터 병합하고 커피 지수 구하기"
      ]
    },
    {
      "cell_type": "code",
      "metadata": {
        "colab": {
          "base_uri": "https://localhost:8080/",
          "height": 203
        },
        "id": "vUO4GXtMetZW",
        "outputId": "696c4a9f-9aa0-4c5d-ee36-5504097120cc"
      },
      "source": [
        "cf = pd.merge(pt_ed, pt_sb, how='left')\n",
        "cf = pd.merge(cf, pt_cb, how='left')\n",
        "cf = pd.merge(cf, pt_bd, how='left')\n",
        "len(cf)\n",
        "cf.head()"
      ],
      "execution_count": 36,
      "outputs": [
        {
          "output_type": "execute_result",
          "data": {
            "text/html": [
              "<div>\n",
              "<style scoped>\n",
              "    .dataframe tbody tr th:only-of-type {\n",
              "        vertical-align: middle;\n",
              "    }\n",
              "\n",
              "    .dataframe tbody tr th {\n",
              "        vertical-align: top;\n",
              "    }\n",
              "\n",
              "    .dataframe thead th {\n",
              "        text-align: right;\n",
              "    }\n",
              "</style>\n",
              "<table border=\"1\" class=\"dataframe\">\n",
              "  <thead>\n",
              "    <tr style=\"text-align: right;\">\n",
              "      <th></th>\n",
              "      <th>ID</th>\n",
              "      <th>이디야</th>\n",
              "      <th>스타벅스</th>\n",
              "      <th>커피빈</th>\n",
              "      <th>빽다방</th>\n",
              "    </tr>\n",
              "  </thead>\n",
              "  <tbody>\n",
              "    <tr>\n",
              "      <th>0</th>\n",
              "      <td>가평</td>\n",
              "      <td>9</td>\n",
              "      <td>2.0</td>\n",
              "      <td>NaN</td>\n",
              "      <td>NaN</td>\n",
              "    </tr>\n",
              "    <tr>\n",
              "      <th>1</th>\n",
              "      <td>강릉</td>\n",
              "      <td>15</td>\n",
              "      <td>5.0</td>\n",
              "      <td>NaN</td>\n",
              "      <td>2.0</td>\n",
              "    </tr>\n",
              "    <tr>\n",
              "      <th>2</th>\n",
              "      <td>강진</td>\n",
              "      <td>1</td>\n",
              "      <td>NaN</td>\n",
              "      <td>NaN</td>\n",
              "      <td>NaN</td>\n",
              "    </tr>\n",
              "    <tr>\n",
              "      <th>3</th>\n",
              "      <td>거제</td>\n",
              "      <td>9</td>\n",
              "      <td>6.0</td>\n",
              "      <td>NaN</td>\n",
              "      <td>NaN</td>\n",
              "    </tr>\n",
              "    <tr>\n",
              "      <th>4</th>\n",
              "      <td>거창</td>\n",
              "      <td>1</td>\n",
              "      <td>NaN</td>\n",
              "      <td>NaN</td>\n",
              "      <td>1.0</td>\n",
              "    </tr>\n",
              "  </tbody>\n",
              "</table>\n",
              "</div>"
            ],
            "text/plain": [
              "   ID  이디야  스타벅스  커피빈  빽다방\n",
              "0  가평    9   2.0  NaN  NaN\n",
              "1  강릉   15   5.0  NaN  2.0\n",
              "2  강진    1   NaN  NaN  NaN\n",
              "3  거제    9   6.0  NaN  NaN\n",
              "4  거창    1   NaN  NaN  1.0"
            ]
          },
          "metadata": {},
          "execution_count": 36
        }
      ]
    },
    {
      "cell_type": "code",
      "metadata": {
        "colab": {
          "base_uri": "https://localhost:8080/",
          "height": 203
        },
        "id": "v37z3r0EfmMF",
        "outputId": "f3caeeca-3e07-4ce0-f26a-94401a4ef123"
      },
      "source": [
        "cf.fillna(0, inplace=True)\n",
        "cf.head()"
      ],
      "execution_count": 37,
      "outputs": [
        {
          "output_type": "execute_result",
          "data": {
            "text/html": [
              "<div>\n",
              "<style scoped>\n",
              "    .dataframe tbody tr th:only-of-type {\n",
              "        vertical-align: middle;\n",
              "    }\n",
              "\n",
              "    .dataframe tbody tr th {\n",
              "        vertical-align: top;\n",
              "    }\n",
              "\n",
              "    .dataframe thead th {\n",
              "        text-align: right;\n",
              "    }\n",
              "</style>\n",
              "<table border=\"1\" class=\"dataframe\">\n",
              "  <thead>\n",
              "    <tr style=\"text-align: right;\">\n",
              "      <th></th>\n",
              "      <th>ID</th>\n",
              "      <th>이디야</th>\n",
              "      <th>스타벅스</th>\n",
              "      <th>커피빈</th>\n",
              "      <th>빽다방</th>\n",
              "    </tr>\n",
              "  </thead>\n",
              "  <tbody>\n",
              "    <tr>\n",
              "      <th>0</th>\n",
              "      <td>가평</td>\n",
              "      <td>9</td>\n",
              "      <td>2.0</td>\n",
              "      <td>0.0</td>\n",
              "      <td>0.0</td>\n",
              "    </tr>\n",
              "    <tr>\n",
              "      <th>1</th>\n",
              "      <td>강릉</td>\n",
              "      <td>15</td>\n",
              "      <td>5.0</td>\n",
              "      <td>0.0</td>\n",
              "      <td>2.0</td>\n",
              "    </tr>\n",
              "    <tr>\n",
              "      <th>2</th>\n",
              "      <td>강진</td>\n",
              "      <td>1</td>\n",
              "      <td>0.0</td>\n",
              "      <td>0.0</td>\n",
              "      <td>0.0</td>\n",
              "    </tr>\n",
              "    <tr>\n",
              "      <th>3</th>\n",
              "      <td>거제</td>\n",
              "      <td>9</td>\n",
              "      <td>6.0</td>\n",
              "      <td>0.0</td>\n",
              "      <td>0.0</td>\n",
              "    </tr>\n",
              "    <tr>\n",
              "      <th>4</th>\n",
              "      <td>거창</td>\n",
              "      <td>1</td>\n",
              "      <td>0.0</td>\n",
              "      <td>0.0</td>\n",
              "      <td>1.0</td>\n",
              "    </tr>\n",
              "  </tbody>\n",
              "</table>\n",
              "</div>"
            ],
            "text/plain": [
              "   ID  이디야  스타벅스  커피빈  빽다방\n",
              "0  가평    9   2.0  0.0  0.0\n",
              "1  강릉   15   5.0  0.0  2.0\n",
              "2  강진    1   0.0  0.0  0.0\n",
              "3  거제    9   6.0  0.0  0.0\n",
              "4  거창    1   0.0  0.0  1.0"
            ]
          },
          "metadata": {},
          "execution_count": 37
        }
      ]
    },
    {
      "cell_type": "code",
      "metadata": {
        "id": "OvU2m5IpgAtC"
      },
      "source": [
        "cf['스타벅스']= cf.스타벅스.astype(int)\n",
        "cf['이디야'] = cf.이디야.astype(int)\n",
        "cf['커피빈'] = cf.커피빈.astype(int)\n",
        "cf['빽다방'] = cf.빽다방.astype(int)"
      ],
      "execution_count": 38,
      "outputs": []
    },
    {
      "cell_type": "code",
      "metadata": {
        "colab": {
          "base_uri": "https://localhost:8080/",
          "height": 203
        },
        "id": "YedjTYP3gWfJ",
        "outputId": "573976fb-adf3-4633-a7c0-afbcaba7f8a9"
      },
      "source": [
        "cf['커피지수'] = (cf.스타벅스 + cf.커피빈) / (cf.이디야 + cf.빽다방)\n",
        "cf.head()"
      ],
      "execution_count": 39,
      "outputs": [
        {
          "output_type": "execute_result",
          "data": {
            "text/html": [
              "<div>\n",
              "<style scoped>\n",
              "    .dataframe tbody tr th:only-of-type {\n",
              "        vertical-align: middle;\n",
              "    }\n",
              "\n",
              "    .dataframe tbody tr th {\n",
              "        vertical-align: top;\n",
              "    }\n",
              "\n",
              "    .dataframe thead th {\n",
              "        text-align: right;\n",
              "    }\n",
              "</style>\n",
              "<table border=\"1\" class=\"dataframe\">\n",
              "  <thead>\n",
              "    <tr style=\"text-align: right;\">\n",
              "      <th></th>\n",
              "      <th>ID</th>\n",
              "      <th>이디야</th>\n",
              "      <th>스타벅스</th>\n",
              "      <th>커피빈</th>\n",
              "      <th>빽다방</th>\n",
              "      <th>커피지수</th>\n",
              "    </tr>\n",
              "  </thead>\n",
              "  <tbody>\n",
              "    <tr>\n",
              "      <th>0</th>\n",
              "      <td>가평</td>\n",
              "      <td>9</td>\n",
              "      <td>2</td>\n",
              "      <td>0</td>\n",
              "      <td>0</td>\n",
              "      <td>0.222222</td>\n",
              "    </tr>\n",
              "    <tr>\n",
              "      <th>1</th>\n",
              "      <td>강릉</td>\n",
              "      <td>15</td>\n",
              "      <td>5</td>\n",
              "      <td>0</td>\n",
              "      <td>2</td>\n",
              "      <td>0.294118</td>\n",
              "    </tr>\n",
              "    <tr>\n",
              "      <th>2</th>\n",
              "      <td>강진</td>\n",
              "      <td>1</td>\n",
              "      <td>0</td>\n",
              "      <td>0</td>\n",
              "      <td>0</td>\n",
              "      <td>0.000000</td>\n",
              "    </tr>\n",
              "    <tr>\n",
              "      <th>3</th>\n",
              "      <td>거제</td>\n",
              "      <td>9</td>\n",
              "      <td>6</td>\n",
              "      <td>0</td>\n",
              "      <td>0</td>\n",
              "      <td>0.666667</td>\n",
              "    </tr>\n",
              "    <tr>\n",
              "      <th>4</th>\n",
              "      <td>거창</td>\n",
              "      <td>1</td>\n",
              "      <td>0</td>\n",
              "      <td>0</td>\n",
              "      <td>1</td>\n",
              "      <td>0.000000</td>\n",
              "    </tr>\n",
              "  </tbody>\n",
              "</table>\n",
              "</div>"
            ],
            "text/plain": [
              "   ID  이디야  스타벅스  커피빈  빽다방      커피지수\n",
              "0  가평    9     2    0    0  0.222222\n",
              "1  강릉   15     5    0    2  0.294118\n",
              "2  강진    1     0    0    0  0.000000\n",
              "3  거제    9     6    0    0  0.666667\n",
              "4  거창    1     0    0    1  0.000000"
            ]
          },
          "metadata": {},
          "execution_count": 39
        }
      ]
    },
    {
      "cell_type": "code",
      "metadata": {
        "id": "nulIi6w192Jy"
      },
      "source": [
        "cf.to_csv(f'{data_folder}/커피지수.csv', index=False)"
      ],
      "execution_count": 41,
      "outputs": []
    }
  ]
}