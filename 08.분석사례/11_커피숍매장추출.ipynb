{
  "nbformat": 4,
  "nbformat_minor": 0,
  "metadata": {
    "colab": {
      "name": "11_커피숍매장추출.ipynb",
      "provenance": [],
      "collapsed_sections": []
    },
    "kernelspec": {
      "name": "python3",
      "display_name": "Python 3"
    },
    "language_info": {
      "name": "python"
    }
  },
  "cells": [
    {
      "cell_type": "code",
      "metadata": {
        "id": "_FwdPZs5ncCJ"
      },
      "source": [
        "!apt-get install -y fonts-nanum > /dev/null\n",
        "!fc-cache -fv > /dev/null\n",
        "!rm -rf ~/.cache/matplotlib > /dev/null\n",
        "# 런타임 다시시작"
      ],
      "execution_count": null,
      "outputs": []
    },
    {
      "cell_type": "code",
      "metadata": {
        "id": "apAqnkRTnjva"
      },
      "source": [
        "import numpy as np\n",
        "import pandas as pd\n",
        "import warnings\n",
        "warnings.filterwarnings('ignore')"
      ],
      "execution_count": null,
      "outputs": []
    },
    {
      "cell_type": "code",
      "metadata": {
        "id": "-H3A5fG6nlL_"
      },
      "source": [
        "import matplotlib as mpl\n",
        "import matplotlib.pyplot as plt\n",
        "mpl.rcParams['axes.unicode_minus'] = False\n",
        "plt.rc('font', family='NanumBarunGothic')"
      ],
      "execution_count": null,
      "outputs": []
    },
    {
      "cell_type": "code",
      "metadata": {
        "colab": {
          "base_uri": "https://localhost:8080/"
        },
        "id": "45g_uClBnmXY",
        "outputId": "3dff62fb-c08b-4ef5-a5cb-9bab9f0071e2"
      },
      "source": [
        "from google.colab import drive\n",
        "drive.mount('/content/mnt')"
      ],
      "execution_count": null,
      "outputs": [
        {
          "output_type": "stream",
          "name": "stdout",
          "text": [
            "Mounted at /content/mnt\n"
          ]
        }
      ]
    },
    {
      "cell_type": "code",
      "metadata": {
        "id": "j2sxsNLznn3B"
      },
      "source": [
        "data_folder = \"/content/mnt/MyDrive/data/소상공인시장진흥공단_상가(상권)정보_20210630\""
      ],
      "execution_count": null,
      "outputs": []
    },
    {
      "cell_type": "code",
      "metadata": {
        "colab": {
          "base_uri": "https://localhost:8080/"
        },
        "id": "rqM3_90doQWQ",
        "outputId": "d9166742-d93a-4638-c19b-d506df6f0c28"
      },
      "source": [
        "from glob import glob\n",
        "for file in glob(f'{data_folder}/*.csv'):\n",
        "    print(file)"
      ],
      "execution_count": null,
      "outputs": [
        {
          "output_type": "stream",
          "name": "stdout",
          "text": [
            "/content/mnt/MyDrive/data/소상공인시장진흥공단_상가(상권)정보_20210630/소상공인시장진흥공단_상가(상권)정보_강원_202106.csv\n",
            "/content/mnt/MyDrive/data/소상공인시장진흥공단_상가(상권)정보_20210630/소상공인시장진흥공단_상가(상권)정보_경기_202106.csv\n",
            "/content/mnt/MyDrive/data/소상공인시장진흥공단_상가(상권)정보_20210630/소상공인시장진흥공단_상가(상권)정보_경남_202106.csv\n",
            "/content/mnt/MyDrive/data/소상공인시장진흥공단_상가(상권)정보_20210630/소상공인시장진흥공단_상가(상권)정보_경북_202106.csv\n",
            "/content/mnt/MyDrive/data/소상공인시장진흥공단_상가(상권)정보_20210630/소상공인시장진흥공단_상가(상권)정보_광주_202106.csv\n",
            "/content/mnt/MyDrive/data/소상공인시장진흥공단_상가(상권)정보_20210630/소상공인시장진흥공단_상가(상권)정보_대구_202106.csv\n",
            "/content/mnt/MyDrive/data/소상공인시장진흥공단_상가(상권)정보_20210630/소상공인시장진흥공단_상가(상권)정보_대전_202106.csv\n",
            "/content/mnt/MyDrive/data/소상공인시장진흥공단_상가(상권)정보_20210630/소상공인시장진흥공단_상가(상권)정보_부산_202106.csv\n",
            "/content/mnt/MyDrive/data/소상공인시장진흥공단_상가(상권)정보_20210630/소상공인시장진흥공단_상가(상권)정보_서울_202106.csv\n",
            "/content/mnt/MyDrive/data/소상공인시장진흥공단_상가(상권)정보_20210630/소상공인시장진흥공단_상가(상권)정보_세종_202106.csv\n",
            "/content/mnt/MyDrive/data/소상공인시장진흥공단_상가(상권)정보_20210630/소상공인시장진흥공단_상가(상권)정보_울산_202106.csv\n",
            "/content/mnt/MyDrive/data/소상공인시장진흥공단_상가(상권)정보_20210630/소상공인시장진흥공단_상가(상권)정보_인천_202106.csv\n",
            "/content/mnt/MyDrive/data/소상공인시장진흥공단_상가(상권)정보_20210630/소상공인시장진흥공단_상가(상권)정보_전남_202106.csv\n",
            "/content/mnt/MyDrive/data/소상공인시장진흥공단_상가(상권)정보_20210630/소상공인시장진흥공단_상가(상권)정보_전북_202106.csv\n",
            "/content/mnt/MyDrive/data/소상공인시장진흥공단_상가(상권)정보_20210630/소상공인시장진흥공단_상가(상권)정보_제주_202106.csv\n",
            "/content/mnt/MyDrive/data/소상공인시장진흥공단_상가(상권)정보_20210630/소상공인시장진흥공단_상가(상권)정보_충남_202106.csv\n",
            "/content/mnt/MyDrive/data/소상공인시장진흥공단_상가(상권)정보_20210630/소상공인시장진흥공단_상가(상권)정보_충북_202106.csv\n"
          ]
        }
      ]
    },
    {
      "cell_type": "code",
      "metadata": {
        "id": "S1-szy2Etva8"
      },
      "source": [
        "seoul_raw = pd.read_csv(f'{data_folder}/소상공인시장진흥공단_상가(상권)정보_서울_202106.csv')\n",
        " "
      ],
      "execution_count": null,
      "outputs": []
    },
    {
      "cell_type": "code",
      "metadata": {
        "colab": {
          "base_uri": "https://localhost:8080/"
        },
        "id": "COhoMCUEv9As",
        "outputId": "3a4660fb-5ef5-4622-f06d-ea6c011ad92b"
      },
      "source": [
        "seoul_raw = seoul_raw.loc[seoul_raw['상권업종중분류코드'] == 'Q12']\n",
        "seoul_raw.shape"
      ],
      "execution_count": null,
      "outputs": [
        {
          "output_type": "execute_result",
          "data": {
            "text/plain": [
              "(20832, 39)"
            ]
          },
          "metadata": {},
          "execution_count": 142
        }
      ]
    },
    {
      "cell_type": "code",
      "metadata": {
        "colab": {
          "base_uri": "https://localhost:8080/",
          "height": 304
        },
        "id": "HAyj2o_7E5OD",
        "outputId": "90e855af-5ac0-4f63-8e78-340695f6f67c"
      },
      "source": [
        "seoul_raw['상호명'] = seoul_raw.상호명.strip()"
      ],
      "execution_count": null,
      "outputs": [
        {
          "output_type": "error",
          "ename": "AttributeError",
          "evalue": "ignored",
          "traceback": [
            "\u001b[0;31m---------------------------------------------------------------------------\u001b[0m",
            "\u001b[0;31mAttributeError\u001b[0m                            Traceback (most recent call last)",
            "\u001b[0;32m<ipython-input-165-64f008ae394a>\u001b[0m in \u001b[0;36m<module>\u001b[0;34m()\u001b[0m\n\u001b[0;32m----> 1\u001b[0;31m \u001b[0mseoul_raw\u001b[0m\u001b[0;34m[\u001b[0m\u001b[0;34m'상호명'\u001b[0m\u001b[0;34m]\u001b[0m \u001b[0;34m=\u001b[0m \u001b[0mseoul_raw\u001b[0m\u001b[0;34m.\u001b[0m\u001b[0m상호명\u001b[0m\u001b[0;34m.\u001b[0m\u001b[0mstrip\u001b[0m\u001b[0;34m(\u001b[0m\u001b[0;34m)\u001b[0m\u001b[0;34m\u001b[0m\u001b[0;34m\u001b[0m\u001b[0m\n\u001b[0m",
            "\u001b[0;32m/usr/local/lib/python3.7/dist-packages/pandas/core/generic.py\u001b[0m in \u001b[0;36m__getattr__\u001b[0;34m(self, name)\u001b[0m\n\u001b[1;32m   5139\u001b[0m             \u001b[0;32mif\u001b[0m \u001b[0mself\u001b[0m\u001b[0;34m.\u001b[0m\u001b[0m_info_axis\u001b[0m\u001b[0;34m.\u001b[0m\u001b[0m_can_hold_identifiers_and_holds_name\u001b[0m\u001b[0;34m(\u001b[0m\u001b[0mname\u001b[0m\u001b[0;34m)\u001b[0m\u001b[0;34m:\u001b[0m\u001b[0;34m\u001b[0m\u001b[0;34m\u001b[0m\u001b[0m\n\u001b[1;32m   5140\u001b[0m                 \u001b[0;32mreturn\u001b[0m \u001b[0mself\u001b[0m\u001b[0;34m[\u001b[0m\u001b[0mname\u001b[0m\u001b[0;34m]\u001b[0m\u001b[0;34m\u001b[0m\u001b[0;34m\u001b[0m\u001b[0m\n\u001b[0;32m-> 5141\u001b[0;31m             \u001b[0;32mreturn\u001b[0m \u001b[0mobject\u001b[0m\u001b[0;34m.\u001b[0m\u001b[0m__getattribute__\u001b[0m\u001b[0;34m(\u001b[0m\u001b[0mself\u001b[0m\u001b[0;34m,\u001b[0m \u001b[0mname\u001b[0m\u001b[0;34m)\u001b[0m\u001b[0;34m\u001b[0m\u001b[0;34m\u001b[0m\u001b[0m\n\u001b[0m\u001b[1;32m   5142\u001b[0m \u001b[0;34m\u001b[0m\u001b[0m\n\u001b[1;32m   5143\u001b[0m     \u001b[0;32mdef\u001b[0m \u001b[0m__setattr__\u001b[0m\u001b[0;34m(\u001b[0m\u001b[0mself\u001b[0m\u001b[0;34m,\u001b[0m \u001b[0mname\u001b[0m\u001b[0;34m:\u001b[0m \u001b[0mstr\u001b[0m\u001b[0;34m,\u001b[0m \u001b[0mvalue\u001b[0m\u001b[0;34m)\u001b[0m \u001b[0;34m->\u001b[0m \u001b[0;32mNone\u001b[0m\u001b[0;34m:\u001b[0m\u001b[0;34m\u001b[0m\u001b[0;34m\u001b[0m\u001b[0m\n",
            "\u001b[0;31mAttributeError\u001b[0m: 'Series' object has no attribute 'strip'"
          ]
        }
      ]
    },
    {
      "cell_type": "code",
      "metadata": {
        "colab": {
          "base_uri": "https://localhost:8080/"
        },
        "id": "lg5Us9BstvYK",
        "outputId": "b14b5138-9af2-4f3f-c557-b9d89a2dfeab"
      },
      "source": [
        "df = seoul_raw[['상호명','지점명','시도명','시군구명','도로명주소']]\n",
        "df.shape"
      ],
      "execution_count": null,
      "outputs": [
        {
          "output_type": "execute_result",
          "data": {
            "text/plain": [
              "(20832, 5)"
            ]
          },
          "metadata": {},
          "execution_count": 145
        }
      ]
    },
    {
      "cell_type": "code",
      "metadata": {
        "colab": {
          "base_uri": "https://localhost:8080/"
        },
        "id": "-nQdPX8X-Hyh",
        "outputId": "1a266771-2f69-4efb-82a2-e59a8496df3a"
      },
      "source": [
        "\n",
        "df_st = df[df['상호명'].str.contains('STAR', case=False)]\n",
        "print(df_st)"
      ],
      "execution_count": null,
      "outputs": [
        {
          "output_type": "stream",
          "name": "stdout",
          "text": [
            "                    상호명  지점명    시도명 시군구명               도로명주소\n",
            "173270  STARBUCKSCOFFEE  NaN  서울특별시  서초구  서울특별시 서초구 신반포로 176\n"
          ]
        }
      ]
    },
    {
      "cell_type": "code",
      "metadata": {
        "colab": {
          "base_uri": "https://localhost:8080/"
        },
        "id": "7jtLAJag30BJ",
        "outputId": "03d9caae-d220-4794-d327-2945a21e8647"
      },
      "source": [
        "df_ediya = df[df['상호명'].str.contains('이디', case=False)]\n",
        "print(df_ediya)"
      ],
      "execution_count": null,
      "outputs": [
        {
          "output_type": "stream",
          "name": "stdout",
          "text": [
            "               상호명        지점명    시도명  시군구명                  도로명주소\n",
            "1272         이디야커피       신길역점  서울특별시  영등포구    서울특별시 영등포구 영등포로 353\n",
            "1411         이디야커피       라이프점  서울특별시  영등포구      서울특별시 영등포구 63로 40\n",
            "2433    이디야커피양재AT점      양재AT점  서울특별시   서초구        서울특별시 서초구 동산로 3\n",
            "2690         이디아커피        NaN  서울특별시   강동구     서울특별시 강동구 성내로6길 20\n",
            "2785         이디야커피        시흥점  서울특별시   금천구      서울특별시 금천구 금하로 750\n",
            "...            ...        ...    ...   ...                    ...\n",
            "310131       이디야커피      강남율현점  서울특별시   강남구    서울특별시 강남구 밤고개로21길 8\n",
            "310422       이디야커피  신사동고개삼거리점  서울특별시   은평구        서울특별시 은평구 갈현로 1\n",
            "311002     뉴욕쟁이디저트        성내점  서울특별시   강동구    서울특별시 강동구 성내로15길 68\n",
            "311852       이디야커피       양원역점  서울특별시   중랑구  서울특별시 중랑구 양원역로14가길 24\n",
            "314146       이디야커피       곰달래점  서울특별시   강서구      서울특별시 강서구 곰달래로 52\n",
            "\n",
            "[478 rows x 5 columns]\n"
          ]
        }
      ]
    },
    {
      "cell_type": "code",
      "metadata": {
        "colab": {
          "base_uri": "https://localhost:8080/"
        },
        "id": "LXPStHA14m_W",
        "outputId": "5854b520-13af-4788-e9a4-b45b60fbf7ec"
      },
      "source": [
        "df_b = df[df['상호명'].str.contains('빈', case=False)]\n",
        "print(df_b)"
      ],
      "execution_count": null,
      "outputs": [
        {
          "output_type": "stream",
          "name": "stdout",
          "text": [
            "                상호명           지점명    시도명  시군구명                  도로명주소\n",
            "28              커피빈   코리아대학로대명거리점  서울특별시   종로구       서울특별시 종로구 대명길 25\n",
            "316     커피빈코리아낙성대역점      코리아낙성대역점  서울특별시   관악구   서울특별시 관악구 남부순환로 1909\n",
            "383          빈트리망원점           망원점  서울특별시   마포구       서울특별시 마포구 망원로 22\n",
            "1470            커피빈  코리아강남역랭기지타워점  서울특별시   강남구    서울특별시 강남구 테헤란로4길 28\n",
            "1491            커피빈      코리아청담성당점  서울특별시   강남구      서울특별시 강남구 삼성로 716\n",
            "...             ...           ...    ...   ...                    ...\n",
            "313990          빈스밀           NaN  서울특별시   용산구    서울특별시 용산구 한강대로98길 9\n",
            "314589          와플빈           NaN  서울특별시   구로구   서울특별시 구로구 서해안로30길 16\n",
            "314786       빈티지팩토리           NaN  서울특별시  동대문구  서울특별시 동대문구 신이문로23길 19\n",
            "315098      카페조이빈대림           NaN  서울특별시  영등포구    서울특별시 영등포구 시흥대로 629\n",
            "315705          빈트리           NaN  서울특별시   종로구   서울특별시 종로구 새문안로5가길 13\n",
            "\n",
            "[499 rows x 5 columns]\n"
          ]
        }
      ]
    },
    {
      "cell_type": "code",
      "metadata": {
        "colab": {
          "base_uri": "https://localhost:8080/"
        },
        "id": "oy1YXte15LwO",
        "outputId": "25bd7dd6-b863-4225-bd91-d8d8f8d355e6"
      },
      "source": [
        "df_p = df[df['상호명'].str.contains('pai', case=False)]\n",
        "print(df_p)"
      ],
      "execution_count": null,
      "outputs": [
        {
          "output_type": "stream",
          "name": "stdout",
          "text": [
            "                   상호명  지점명    시도명 시군구명                  도로명주소\n",
            "209469     PAIKSCOFFEE  NaN  서울특별시  송파구  서울특별시 송파구 올림픽로35길 104\n",
            "289562  빽다방PAIKSCOFFEE  NaN  서울특별시  마포구    서울특별시 마포구 마포대로4길 16\n"
          ]
        }
      ]
    },
    {
      "cell_type": "code",
      "metadata": {
        "colab": {
          "base_uri": "https://localhost:8080/",
          "height": 223
        },
        "id": "4JVnjjgc1k8A",
        "outputId": "79829ebb-d08f-45c5-ce0f-2215f9d6f3ab"
      },
      "source": [
        "df = df[df['상호명'].isin(['스타벅스','STARBUCKSCOFFEE', '커피빈','커피빈코리아낙성대역점','COFFEEBEAN영동2교사거리점','이디야','이디야커피','이디야커피양재AT점','EDIYACOFFEE','EDIYACOFFEESHOP','ediyacoffee','EDIYA카페','백다방','빽다방','PAIKSCOFFEE','빽다방PAIKSCOFFEE'])]\n",
        "print(df.shape)\n",
        "df.tail()"
      ],
      "execution_count": null,
      "outputs": [
        {
          "output_type": "stream",
          "name": "stdout",
          "text": [
            "(925, 5)\n"
          ]
        },
        {
          "output_type": "execute_result",
          "data": {
            "text/html": [
              "<div>\n",
              "<style scoped>\n",
              "    .dataframe tbody tr th:only-of-type {\n",
              "        vertical-align: middle;\n",
              "    }\n",
              "\n",
              "    .dataframe tbody tr th {\n",
              "        vertical-align: top;\n",
              "    }\n",
              "\n",
              "    .dataframe thead th {\n",
              "        text-align: right;\n",
              "    }\n",
              "</style>\n",
              "<table border=\"1\" class=\"dataframe\">\n",
              "  <thead>\n",
              "    <tr style=\"text-align: right;\">\n",
              "      <th></th>\n",
              "      <th>상호명</th>\n",
              "      <th>지점명</th>\n",
              "      <th>시도명</th>\n",
              "      <th>시군구명</th>\n",
              "      <th>도로명주소</th>\n",
              "    </tr>\n",
              "  </thead>\n",
              "  <tbody>\n",
              "    <tr>\n",
              "      <th>313072</th>\n",
              "      <td>스타벅스</td>\n",
              "      <td>대치한티점</td>\n",
              "      <td>서울특별시</td>\n",
              "      <td>강남구</td>\n",
              "      <td>서울특별시 강남구 선릉로 324</td>\n",
              "    </tr>\n",
              "    <tr>\n",
              "      <th>313415</th>\n",
              "      <td>스타벅스</td>\n",
              "      <td>태릉입구역DT점</td>\n",
              "      <td>서울특별시</td>\n",
              "      <td>노원구</td>\n",
              "      <td>서울특별시 노원구 화랑로 469</td>\n",
              "    </tr>\n",
              "    <tr>\n",
              "      <th>313431</th>\n",
              "      <td>빽다방</td>\n",
              "      <td>행당무학점</td>\n",
              "      <td>서울특별시</td>\n",
              "      <td>성동구</td>\n",
              "      <td>서울특별시 성동구 행당로 121</td>\n",
              "    </tr>\n",
              "    <tr>\n",
              "      <th>314146</th>\n",
              "      <td>이디야커피</td>\n",
              "      <td>곰달래점</td>\n",
              "      <td>서울특별시</td>\n",
              "      <td>강서구</td>\n",
              "      <td>서울특별시 강서구 곰달래로 52</td>\n",
              "    </tr>\n",
              "    <tr>\n",
              "      <th>315403</th>\n",
              "      <td>스타벅스</td>\n",
              "      <td>명일이마트점</td>\n",
              "      <td>서울특별시</td>\n",
              "      <td>강동구</td>\n",
              "      <td>서울특별시 강동구 동남로75길 5</td>\n",
              "    </tr>\n",
              "  </tbody>\n",
              "</table>\n",
              "</div>"
            ],
            "text/plain": [
              "          상호명       지점명    시도명 시군구명               도로명주소\n",
              "313072   스타벅스     대치한티점  서울특별시  강남구   서울특별시 강남구 선릉로 324\n",
              "313415   스타벅스  태릉입구역DT점  서울특별시  노원구   서울특별시 노원구 화랑로 469\n",
              "313431    빽다방     행당무학점  서울특별시  성동구   서울특별시 성동구 행당로 121\n",
              "314146  이디야커피      곰달래점  서울특별시  강서구   서울특별시 강서구 곰달래로 52\n",
              "315403   스타벅스    명일이마트점  서울특별시  강동구  서울특별시 강동구 동남로75길 5"
            ]
          },
          "metadata": {},
          "execution_count": 147
        }
      ]
    },
    {
      "cell_type": "markdown",
      "metadata": {
        "id": "R3MY2g9MswTC"
      },
      "source": [
        "# 서울 데이터에서 4개 매장 정보 추출하기"
      ]
    },
    {
      "cell_type": "code",
      "metadata": {
        "colab": {
          "base_uri": "https://localhost:8080/",
          "height": 606
        },
        "id": "lP15KoYJsbSl",
        "outputId": "e3082cb9-e2df-438d-e011-2d55d9c77df0"
      },
      "source": [
        "shop_list = ['스타벅스','STARBUCKSCOFFEE', '커피빈','커피빈코리아낙성대역점','COFFEEBEAN영동2교사거리점','이디야','이디야커피','이디야커피양재AT점','EDIYACOFFEE','EDIYACOFFEESHOP','ediyacoffee','EDIYA카페','백다방','빽다방','PAIKSCOFFEE','빽다방PAIKSCOFFEE']\n",
        " \n",
        "for file in glob(f'{data_folder}/*.csv'):\n",
        "    file = pd.read_csv(file)\n",
        "    for i in range(len(shop_list)):\n",
        "        if i == df['상호명'[i]:\n",
        "             \n",
        "seoul_raw = seoul_raw.loc[seoul_raw['상권업종중분류코드'] == 'Q12']\n",
        "df = seoul_raw[['상호명','지점명','시도명','시군구명','도로명주소']]\n",
        "\n"
      ],
      "execution_count": null,
      "outputs": [
        {
          "output_type": "error",
          "ename": "KeyError",
          "evalue": "ignored",
          "traceback": [
            "\u001b[0;31m---------------------------------------------------------------------------\u001b[0m",
            "\u001b[0;31mKeyError\u001b[0m                                  Traceback (most recent call last)",
            "\u001b[0;32m/usr/local/lib/python3.7/dist-packages/pandas/core/indexes/base.py\u001b[0m in \u001b[0;36mget_loc\u001b[0;34m(self, key, method, tolerance)\u001b[0m\n\u001b[1;32m   2897\u001b[0m             \u001b[0;32mtry\u001b[0m\u001b[0;34m:\u001b[0m\u001b[0;34m\u001b[0m\u001b[0;34m\u001b[0m\u001b[0m\n\u001b[0;32m-> 2898\u001b[0;31m                 \u001b[0;32mreturn\u001b[0m \u001b[0mself\u001b[0m\u001b[0;34m.\u001b[0m\u001b[0m_engine\u001b[0m\u001b[0;34m.\u001b[0m\u001b[0mget_loc\u001b[0m\u001b[0;34m(\u001b[0m\u001b[0mcasted_key\u001b[0m\u001b[0;34m)\u001b[0m\u001b[0;34m\u001b[0m\u001b[0;34m\u001b[0m\u001b[0m\n\u001b[0m\u001b[1;32m   2899\u001b[0m             \u001b[0;32mexcept\u001b[0m \u001b[0mKeyError\u001b[0m \u001b[0;32mas\u001b[0m \u001b[0merr\u001b[0m\u001b[0;34m:\u001b[0m\u001b[0;34m\u001b[0m\u001b[0;34m\u001b[0m\u001b[0m\n",
            "\u001b[0;32mpandas/_libs/index.pyx\u001b[0m in \u001b[0;36mpandas._libs.index.IndexEngine.get_loc\u001b[0;34m()\u001b[0m\n",
            "\u001b[0;32mpandas/_libs/index.pyx\u001b[0m in \u001b[0;36mpandas._libs.index.IndexEngine.get_loc\u001b[0;34m()\u001b[0m\n",
            "\u001b[0;32mpandas/_libs/hashtable_class_helper.pxi\u001b[0m in \u001b[0;36mpandas._libs.hashtable.Int64HashTable.get_item\u001b[0;34m()\u001b[0m\n",
            "\u001b[0;32mpandas/_libs/hashtable_class_helper.pxi\u001b[0m in \u001b[0;36mpandas._libs.hashtable.Int64HashTable.get_item\u001b[0;34m()\u001b[0m\n",
            "\u001b[0;31mKeyError\u001b[0m: 0",
            "\nThe above exception was the direct cause of the following exception:\n",
            "\u001b[0;31mKeyError\u001b[0m                                  Traceback (most recent call last)",
            "\u001b[0;32m<ipython-input-162-b0392b1be5e4>\u001b[0m in \u001b[0;36m<module>\u001b[0;34m()\u001b[0m\n\u001b[1;32m      4\u001b[0m     \u001b[0mfile\u001b[0m \u001b[0;34m=\u001b[0m \u001b[0mpd\u001b[0m\u001b[0;34m.\u001b[0m\u001b[0mread_csv\u001b[0m\u001b[0;34m(\u001b[0m\u001b[0mfile\u001b[0m\u001b[0;34m)\u001b[0m\u001b[0;34m\u001b[0m\u001b[0;34m\u001b[0m\u001b[0m\n\u001b[1;32m      5\u001b[0m     \u001b[0;32mfor\u001b[0m \u001b[0mi\u001b[0m \u001b[0;32min\u001b[0m \u001b[0mrange\u001b[0m\u001b[0;34m(\u001b[0m\u001b[0mlen\u001b[0m\u001b[0;34m(\u001b[0m\u001b[0mshop_list\u001b[0m\u001b[0;34m)\u001b[0m\u001b[0;34m)\u001b[0m\u001b[0;34m:\u001b[0m\u001b[0;34m\u001b[0m\u001b[0;34m\u001b[0m\u001b[0m\n\u001b[0;32m----> 6\u001b[0;31m         \u001b[0;32mif\u001b[0m \u001b[0mi\u001b[0m \u001b[0;34m==\u001b[0m \u001b[0mdf\u001b[0m\u001b[0;34m.\u001b[0m\u001b[0m상호명\u001b[0m\u001b[0;34m.\u001b[0m\u001b[0mloc\u001b[0m\u001b[0;34m[\u001b[0m\u001b[0mi\u001b[0m\u001b[0;34m]\u001b[0m\u001b[0;34m:\u001b[0m\u001b[0;34m\u001b[0m\u001b[0;34m\u001b[0m\u001b[0m\n\u001b[0m\u001b[1;32m      7\u001b[0m             \u001b[0mdf_list\u001b[0m\u001b[0;34m.\u001b[0m\u001b[0mappend\u001b[0m\u001b[0;34m(\u001b[0m\u001b[0mi\u001b[0m\u001b[0;34m)\u001b[0m\u001b[0;34m\u001b[0m\u001b[0;34m\u001b[0m\u001b[0m\n\u001b[1;32m      8\u001b[0m \u001b[0;34m\u001b[0m\u001b[0m\n",
            "\u001b[0;32m/usr/local/lib/python3.7/dist-packages/pandas/core/indexing.py\u001b[0m in \u001b[0;36m__getitem__\u001b[0;34m(self, key)\u001b[0m\n\u001b[1;32m    877\u001b[0m \u001b[0;34m\u001b[0m\u001b[0m\n\u001b[1;32m    878\u001b[0m             \u001b[0mmaybe_callable\u001b[0m \u001b[0;34m=\u001b[0m \u001b[0mcom\u001b[0m\u001b[0;34m.\u001b[0m\u001b[0mapply_if_callable\u001b[0m\u001b[0;34m(\u001b[0m\u001b[0mkey\u001b[0m\u001b[0;34m,\u001b[0m \u001b[0mself\u001b[0m\u001b[0;34m.\u001b[0m\u001b[0mobj\u001b[0m\u001b[0;34m)\u001b[0m\u001b[0;34m\u001b[0m\u001b[0;34m\u001b[0m\u001b[0m\n\u001b[0;32m--> 879\u001b[0;31m             \u001b[0;32mreturn\u001b[0m \u001b[0mself\u001b[0m\u001b[0;34m.\u001b[0m\u001b[0m_getitem_axis\u001b[0m\u001b[0;34m(\u001b[0m\u001b[0mmaybe_callable\u001b[0m\u001b[0;34m,\u001b[0m \u001b[0maxis\u001b[0m\u001b[0;34m=\u001b[0m\u001b[0maxis\u001b[0m\u001b[0;34m)\u001b[0m\u001b[0;34m\u001b[0m\u001b[0;34m\u001b[0m\u001b[0m\n\u001b[0m\u001b[1;32m    880\u001b[0m \u001b[0;34m\u001b[0m\u001b[0m\n\u001b[1;32m    881\u001b[0m     \u001b[0;32mdef\u001b[0m \u001b[0m_is_scalar_access\u001b[0m\u001b[0;34m(\u001b[0m\u001b[0mself\u001b[0m\u001b[0;34m,\u001b[0m \u001b[0mkey\u001b[0m\u001b[0;34m:\u001b[0m \u001b[0mTuple\u001b[0m\u001b[0;34m)\u001b[0m\u001b[0;34m:\u001b[0m\u001b[0;34m\u001b[0m\u001b[0;34m\u001b[0m\u001b[0m\n",
            "\u001b[0;32m/usr/local/lib/python3.7/dist-packages/pandas/core/indexing.py\u001b[0m in \u001b[0;36m_getitem_axis\u001b[0;34m(self, key, axis)\u001b[0m\n\u001b[1;32m   1108\u001b[0m         \u001b[0;31m# fall thru to straight lookup\u001b[0m\u001b[0;34m\u001b[0m\u001b[0;34m\u001b[0m\u001b[0;34m\u001b[0m\u001b[0m\n\u001b[1;32m   1109\u001b[0m         \u001b[0mself\u001b[0m\u001b[0;34m.\u001b[0m\u001b[0m_validate_key\u001b[0m\u001b[0;34m(\u001b[0m\u001b[0mkey\u001b[0m\u001b[0;34m,\u001b[0m \u001b[0maxis\u001b[0m\u001b[0;34m)\u001b[0m\u001b[0;34m\u001b[0m\u001b[0;34m\u001b[0m\u001b[0m\n\u001b[0;32m-> 1110\u001b[0;31m         \u001b[0;32mreturn\u001b[0m \u001b[0mself\u001b[0m\u001b[0;34m.\u001b[0m\u001b[0m_get_label\u001b[0m\u001b[0;34m(\u001b[0m\u001b[0mkey\u001b[0m\u001b[0;34m,\u001b[0m \u001b[0maxis\u001b[0m\u001b[0;34m=\u001b[0m\u001b[0maxis\u001b[0m\u001b[0;34m)\u001b[0m\u001b[0;34m\u001b[0m\u001b[0;34m\u001b[0m\u001b[0m\n\u001b[0m\u001b[1;32m   1111\u001b[0m \u001b[0;34m\u001b[0m\u001b[0m\n\u001b[1;32m   1112\u001b[0m     \u001b[0;32mdef\u001b[0m \u001b[0m_get_slice_axis\u001b[0m\u001b[0;34m(\u001b[0m\u001b[0mself\u001b[0m\u001b[0;34m,\u001b[0m \u001b[0mslice_obj\u001b[0m\u001b[0;34m:\u001b[0m \u001b[0mslice\u001b[0m\u001b[0;34m,\u001b[0m \u001b[0maxis\u001b[0m\u001b[0;34m:\u001b[0m \u001b[0mint\u001b[0m\u001b[0;34m)\u001b[0m\u001b[0;34m:\u001b[0m\u001b[0;34m\u001b[0m\u001b[0;34m\u001b[0m\u001b[0m\n",
            "\u001b[0;32m/usr/local/lib/python3.7/dist-packages/pandas/core/indexing.py\u001b[0m in \u001b[0;36m_get_label\u001b[0;34m(self, label, axis)\u001b[0m\n\u001b[1;32m   1057\u001b[0m     \u001b[0;32mdef\u001b[0m \u001b[0m_get_label\u001b[0m\u001b[0;34m(\u001b[0m\u001b[0mself\u001b[0m\u001b[0;34m,\u001b[0m \u001b[0mlabel\u001b[0m\u001b[0;34m,\u001b[0m \u001b[0maxis\u001b[0m\u001b[0;34m:\u001b[0m \u001b[0mint\u001b[0m\u001b[0;34m)\u001b[0m\u001b[0;34m:\u001b[0m\u001b[0;34m\u001b[0m\u001b[0;34m\u001b[0m\u001b[0m\n\u001b[1;32m   1058\u001b[0m         \u001b[0;31m# GH#5667 this will fail if the label is not present in the axis.\u001b[0m\u001b[0;34m\u001b[0m\u001b[0;34m\u001b[0m\u001b[0;34m\u001b[0m\u001b[0m\n\u001b[0;32m-> 1059\u001b[0;31m         \u001b[0;32mreturn\u001b[0m \u001b[0mself\u001b[0m\u001b[0;34m.\u001b[0m\u001b[0mobj\u001b[0m\u001b[0;34m.\u001b[0m\u001b[0mxs\u001b[0m\u001b[0;34m(\u001b[0m\u001b[0mlabel\u001b[0m\u001b[0;34m,\u001b[0m \u001b[0maxis\u001b[0m\u001b[0;34m=\u001b[0m\u001b[0maxis\u001b[0m\u001b[0;34m)\u001b[0m\u001b[0;34m\u001b[0m\u001b[0;34m\u001b[0m\u001b[0m\n\u001b[0m\u001b[1;32m   1060\u001b[0m \u001b[0;34m\u001b[0m\u001b[0m\n\u001b[1;32m   1061\u001b[0m     \u001b[0;32mdef\u001b[0m \u001b[0m_handle_lowerdim_multi_index_axis0\u001b[0m\u001b[0;34m(\u001b[0m\u001b[0mself\u001b[0m\u001b[0;34m,\u001b[0m \u001b[0mtup\u001b[0m\u001b[0;34m:\u001b[0m \u001b[0mTuple\u001b[0m\u001b[0;34m)\u001b[0m\u001b[0;34m:\u001b[0m\u001b[0;34m\u001b[0m\u001b[0;34m\u001b[0m\u001b[0m\n",
            "\u001b[0;32m/usr/local/lib/python3.7/dist-packages/pandas/core/generic.py\u001b[0m in \u001b[0;36mxs\u001b[0;34m(self, key, axis, level, drop_level)\u001b[0m\n\u001b[1;32m   3491\u001b[0m             \u001b[0mloc\u001b[0m\u001b[0;34m,\u001b[0m \u001b[0mnew_index\u001b[0m \u001b[0;34m=\u001b[0m \u001b[0mself\u001b[0m\u001b[0;34m.\u001b[0m\u001b[0mindex\u001b[0m\u001b[0;34m.\u001b[0m\u001b[0mget_loc_level\u001b[0m\u001b[0;34m(\u001b[0m\u001b[0mkey\u001b[0m\u001b[0;34m,\u001b[0m \u001b[0mdrop_level\u001b[0m\u001b[0;34m=\u001b[0m\u001b[0mdrop_level\u001b[0m\u001b[0;34m)\u001b[0m\u001b[0;34m\u001b[0m\u001b[0;34m\u001b[0m\u001b[0m\n\u001b[1;32m   3492\u001b[0m         \u001b[0;32melse\u001b[0m\u001b[0;34m:\u001b[0m\u001b[0;34m\u001b[0m\u001b[0;34m\u001b[0m\u001b[0m\n\u001b[0;32m-> 3493\u001b[0;31m             \u001b[0mloc\u001b[0m \u001b[0;34m=\u001b[0m \u001b[0mself\u001b[0m\u001b[0;34m.\u001b[0m\u001b[0mindex\u001b[0m\u001b[0;34m.\u001b[0m\u001b[0mget_loc\u001b[0m\u001b[0;34m(\u001b[0m\u001b[0mkey\u001b[0m\u001b[0;34m)\u001b[0m\u001b[0;34m\u001b[0m\u001b[0;34m\u001b[0m\u001b[0m\n\u001b[0m\u001b[1;32m   3494\u001b[0m \u001b[0;34m\u001b[0m\u001b[0m\n\u001b[1;32m   3495\u001b[0m             \u001b[0;32mif\u001b[0m \u001b[0misinstance\u001b[0m\u001b[0;34m(\u001b[0m\u001b[0mloc\u001b[0m\u001b[0;34m,\u001b[0m \u001b[0mnp\u001b[0m\u001b[0;34m.\u001b[0m\u001b[0mndarray\u001b[0m\u001b[0;34m)\u001b[0m\u001b[0;34m:\u001b[0m\u001b[0;34m\u001b[0m\u001b[0;34m\u001b[0m\u001b[0m\n",
            "\u001b[0;32m/usr/local/lib/python3.7/dist-packages/pandas/core/indexes/base.py\u001b[0m in \u001b[0;36mget_loc\u001b[0;34m(self, key, method, tolerance)\u001b[0m\n\u001b[1;32m   2898\u001b[0m                 \u001b[0;32mreturn\u001b[0m \u001b[0mself\u001b[0m\u001b[0;34m.\u001b[0m\u001b[0m_engine\u001b[0m\u001b[0;34m.\u001b[0m\u001b[0mget_loc\u001b[0m\u001b[0;34m(\u001b[0m\u001b[0mcasted_key\u001b[0m\u001b[0;34m)\u001b[0m\u001b[0;34m\u001b[0m\u001b[0;34m\u001b[0m\u001b[0m\n\u001b[1;32m   2899\u001b[0m             \u001b[0;32mexcept\u001b[0m \u001b[0mKeyError\u001b[0m \u001b[0;32mas\u001b[0m \u001b[0merr\u001b[0m\u001b[0;34m:\u001b[0m\u001b[0;34m\u001b[0m\u001b[0;34m\u001b[0m\u001b[0m\n\u001b[0;32m-> 2900\u001b[0;31m                 \u001b[0;32mraise\u001b[0m \u001b[0mKeyError\u001b[0m\u001b[0;34m(\u001b[0m\u001b[0mkey\u001b[0m\u001b[0;34m)\u001b[0m \u001b[0;32mfrom\u001b[0m \u001b[0merr\u001b[0m\u001b[0;34m\u001b[0m\u001b[0;34m\u001b[0m\u001b[0m\n\u001b[0m\u001b[1;32m   2901\u001b[0m \u001b[0;34m\u001b[0m\u001b[0m\n\u001b[1;32m   2902\u001b[0m         \u001b[0;32mif\u001b[0m \u001b[0mtolerance\u001b[0m \u001b[0;32mis\u001b[0m \u001b[0;32mnot\u001b[0m \u001b[0;32mNone\u001b[0m\u001b[0;34m:\u001b[0m\u001b[0;34m\u001b[0m\u001b[0;34m\u001b[0m\u001b[0m\n",
            "\u001b[0;31mKeyError\u001b[0m: 0"
          ]
        }
      ]
    },
    {
      "cell_type": "markdown",
      "metadata": {
        "id": "9E0cOBtjISxH"
      },
      "source": [
        "# 선생님 코드"
      ]
    },
    {
      "cell_type": "markdown",
      "metadata": {
        "id": "xlf6Iv-cIgVL"
      },
      "source": [
        " - 서울 데이터에서 4개 매장 정보 추출"
      ]
    },
    {
      "cell_type": "code",
      "metadata": {
        "colab": {
          "base_uri": "https://localhost:8080/"
        },
        "id": "UKkqr0S8Cn6r",
        "outputId": "01fd4347-0990-4dc4-abc1-37e2ec308370"
      },
      "source": [
        "df = pd.read_csv(f'{data_folder}/소상공인시장진흥공단_상가(상권)정보_서울_202106.csv')\n",
        "df = df[df.상권업종중분류코드 == 'Q12']\n",
        "df = df[['상호명','지점명','시도명','시군구명','도로명주소']]\n",
        "df.shape"
      ],
      "execution_count": null,
      "outputs": [
        {
          "output_type": "execute_result",
          "data": {
            "text/plain": [
              "(20832, 5)"
            ]
          },
          "metadata": {},
          "execution_count": 171
        }
      ]
    },
    {
      "cell_type": "code",
      "metadata": {
        "colab": {
          "base_uri": "https://localhost:8080/"
        },
        "id": "xdx7QCUFJb2x",
        "outputId": "7348ceb8-8449-49e2-b6e9-4aeb095814eb"
      },
      "source": [
        "sb = df[df.상호명.str.contains('스타벅스|STARBUCKS', case=False, na=False)]\n",
        "sb.tail\n"
      ],
      "execution_count": null,
      "outputs": [
        {
          "output_type": "execute_result",
          "data": {
            "text/plain": [
              "<bound method NDFrame.tail of                 상호명       지점명    시도명  시군구명                 도로명주소\n",
              "1738           스타벅스    동숭로아트점  서울특별시   종로구     서울특별시 종로구 동숭길 110\n",
              "2766    스타벅스남부터미널2점   남부터미널2점  서울특별시   서초구     서울특별시 서초구 효령로 274\n",
              "3785           스타벅스       당산점  서울특별시  영등포구     서울특별시 영등포구 양평로 64\n",
              "3933           스타벅스     가로수길점  서울특별시   강남구  서울특별시 강남구 논현로175길 94\n",
              "3995    스타벅스미아사거리역점   미아사거리역점  서울특별시   강북구      서울특별시 강북구 도봉로 32\n",
              "...             ...       ...    ...   ...                   ...\n",
              "313415         스타벅스  태릉입구역DT점  서울특별시   노원구     서울특별시 노원구 화랑로 469\n",
              "313555     스타벅스삼성교점      삼성교점  서울특별시   강남구  서울특별시 강남구 영동대로86길 12\n",
              "313843      스타벅스목동점       목동점  서울특별시   양천구     서울특별시 양천구 목동서로 67\n",
              "315403         스타벅스    명일이마트점  서울특별시   강동구    서울특별시 강동구 동남로75길 5\n",
              "315451   스타벅스조선호텔후문       NaN  서울특별시    중구    서울특별시 중구 남대문로7길 19\n",
              "\n",
              "[489 rows x 5 columns]>"
            ]
          },
          "metadata": {},
          "execution_count": 173
        }
      ]
    },
    {
      "cell_type": "code",
      "metadata": {
        "colab": {
          "base_uri": "https://localhost:8080/"
        },
        "id": "N7GcnJzSKFlX",
        "outputId": "81975755-43fa-434e-f3a7-07df44205a6e"
      },
      "source": [
        "sb2 = df[df.지점명.str.contains('스타벅스|STARBUCKS', case=False, na=False)]\n",
        "sb2.tail\n"
      ],
      "execution_count": null,
      "outputs": [
        {
          "output_type": "execute_result",
          "data": {
            "text/plain": [
              "<bound method NDFrame.tail of Empty DataFrame\n",
              "Columns: [상호명, 지점명, 시도명, 시군구명, 도로명주소]\n",
              "Index: []>"
            ]
          },
          "metadata": {},
          "execution_count": 174
        }
      ]
    },
    {
      "cell_type": "code",
      "metadata": {
        "colab": {
          "base_uri": "https://localhost:8080/"
        },
        "id": "9ywAYc--KqkC",
        "outputId": "595fbbd6-9fe1-4cc0-a1d6-01b6346b8c7b"
      },
      "source": [
        "cb = df[df.상호명.str.contains('커피빈|COFFEEBEAN', case=False, na=False)]\n",
        "cb.tail"
      ],
      "execution_count": null,
      "outputs": [
        {
          "output_type": "execute_result",
          "data": {
            "text/plain": [
              "<bound method NDFrame.tail of                 상호명           지점명    시도명  시군구명                 도로명주소\n",
              "28              커피빈   코리아대학로대명거리점  서울특별시   종로구      서울특별시 종로구 대명길 25\n",
              "316     커피빈코리아낙성대역점      코리아낙성대역점  서울특별시   관악구  서울특별시 관악구 남부순환로 1909\n",
              "1470            커피빈  코리아강남역랭기지타워점  서울특별시   강남구   서울특별시 강남구 테헤란로4길 28\n",
              "1491            커피빈      코리아청담성당점  서울특별시   강남구     서울특별시 강남구 삼성로 716\n",
              "1506            커피빈      코리아청담에스점  서울특별시   강남구    서울특별시 강남구 압구정로 461\n",
              "...             ...           ...    ...   ...                   ...\n",
              "289153          커피빈   코리아신촌현대백화점점  서울특별시  서대문구     서울특별시 서대문구 신촌로 83\n",
              "296479   커피빈코리아이태원점       코리아이태원점  서울특별시   용산구    서울특별시 용산구 이태원로 189\n",
              "298309          커피빈    코리아을지로입구역점  서울특별시    중구    서울특별시 중구 남대문로10길 6\n",
              "308099          커피빈           길동별  서울특별시   강동구  서울특별시 강동구 양재대로112길 3\n",
              "308762          커피빈     서초우성아파트앞점  서울특별시   서초구    서울특별시 서초구 사임당로 171\n",
              "\n",
              "[169 rows x 5 columns]>"
            ]
          },
          "metadata": {},
          "execution_count": 177
        }
      ]
    },
    {
      "cell_type": "code",
      "metadata": {
        "colab": {
          "base_uri": "https://localhost:8080/"
        },
        "id": "FXZ4EF7nK4WM",
        "outputId": "8a91c1ca-0739-4188-8b5d-d0abb37d7aa0"
      },
      "source": [
        "ed = df[df.상호명.str.contains('이디야|EDIYA', case=False, na=False)]\n",
        "ed.tail"
      ],
      "execution_count": null,
      "outputs": [
        {
          "output_type": "execute_result",
          "data": {
            "text/plain": [
              "<bound method NDFrame.tail of                상호명        지점명    시도명  시군구명                  도로명주소\n",
              "1272         이디야커피       신길역점  서울특별시  영등포구    서울특별시 영등포구 영등포로 353\n",
              "1411         이디야커피       라이프점  서울특별시  영등포구      서울특별시 영등포구 63로 40\n",
              "2433    이디야커피양재AT점      양재AT점  서울특별시   서초구        서울특별시 서초구 동산로 3\n",
              "2785         이디야커피        시흥점  서울특별시   금천구      서울특별시 금천구 금하로 750\n",
              "4498         이디야커피      개봉중앙점  서울특별시   구로구     서울특별시 구로구 개봉로3길 26\n",
              "...            ...        ...    ...   ...                    ...\n",
              "308958       이디야커피   장한평군자초교점  서울특별시  동대문구    서울특별시 동대문구 한천로2길 53\n",
              "310131       이디야커피      강남율현점  서울특별시   강남구    서울특별시 강남구 밤고개로21길 8\n",
              "310422       이디야커피  신사동고개삼거리점  서울특별시   은평구        서울특별시 은평구 갈현로 1\n",
              "311852       이디야커피       양원역점  서울특별시   중랑구  서울특별시 중랑구 양원역로14가길 24\n",
              "314146       이디야커피       곰달래점  서울특별시   강서구      서울특별시 강서구 곰달래로 52\n",
              "\n",
              "[440 rows x 5 columns]>"
            ]
          },
          "metadata": {},
          "execution_count": 182
        }
      ]
    },
    {
      "cell_type": "code",
      "metadata": {
        "colab": {
          "base_uri": "https://localhost:8080/"
        },
        "id": "UwWu-u3qLR5C",
        "outputId": "ab0c3d95-cc50-40ef-b892-ef47f522ebf3"
      },
      "source": [
        "bd = df[df.상호명.str.contains('빽다방|PAIKSCOFFEE', case=False, na=False)]\n",
        "bd.tail"
      ],
      "execution_count": null,
      "outputs": [
        {
          "output_type": "execute_result",
          "data": {
            "text/plain": [
              "<bound method NDFrame.tail of                 상호명       지점명    시도명 시군구명                 도로명주소\n",
              "7607      빽다방공덕새창로점    공덕새창로점  서울특별시  마포구    서울특별시 마포구 새창로 15-1\n",
              "8565       빽다방서초우성점     서초우성점  서울특별시  서초구    서울특별시 서초구 사임당로 181\n",
              "19901   빽다방중계은행사거리점  중계은행사거리점  서울특별시  노원구   서울특별시 노원구 한글비석로 235\n",
              "26972      빽다방성신여대점     성신여대점  서울특별시  성북구  서울특별시 성북구 동소문로20나길 3\n",
              "27346     빽다방신림역1호점    신림역1호점  서울특별시  관악구  서울특별시 관악구 남부순환로 1592\n",
              "...             ...       ...    ...  ...                   ...\n",
              "311901          빽다방    화양사거리점  서울특별시  성동구  서울특별시 성동구 아차산로17길 57\n",
              "312481          빽다방     강동구청점  서울특별시  강동구     서울특별시 강동구 성내로3길 1\n",
              "312817          빽다방     홍대거리점  서울특별시  마포구    서울특별시 마포구 어울마당로 75\n",
              "312959          빽다방   신용산해링턴점  서울특별시  용산구     서울특별시 용산구 서빙고로 17\n",
              "313431          빽다방     행당무학점  서울특별시  성동구     서울특별시 성동구 행당로 121\n",
              "\n",
              "[127 rows x 5 columns]>"
            ]
          },
          "metadata": {},
          "execution_count": 183
        }
      ]
    },
    {
      "cell_type": "code",
      "metadata": {
        "colab": {
          "base_uri": "https://localhost:8080/"
        },
        "id": "64GbFSzlLkhc",
        "outputId": "b18ef2df-8271-4a0c-9da0-756861876031"
      },
      "source": [
        "len(sb), len(cb), len(ed), len(bd)"
      ],
      "execution_count": null,
      "outputs": [
        {
          "output_type": "execute_result",
          "data": {
            "text/plain": [
              "(489, 169, 440, 127)"
            ]
          },
          "metadata": {},
          "execution_count": 184
        }
      ]
    },
    {
      "cell_type": "code",
      "metadata": {
        "id": "Xns4K_M_M6J3"
      },
      "source": [
        "starbucks = pd.DataFrame(columns=['상호명','지점명','시도명','시군구명','도로명주소'])\n",
        "coffeebean = pd.DataFrame(columns=['상호명','지점명','시도명','시군구명','도로명주소'])\n",
        "ediya = pd.DataFrame(columns=['상호명','지점명','시도명','시군구명','도로명주소'])\n",
        "paik = pd.DataFrame(columns=['상호명','지점명','시도명','시군구명','도로명주소'])"
      ],
      "execution_count": null,
      "outputs": []
    },
    {
      "cell_type": "code",
      "metadata": {
        "id": "Zd7O1uC3Lzuo"
      },
      "source": [
        "for filename in glob(f'{data_folder}/*.csv'):\n",
        "    df = pd.read_csv(filename)\n",
        "    df = df[df.상권업종중분류코드 == 'Q12']\n",
        "    df = df[['상호명','지점명','시도명','시군구명','도로명주소']]\n",
        "\n",
        "    sb = df[df.상호명.str.contains('스타벅스|STARBUCKS', case=False, na=False)]\n",
        "    cb = df[df.상호명.str.contains('커피빈|COFFEEBEAN', case=False, na=False)]\n",
        "    ed = df[df.상호명.str.contains('이디야|EDIYA', case=False, na=False)]\n",
        "    bd = df[df.상호명.str.contains('빽다방|PAIKSCOFFEE', case=False, na=False)]\n",
        "\n",
        "    starbucks = pd.concat([starbucks, sb])\n",
        "    coffeebean = pd.concat([coffeebean, cb])\n",
        "    ediya = pd.concat([ediya, ed])\n",
        "    paik = pd.concat([paik, bd])"
      ],
      "execution_count": null,
      "outputs": []
    },
    {
      "cell_type": "code",
      "metadata": {
        "colab": {
          "base_uri": "https://localhost:8080/",
          "height": 204
        },
        "id": "guxDgbuIPwBv",
        "outputId": "f86e1136-818b-4298-f835-b6ce20ec025e"
      },
      "source": [
        "starbucks.tail()"
      ],
      "execution_count": null,
      "outputs": [
        {
          "output_type": "execute_result",
          "data": {
            "text/html": [
              "<div>\n",
              "<style scoped>\n",
              "    .dataframe tbody tr th:only-of-type {\n",
              "        vertical-align: middle;\n",
              "    }\n",
              "\n",
              "    .dataframe tbody tr th {\n",
              "        vertical-align: top;\n",
              "    }\n",
              "\n",
              "    .dataframe thead th {\n",
              "        text-align: right;\n",
              "    }\n",
              "</style>\n",
              "<table border=\"1\" class=\"dataframe\">\n",
              "  <thead>\n",
              "    <tr style=\"text-align: right;\">\n",
              "      <th></th>\n",
              "      <th>상호명</th>\n",
              "      <th>지점명</th>\n",
              "      <th>시도명</th>\n",
              "      <th>시군구명</th>\n",
              "      <th>도로명주소</th>\n",
              "    </tr>\n",
              "  </thead>\n",
              "  <tbody>\n",
              "    <tr>\n",
              "      <th>72684</th>\n",
              "      <td>스타벅스</td>\n",
              "      <td>충북대점</td>\n",
              "      <td>충청북도</td>\n",
              "      <td>청주시 서원구</td>\n",
              "      <td>충청북도 청주시 서원구 내수동로 113</td>\n",
              "    </tr>\n",
              "    <tr>\n",
              "      <th>73841</th>\n",
              "      <td>스타벅스</td>\n",
              "      <td>청주율량DT점</td>\n",
              "      <td>충청북도</td>\n",
              "      <td>청주시 청원구</td>\n",
              "      <td>충청북도 청주시 청원구 충청대로107번길 8</td>\n",
              "    </tr>\n",
              "    <tr>\n",
              "      <th>79073</th>\n",
              "      <td>스타벅스</td>\n",
              "      <td>충주연수점</td>\n",
              "      <td>충청북도</td>\n",
              "      <td>충주시</td>\n",
              "      <td>충청북도 충주시 계명대로 227</td>\n",
              "    </tr>\n",
              "    <tr>\n",
              "      <th>79357</th>\n",
              "      <td>스타벅스</td>\n",
              "      <td>충주성서점</td>\n",
              "      <td>충청북도</td>\n",
              "      <td>충주시</td>\n",
              "      <td>충청북도 충주시 예성로 151</td>\n",
              "    </tr>\n",
              "    <tr>\n",
              "      <th>84354</th>\n",
              "      <td>스타벅스</td>\n",
              "      <td>NaN</td>\n",
              "      <td>충청북도</td>\n",
              "      <td>음성군</td>\n",
              "      <td>충청북도 음성군 원남면 보천로 65</td>\n",
              "    </tr>\n",
              "  </tbody>\n",
              "</table>\n",
              "</div>"
            ],
            "text/plain": [
              "        상호명      지점명   시도명     시군구명                     도로명주소\n",
              "72684  스타벅스     충북대점  충청북도  청주시 서원구     충청북도 청주시 서원구 내수동로 113\n",
              "73841  스타벅스  청주율량DT점  충청북도  청주시 청원구  충청북도 청주시 청원구 충청대로107번길 8\n",
              "79073  스타벅스    충주연수점  충청북도      충주시         충청북도 충주시 계명대로 227\n",
              "79357  스타벅스    충주성서점  충청북도      충주시          충청북도 충주시 예성로 151\n",
              "84354  스타벅스      NaN  충청북도      음성군       충청북도 음성군 원남면 보천로 65"
            ]
          },
          "metadata": {},
          "execution_count": 194
        }
      ]
    },
    {
      "cell_type": "code",
      "metadata": {
        "colab": {
          "base_uri": "https://localhost:8080/"
        },
        "id": "8D4kL8rFPyfs",
        "outputId": "e80f48de-2b3f-42a9-f633-10c95e0cdde5"
      },
      "source": [
        "len(starbucks), len(coffeebean), len(ediya), len(paik)"
      ],
      "execution_count": null,
      "outputs": [
        {
          "output_type": "execute_result",
          "data": {
            "text/plain": [
              "(1547, 293, 2120, 609)"
            ]
          },
          "metadata": {},
          "execution_count": 195
        }
      ]
    },
    {
      "cell_type": "code",
      "metadata": {
        "id": "uBjXg6ZWPT8N"
      },
      "source": [
        "result_dir = '/content/mnt/MyDrive/results/CoffeeIndex'"
      ],
      "execution_count": null,
      "outputs": []
    },
    {
      "cell_type": "code",
      "metadata": {
        "id": "Tr5S3Z7pO44T"
      },
      "source": [
        "!mkdir -p $result_dir"
      ],
      "execution_count": null,
      "outputs": []
    },
    {
      "cell_type": "code",
      "metadata": {
        "id": "YKSn-R8IPRiD"
      },
      "source": [
        "starbucks.to_csv(f'{result_dir}/스타벅스.csv', index=False)\n",
        "coffeebean.to_csv(f'{result_dir}/커피빈.csv', index=False)\n",
        "ediya.to_csv(f'{result_dir}/이디아.csv', index=False)\n",
        "paik.to_csv(f'{result_dir}/백다방.csv', index=False)"
      ],
      "execution_count": null,
      "outputs": []
    },
    {
      "cell_type": "code",
      "metadata": {
        "id": "LFfIwQwIQG6G"
      },
      "source": [
        ""
      ],
      "execution_count": null,
      "outputs": []
    }
  ]
}