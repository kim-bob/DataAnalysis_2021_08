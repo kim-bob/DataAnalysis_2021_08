{
  "nbformat": 4,
  "nbformat_minor": 0,
  "metadata": {
    "colab": {
      "name": "db_module.ipynb",
      "provenance": [],
      "collapsed_sections": []
    },
    "kernelspec": {
      "name": "python3",
      "display_name": "Python 3"
    },
    "language_info": {
      "name": "python"
    }
  },
  "cells": [
    {
      "cell_type": "code",
      "metadata": {
        "id": "oWCBK6v_-1vD"
      },
      "source": [
        "import pymysql\n",
        "#일별 매출액\n",
        "def get_monthly_data(config):\n",
        "    conn = pymysql.connect(**config)\n",
        "    cur = conn.cursor()\n",
        "\n",
        "    sql = \"\"\"\n",
        "        SELECT DATE_FORMAT(sdate, '%m') AS `month`, \n",
        "            SUM(revenue) AS revenue, SUM(profit) AS profit\n",
        "            FROM sales_book\n",
        "            GROUP BY `month`\n",
        "            ORDER BY `month`;\n",
        "    \"\"\"\n",
        "    cur.execute(sql)\n",
        "    results = cur.fetchall()"
      ],
      "execution_count": null,
      "outputs": []
    },
    {
      "cell_type": "code",
      "metadata": {
        "id": "0vPejAox--Wx"
      },
      "source": [
        "def set_month(config, params):\n",
        "    conn = pymysql.connect(**config)\n",
        "    cur = conn.cursor()\n",
        "\n",
        "    sql = \"\"\"\n",
        "        update sales set sid=%s, sunit=%s where sid=%s;\n",
        "    \"\"\"\n",
        "    cur.execute(sql, params)\n",
        "\n",
        "    cur.close()\n",
        "    conn.close()\n",
        " "
      ],
      "execution_count": null,
      "outputs": []
    },
    {
      "cell_type": "code",
      "metadata": {
        "id": "yQQW3rMPXGD1"
      },
      "source": [
        " \n",
        "def get_sales_company(config):\n",
        "    conn = pymysql.connect(**config)\n",
        "    cur = conn.cursor()\n",
        "\n",
        "    sql = \"\"\"\n",
        "   SELECT scompany, SUM(revenue) AS com_revenue, \n",
        "   SUM(profit) AS  com_profit\n",
        "   FROM sales_book\n",
        "   group BY scompany\n",
        "   ORDER BY revenue desc;\n",
        "    \"\"\"\n",
        "    cur.execute(sql)\n",
        "    results = cur.fetchall()\n",
        "\n",
        "    cur.close()\n",
        "    conn.close()\n",
        "    return results"
      ],
      "execution_count": null,
      "outputs": []
    },
    {
      "cell_type": "code",
      "metadata": {
        "id": "yNm7SA27mckz"
      },
      "source": [
        "# 3. 거래처별 판매상품 및 수량\n",
        "def get_products_by_company(config):\n",
        "    conn = pymysql.connect(**config)\n",
        "    cur = conn.cursor()\n",
        "\n",
        "    sql = \"\"\"\n",
        "        SELECT scompany, pname, SUM(sunit) AS unit\n",
        "            FROM sales_book\n",
        "            GROUP BY scompany, pname\n",
        "            ORDER BY scompany;\n",
        "    \"\"\"\n",
        "    cur.execute(sql)\n",
        "    results = cur.fetchall()\n",
        "\n",
        "    cur.close()\n",
        "    conn.close()\n",
        "    return results"
      ],
      "execution_count": null,
      "outputs": []
    },
    {
      "cell_type": "code",
      "metadata": {
        "id": "P3Qk7gOcmmy9"
      },
      "source": [
        "# 4. 상품별 판매수량/매출/이익\n",
        "def get_data_by_products(config):\n",
        "    conn = pymysql.connect(**config)\n",
        "    cur = conn.cursor()\n",
        "\n",
        "    sql = \"\"\"\n",
        "        SELECT pname, SUM(sunit) AS unit,\n",
        "\t\t        SUM(revenue) AS revenue, SUM(profit) AS profit\n",
        "            FROM sales_book\n",
        "            GROUP BY pid\n",
        "            ORDER BY pid;\n",
        "    \"\"\"\n",
        "    cur.execute(sql)\n",
        "    results = cur.fetchall()\n",
        "\n",
        "    cur.close()\n",
        "    conn.close()\n",
        "    return results"
      ],
      "execution_count": null,
      "outputs": []
    },
    {
      "cell_type": "code",
      "metadata": {
        "id": "toT9z88bm3oS"
      },
      "source": [
        "# 5. 카테고리별 매출/이익\n",
        "def get_data_by_category(config):\n",
        "    conn = pymysql.connect(**config)\n",
        "    cur = conn.cursor()\n",
        "\n",
        "    sql = \"\"\"\n",
        "        SELECT pcategory, SUM(revenue) AS revenue, SUM(profit) AS profit\n",
        "            FROM sales_book\n",
        "            GROUP BY pcategory;\n",
        "    \"\"\"\n",
        "    cur.execute(sql)\n",
        "    results = cur.fetchall()\n",
        "\n",
        "    cur.close()\n",
        "    conn.close()\n",
        "    return results"
      ],
      "execution_count": null,
      "outputs": []
    }
  ]
}