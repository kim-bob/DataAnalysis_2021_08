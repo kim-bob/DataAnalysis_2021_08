{
  "nbformat": 4,
  "nbformat_minor": 0,
  "metadata": {
    "colab": {
      "name": "B6_fastAPI_1.ipynb",
      "provenance": [],
      "collapsed_sections": []
    },
    "kernelspec": {
      "name": "python3",
      "display_name": "Python 3"
    },
    "language_info": {
      "name": "python"
    }
  },
  "cells": [
    {
      "cell_type": "code",
      "metadata": {
        "id": "PMlIeLRxOHIA"
      },
      "source": [
        "!pip install fastapi nest-asyncio pyngrok uvicorn  "
      ],
      "execution_count": null,
      "outputs": []
    },
    {
      "cell_type": "code",
      "metadata": {
        "id": "6nIYnm3zavvh"
      },
      "source": [
        "from typing import Optional\n",
        "from fastapi import FastAPI\n",
        "import nest_asyncio\n",
        "from pyngrok import ngrok\n",
        "import uvicorn\n"
      ],
      "execution_count": 6,
      "outputs": []
    },
    {
      "cell_type": "code",
      "metadata": {
        "colab": {
          "base_uri": "https://localhost:8080/"
        },
        "id": "VFoQLspIOoIk",
        "outputId": "e513137c-07f2-48f2-b9ca-c87e9a102c3d"
      },
      "source": [
        "\n",
        "app = FastAPI()\n",
        "\n",
        "@app.get(\"/\")\n",
        "def read_root():\n",
        "    return {\"Hello\" : \"World\"}\n",
        "\n",
        "\n",
        "@app.get('/items/{item_id}')\n",
        "def read_item(item_id: int, q: Optional[str] = None):\n",
        "    return {'item_id': item_id, 'q':q}\n",
        "\n",
        "ngrok_tunnel = ngrok.connect(8000)\n",
        "print('Public URL :' , ngrok_tunnel.public_url)\n",
        "nest_asyncio.apply()\n",
        "uvicorn.run(app, host='0.0.0.0', port=8000)"
      ],
      "execution_count": 17,
      "outputs": [
        {
          "output_type": "stream",
          "name": "stdout",
          "text": [
            "Public URL : http://0987-34-147-29-156.ngrok.io\n"
          ]
        },
        {
          "output_type": "stream",
          "name": "stderr",
          "text": [
            "INFO:     Started server process [66]\n",
            "INFO:     Waiting for application startup.\n",
            "INFO:     Application startup complete.\n",
            "INFO:     Uvicorn running on http://0.0.0.0:8000 (Press CTRL+C to quit)\n",
            "INFO:     Shutting down\n",
            "INFO:     Waiting for application shutdown.\n",
            "INFO:     Application shutdown complete.\n",
            "INFO:     Finished server process [66]\n"
          ]
        }
      ]
    },
    {
      "cell_type": "code",
      "metadata": {
        "id": "e9hvm1BBbtQB"
      },
      "source": [
        "!ps"
      ],
      "execution_count": null,
      "outputs": []
    },
    {
      "cell_type": "code",
      "metadata": {
        "id": "awM__KRsgXJ4"
      },
      "source": [
        "#https://주소뒤 /redoc 또는 https://주소뒤/docs"
      ],
      "execution_count": null,
      "outputs": []
    },
    {
      "cell_type": "code",
      "metadata": {
        "id": "NMFgtTDx-1pG"
      },
      "source": [
        "#async def  ~~~~ (앞에 다른게 실행되고 있어도 동시에 실행되도록하는 것)"
      ],
      "execution_count": null,
      "outputs": []
    }
  ]
}