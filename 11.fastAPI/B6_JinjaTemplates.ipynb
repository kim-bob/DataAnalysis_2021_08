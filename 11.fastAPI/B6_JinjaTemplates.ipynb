{
  "nbformat": 4,
  "nbformat_minor": 0,
  "metadata": {
    "colab": {
      "name": "B6_JinjaTemplates.ipynb",
      "provenance": [],
      "collapsed_sections": []
    },
    "kernelspec": {
      "name": "python3",
      "display_name": "Python 3"
    },
    "language_info": {
      "name": "python"
    }
  },
  "cells": [
    {
      "cell_type": "code",
      "metadata": {
        "colab": {
          "base_uri": "https://localhost:8080/"
        },
        "id": "1Rf2l8l5SYiI",
        "outputId": "b686dcee-506d-4c89-a3fb-9f83378875e7"
      },
      "source": [
        "%%writefile templates/item.html\n",
        "\n",
        "<html>\n",
        "<head>\n",
        "    <title>Item Details</title>\n",
        "    <link href=\"{{ url_for('static', path='/styles.css') }}\" rel=\"stylesheet\">\n",
        "</head>\n",
        "<body>\n",
        "    <h1>Item ID: {{ id }}</h1>\n",
        "</body>\n",
        "</html>"
      ],
      "execution_count": 1,
      "outputs": [
        {
          "output_type": "stream",
          "name": "stdout",
          "text": [
            "Writing templates/item.html\n"
          ]
        }
      ]
    },
    {
      "cell_type": "code",
      "metadata": {
        "colab": {
          "base_uri": "https://localhost:8080/"
        },
        "id": "kps2bpTvWVcP",
        "outputId": "8b18130c-c992-49c7-c48c-e0061c8239c3"
      },
      "source": [
        "%%writefile static/styles.css\n",
        "h1 {\n",
        "    color: green;\n",
        "}\n"
      ],
      "execution_count": 14,
      "outputs": [
        {
          "output_type": "stream",
          "name": "stdout",
          "text": [
            "Writing static/styles.css\n"
          ]
        }
      ]
    },
    {
      "cell_type": "code",
      "metadata": {
        "colab": {
          "base_uri": "https://localhost:8080/"
        },
        "id": "ybMh8OQBQYdI",
        "outputId": "a15bb566-7424-4764-fb68-8ed247618d6a"
      },
      "source": [
        "!pip install fastapi nest-asyncio pyngrok uvicorn aiofiles python-multipart "
      ],
      "execution_count": 1,
      "outputs": [
        {
          "output_type": "stream",
          "name": "stdout",
          "text": [
            "Requirement already satisfied: fastapi in /usr/local/lib/python3.7/dist-packages (0.68.1)\n",
            "Requirement already satisfied: nest-asyncio in /usr/local/lib/python3.7/dist-packages (1.5.1)\n",
            "Requirement already satisfied: pyngrok in /usr/local/lib/python3.7/dist-packages (5.1.0)\n",
            "Requirement already satisfied: uvicorn in /usr/local/lib/python3.7/dist-packages (0.15.0)\n",
            "Requirement already satisfied: aiofiles in /usr/local/lib/python3.7/dist-packages (0.7.0)\n",
            "Requirement already satisfied: python-multipart in /usr/local/lib/python3.7/dist-packages (0.0.5)\n",
            "Requirement already satisfied: pydantic!=1.7,!=1.7.1,!=1.7.2,!=1.7.3,!=1.8,!=1.8.1,<2.0.0,>=1.6.2 in /usr/local/lib/python3.7/dist-packages (from fastapi) (1.8.2)\n",
            "Requirement already satisfied: starlette==0.14.2 in /usr/local/lib/python3.7/dist-packages (from fastapi) (0.14.2)\n",
            "Requirement already satisfied: typing-extensions>=3.7.4.3 in /usr/local/lib/python3.7/dist-packages (from pydantic!=1.7,!=1.7.1,!=1.7.2,!=1.7.3,!=1.8,!=1.8.1,<2.0.0,>=1.6.2->fastapi) (3.7.4.3)\n",
            "Requirement already satisfied: PyYAML in /usr/local/lib/python3.7/dist-packages (from pyngrok) (3.13)\n",
            "Requirement already satisfied: click>=7.0 in /usr/local/lib/python3.7/dist-packages (from uvicorn) (7.1.2)\n",
            "Requirement already satisfied: asgiref>=3.4.0 in /usr/local/lib/python3.7/dist-packages (from uvicorn) (3.4.1)\n",
            "Requirement already satisfied: h11>=0.8 in /usr/local/lib/python3.7/dist-packages (from uvicorn) (0.12.0)\n",
            "Requirement already satisfied: six>=1.4.0 in /usr/local/lib/python3.7/dist-packages (from python-multipart) (1.15.0)\n"
          ]
        }
      ]
    },
    {
      "cell_type": "code",
      "metadata": {
        "colab": {
          "base_uri": "https://localhost:8080/"
        },
        "id": "vzVM10IGQ8pv",
        "outputId": "7a977287-4525-49bf-b13e-f9aa4cdfa6d3"
      },
      "source": [
        "!pip install jinja2\n",
        "!pip install aiofiles\n"
      ],
      "execution_count": 2,
      "outputs": [
        {
          "output_type": "stream",
          "name": "stdout",
          "text": [
            "Requirement already satisfied: jinja2 in /usr/local/lib/python3.7/dist-packages (2.11.3)\n",
            "Requirement already satisfied: MarkupSafe>=0.23 in /usr/local/lib/python3.7/dist-packages (from jinja2) (2.0.1)\n",
            "Requirement already satisfied: aiofiles in /usr/local/lib/python3.7/dist-packages (0.7.0)\n"
          ]
        }
      ]
    },
    {
      "cell_type": "code",
      "metadata": {
        "id": "GByRn88QRDWE"
      },
      "source": [
        "from fastapi import FastAPI, File, UploadFile, Request\n",
        "from typing import List\n",
        "import os\n",
        "import uvicorn\n",
        "from fastapi import FastAPI\n",
        "from fastapi.responses import HTMLResponse\n",
        "from fastapi.staticfiles import StaticFiles\n",
        "import nest_asyncio\n",
        "from pyngrok import ngrok\n",
        "\n",
        " \n",
        "from fastapi.templating import Jinja2Templates\n",
        " "
      ],
      "execution_count": 2,
      "outputs": []
    },
    {
      "cell_type": "code",
      "metadata": {
        "colab": {
          "base_uri": "https://localhost:8080/"
        },
        "id": "9J5ZdPBhRUXd",
        "outputId": "b215892b-9770-46d6-b538-0bae820cb53b"
      },
      "source": [
        "app = FastAPI()\n",
        "\n",
        "app.mount(\"/static\", StaticFiles(directory=\"static\"), name=\"static\")\n",
        "templates = Jinja2Templates(directory=\"templates\")\n",
        "@app.get(\"/items/{id}\", response_class=HTMLResponse)\n",
        "async def read_item(request: Request, id: str):\n",
        "    return templates.TemplateResponse(\"item.html\", {\"request\": request, \"id\": id})\n",
        " \n",
        "\n",
        "ngrok_tunnel = ngrok.connect(8000)\n",
        "print('Public URL :' , ngrok_tunnel.public_url)\n",
        "nest_asyncio.apply()\n",
        "uvicorn.run(app, host='0.0.0.0', port=8000)"
      ],
      "execution_count": null,
      "outputs": [
        {
          "output_type": "stream",
          "name": "stdout",
          "text": [
            "Public URL : http://88aa-34-125-31-18.ngrok.io\n"
          ]
        },
        {
          "output_type": "stream",
          "name": "stderr",
          "text": [
            "INFO:     Started server process [367]\n",
            "INFO:     Waiting for application startup.\n",
            "INFO:     Application startup complete.\n",
            "INFO:     Uvicorn running on http://0.0.0.0:8000 (Press CTRL+C to quit)\n"
          ]
        },
        {
          "output_type": "stream",
          "name": "stdout",
          "text": [
            "INFO:     118.33.100.26:0 - \"GET / HTTP/1.1\" 404 Not Found\n",
            "INFO:     118.33.100.26:0 - \"GET /favicon.ico HTTP/1.1\" 404 Not Found\n",
            "INFO:     1.225.35.132:0 - \"GET / HTTP/1.1\" 404 Not Found\n",
            "INFO:     118.33.100.26:0 - \"GET /items/%EB%82%98%EB%8B%A4%EB%82%98%EB%8B%AC HTTP/1.1\" 200 OK\n",
            "INFO:     118.33.100.26:0 - \"GET /static/styles.css HTTP/1.1\" 200 OK\n",
            "INFO:     118.33.100.26:0 - \"GET /favicon.ico HTTP/1.1\" 404 Not Found\n",
            "INFO:     58.123.220.11:0 - \"GET /items/%EB%82%98%EB%8B%A4%EB%82%98%EB%8B%AC HTTP/1.1\" 200 OK\n",
            "INFO:     58.123.220.11:0 - \"GET /static/styles.css HTTP/1.1\" 200 OK\n"
          ]
        }
      ]
    },
    {
      "cell_type": "code",
      "metadata": {
        "colab": {
          "base_uri": "https://localhost:8080/"
        },
        "id": "-IKoefuITRvd",
        "outputId": "faa588d5-2b3f-45e0-a403-0ed026b768fc"
      },
      "source": [
        "!ps\n",
        "\n"
      ],
      "execution_count": 13,
      "outputs": [
        {
          "output_type": "stream",
          "name": "stdout",
          "text": [
            "    PID TTY          TIME CMD\n",
            "      1 ?        00:00:02 node\n",
            "     16 ?        00:00:00 tail\n",
            "     52 ?        00:00:02 jupyter-noteboo\n",
            "     53 ?        00:00:00 dap_multiplexer\n",
            "     84 ?        00:00:00 python3 <defunct>\n",
            "    217 ?        00:00:03 python3\n",
            "    237 ?        00:00:00 python3\n",
            "    354 ?        00:00:00 ps\n"
          ]
        }
      ]
    }
  ]
}