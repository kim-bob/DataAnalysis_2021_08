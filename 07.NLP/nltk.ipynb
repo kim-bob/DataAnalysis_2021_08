import nltk
nltk.donload
nltk.download()