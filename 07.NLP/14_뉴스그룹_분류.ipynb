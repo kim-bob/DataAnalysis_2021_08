{
  "nbformat": 4,
  "nbformat_minor": 0,
  "metadata": {
    "colab": {
      "name": "14_뉴스그룹_분류.ipynb",
      "provenance": [],
      "collapsed_sections": []
    },
    "kernelspec": {
      "name": "python3",
      "display_name": "Python 3"
    },
    "language_info": {
      "name": "python"
    }
  },
  "cells": [
    {
      "cell_type": "markdown",
      "metadata": {
        "id": "IwBc3m2i2A0a"
      },
      "source": [
        "# 20.뉴스그룹 분류"
      ]
    },
    {
      "cell_type": "code",
      "metadata": {
        "id": "LUb7rqQJ1Z17"
      },
      "source": [
        "import numpy as np\n",
        "import pandas as pd"
      ],
      "execution_count": null,
      "outputs": []
    },
    {
      "cell_type": "code",
      "metadata": {
        "id": "a-JhNSFs2L92"
      },
      "source": [
        "from sklearn.datasets import fetch_20newsgroups\n",
        "news = fetch_20newsgroups(subset='all', random_state=2021)"
      ],
      "execution_count": null,
      "outputs": []
    },
    {
      "cell_type": "markdown",
      "metadata": {
        "id": "IQOaAium3Cz_"
      },
      "source": [
        "## 데이터 탐색"
      ]
    },
    {
      "cell_type": "code",
      "metadata": {
        "colab": {
          "base_uri": "https://localhost:8080/"
        },
        "id": "rXuLmIFR2N8t",
        "outputId": "a083a19d-6355-4e82-e41f-4920553c8726"
      },
      "source": [
        "news.keys()"
      ],
      "execution_count": null,
      "outputs": [
        {
          "output_type": "execute_result",
          "data": {
            "text/plain": [
              "dict_keys(['data', 'filenames', 'target_names', 'target', 'DESCR'])"
            ]
          },
          "metadata": {},
          "execution_count": 6
        }
      ]
    },
    {
      "cell_type": "code",
      "metadata": {
        "colab": {
          "base_uri": "https://localhost:8080/"
        },
        "id": "wTtt3qZ93Gex",
        "outputId": "cdfafd5e-6058-434f-ed03-f7d436fb8af9"
      },
      "source": [
        "from sklearn.datasets import load_iris\n",
        "iris = load_iris()\n",
        "iris.keys()"
      ],
      "execution_count": null,
      "outputs": [
        {
          "output_type": "execute_result",
          "data": {
            "text/plain": [
              "dict_keys(['data', 'target', 'target_names', 'DESCR', 'feature_names', 'filename'])"
            ]
          },
          "metadata": {},
          "execution_count": 10
        }
      ]
    },
    {
      "cell_type": "code",
      "metadata": {
        "id": "cMw9vSWY3Ywp"
      },
      "source": [
        "iris.data"
      ],
      "execution_count": null,
      "outputs": []
    },
    {
      "cell_type": "code",
      "metadata": {
        "id": "JB2SVRBn3pL_"
      },
      "source": [
        "iris['data']"
      ],
      "execution_count": null,
      "outputs": []
    },
    {
      "cell_type": "markdown",
      "metadata": {
        "id": "ygTVIfh54GOk"
      },
      "source": [
        "## 뉴스"
      ]
    },
    {
      "cell_type": "code",
      "metadata": {
        "colab": {
          "base_uri": "https://localhost:8080/"
        },
        "id": "MG2NX7yE4_aO",
        "outputId": "000193b4-d551-434f-ec18-af368081f07e"
      },
      "source": [
        "len(news.data)"
      ],
      "execution_count": null,
      "outputs": [
        {
          "output_type": "execute_result",
          "data": {
            "text/plain": [
              "18846"
            ]
          },
          "metadata": {},
          "execution_count": 15
        }
      ]
    },
    {
      "cell_type": "code",
      "metadata": {
        "colab": {
          "base_uri": "https://localhost:8080/"
        },
        "id": "1YFZ2a0R3uwG",
        "outputId": "e5a0f642-2d76-4f6a-e6db-a69361b300c3"
      },
      "source": [
        "news.target_names"
      ],
      "execution_count": null,
      "outputs": [
        {
          "output_type": "execute_result",
          "data": {
            "text/plain": [
              "['alt.atheism',\n",
              " 'comp.graphics',\n",
              " 'comp.os.ms-windows.misc',\n",
              " 'comp.sys.ibm.pc.hardware',\n",
              " 'comp.sys.mac.hardware',\n",
              " 'comp.windows.x',\n",
              " 'misc.forsale',\n",
              " 'rec.autos',\n",
              " 'rec.motorcycles',\n",
              " 'rec.sport.baseball',\n",
              " 'rec.sport.hockey',\n",
              " 'sci.crypt',\n",
              " 'sci.electronics',\n",
              " 'sci.med',\n",
              " 'sci.space',\n",
              " 'soc.religion.christian',\n",
              " 'talk.politics.guns',\n",
              " 'talk.politics.mideast',\n",
              " 'talk.politics.misc',\n",
              " 'talk.religion.misc']"
            ]
          },
          "metadata": {},
          "execution_count": 13
        }
      ]
    },
    {
      "cell_type": "code",
      "metadata": {
        "colab": {
          "base_uri": "https://localhost:8080/"
        },
        "id": "F1aB8SvT4K-l",
        "outputId": "9a7c38e3-cdae-4b43-d8f0-48648c916f2b"
      },
      "source": [
        "pd.Series(news.target).value_counts().sort_index()"
      ],
      "execution_count": null,
      "outputs": [
        {
          "output_type": "execute_result",
          "data": {
            "text/plain": [
              "10    999\n",
              "15    997\n",
              "8     996\n",
              "9     994\n",
              "11    991\n",
              "13    990\n",
              "7     990\n",
              "5     988\n",
              "14    987\n",
              "2     985\n",
              "12    984\n",
              "3     982\n",
              "6     975\n",
              "1     973\n",
              "4     963\n",
              "17    940\n",
              "16    910\n",
              "0     799\n",
              "18    775\n",
              "19    628\n",
              "dtype: int64"
            ]
          },
          "metadata": {},
          "execution_count": 14
        }
      ]
    },
    {
      "cell_type": "code",
      "metadata": {
        "colab": {
          "base_uri": "https://localhost:8080/"
        },
        "id": "M1qr0doG4itv",
        "outputId": "36a33ef7-0cdb-4815-baf3-4c6e10a10617"
      },
      "source": [
        "print(news.data[0])"
      ],
      "execution_count": null,
      "outputs": [
        {
          "output_type": "stream",
          "name": "stdout",
          "text": [
            "From: dagibbs@quantum.qnx.com (David Gibbs)\n",
            "Subject: Re: Countersteering sans Hands\n",
            "Organization: QNX Software Systems, Ltd.\n",
            "Lines: 22\n",
            "\n",
            "In article <1993Apr20.203344.8417@cs.cornell.edu> karr@cs.cornell.edu (David Karr) writes:\n",
            ">In article <Clarke.6.735328328@bdrc.bd.com> Clarke@bdrc.bd.com (Richard Clarke) writes:\n",
            ">>So how do I steer when my hands aren't on the bars? (Open Budweiser in left \n",
            ">>hand, Camel cigarette in the right, no feet allowed.) \n",
            ">\n",
            ">>If I lean, and the \n",
            ">>bike turns, am I countersteering?\n",
            ">\n",
            ">No, the bars would turn only *toward* the direction of turn in\n",
            ">no-hands steering.\n",
            "\n",
            "Just in case the original poster was looking for a serious answer,\n",
            "I'll supply one.\n",
            "\n",
            "Yes, even when steering no hands you do something quite similar\n",
            "to countersteering.  Basically to turn left, you to a quick wiggle\n",
            "of the bike to the right first, causing a counteracting lean to\n",
            "occur to the left.  It is a lot more difficult to do on a motorcycle\n",
            "than a bicycle though, because of the extra weight.  (Ok, so my\n",
            "motorcycle is heavy.  Maybe yous isn't.)\n",
            "\n",
            "-David\n",
            "\n"
          ]
        }
      ]
    },
    {
      "cell_type": "markdown",
      "metadata": {
        "id": "XzyeUs4q5nmV"
      },
      "source": [
        "## 훈련/테스트용 데이터 추출"
      ]
    },
    {
      "cell_type": "code",
      "metadata": {
        "colab": {
          "base_uri": "https://localhost:8080/"
        },
        "id": "4yQXuoEA5GHN",
        "outputId": "d60bc941-4979-485e-92c6-eac3044e8381"
      },
      "source": [
        "train_news = fetch_20newsgroups(\n",
        " subset = 'train', random_state=2021, remove=('headers', 'footers', 'quotes')\n",
        "\n",
        ")\n",
        "len(train_news.data)"
      ],
      "execution_count": null,
      "outputs": [
        {
          "output_type": "execute_result",
          "data": {
            "text/plain": [
              "11314"
            ]
          },
          "metadata": {},
          "execution_count": 23
        }
      ]
    },
    {
      "cell_type": "code",
      "metadata": {
        "colab": {
          "base_uri": "https://localhost:8080/"
        },
        "id": "ahNRBzyV6B3b",
        "outputId": "c5e081f8-03e0-461e-e2a9-933b1d1613fb"
      },
      "source": [
        "test_news = fetch_20newsgroups(\n",
        " subset = 'test', random_state=2021, remove=('headers', 'footers', 'quotes')\n",
        "\n",
        ")\n",
        "len(test_news.data)"
      ],
      "execution_count": null,
      "outputs": [
        {
          "output_type": "execute_result",
          "data": {
            "text/plain": [
              "7532"
            ]
          },
          "metadata": {},
          "execution_count": 24
        }
      ]
    },
    {
      "cell_type": "code",
      "metadata": {
        "colab": {
          "base_uri": "https://localhost:8080/"
        },
        "id": "HMsIFxbJ9GgP",
        "outputId": "359d0a37-464e-4456-9266-fc68057ae385"
      },
      "source": [
        "print(train_news.data[1])"
      ],
      "execution_count": 26,
      "outputs": [
        {
          "output_type": "stream",
          "name": "stdout",
          "text": [
            "]Is it possible to do a \"wheelie\" on a motorcycle with shaft-drive?\n",
            "\n",
            "yes.\n",
            "\n"
          ]
        }
      ]
    },
    {
      "cell_type": "markdown",
      "metadata": {
        "id": "xDo5uoxu6p1-"
      },
      "source": [
        "## 텍스트 데이터에 대해서 전처리"
      ]
    },
    {
      "cell_type": "code",
      "metadata": {
        "id": "WJSSX8zf6baw"
      },
      "source": [
        "train_df = pd.DataFrame({\n",
        "    'article' : train_news.data })\n",
        "\n",
        "test_df = pd.DataFrame({\n",
        "    'article' : test_news.data})"
      ],
      "execution_count": 56,
      "outputs": []
    },
    {
      "cell_type": "markdown",
      "metadata": {
        "id": "0HlfltFJ7T8f"
      },
      "source": [
        "- train dataset"
      ]
    },
    {
      "cell_type": "code",
      "metadata": {
        "id": "B2LUJgNZ7SsF",
        "colab": {
          "base_uri": "https://localhost:8080/",
          "height": 35
        },
        "outputId": "6524e8e7-eee5-4713-cb8a-de314fa6c9ed"
      },
      "source": [
        "train_df['article'] = train_df.article.str.replace('[^A-Za-z\\$0-9]', ' ') # $특수문자는 \\로 보호필요\n",
        "train_df.article[1]"
      ],
      "execution_count": 57,
      "outputs": [
        {
          "output_type": "execute_result",
          "data": {
            "application/vnd.google.colaboratory.intrinsic+json": {
              "type": "string"
            },
            "text/plain": [
              "' Is it possible to do a  wheelie  on a motorcycle with shaft drive   yes  '"
            ]
          },
          "metadata": {},
          "execution_count": 57
        }
      ]
    },
    {
      "cell_type": "markdown",
      "metadata": {
        "id": "O4S98s_J9VgD"
      },
      "source": [
        "## 길이가 3 이하인 단어 제거"
      ]
    },
    {
      "cell_type": "code",
      "metadata": {
        "id": "l_1fRTJS9QxB"
      },
      "source": [
        "train_df['article'] = train_df.article.apply(lambda x :  ' '.join([w for w in x.split() if len(w) > 3]))"
      ],
      "execution_count": 58,
      "outputs": []
    },
    {
      "cell_type": "markdown",
      "metadata": {
        "id": "Fxbk__taDZsp"
      },
      "source": [
        ""
      ]
    },
    {
      "cell_type": "code",
      "metadata": {
        "id": "oyJVg1dt-3is"
      },
      "source": [
        "#소문자로 \n",
        "train_df['article'] = train_df.article.apply(lambda x :  x.lower())"
      ],
      "execution_count": 61,
      "outputs": []
    },
    {
      "cell_type": "code",
      "metadata": {
        "id": "UUtnxDJXDKXZ"
      },
      "source": [
        "# 3글자 이하 소문자로 동시에\n",
        "train_df['article'] = train_df.article.apply(lambda x :  ' '.join([w.lower() for w in x.split() if len(w) > 3]))"
      ],
      "execution_count": 60,
      "outputs": []
    },
    {
      "cell_type": "markdown",
      "metadata": {
        "id": "fjnuOJLYDzZl"
      },
      "source": [
        "#테스트 데이터셋 정제"
      ]
    },
    {
      "cell_type": "code",
      "metadata": {
        "id": "TQ2e59A4D1ll"
      },
      "source": [
        "test_df['article'] = test_df.article.str.replace('[^A-Za-z\\$0-9]', ' ') # $특수문자는 \\로 보호필요\n",
        "test_df['article'] = test_df.article.apply(lambda x :  ' '.join([w.lower() for w in x.split() if len(w) > 3]))"
      ],
      "execution_count": 62,
      "outputs": []
    },
    {
      "cell_type": "markdown",
      "metadata": {
        "id": "F8z-ieBmEK8p"
      },
      "source": [
        "## 텍스트 변환"
      ]
    },
    {
      "cell_type": "code",
      "metadata": {
        "id": "LWNsLzzREKFE"
      },
      "source": [
        "from sklearn.feature_extraction.text import TfidfVectorizer"
      ],
      "execution_count": 63,
      "outputs": []
    },
    {
      "cell_type": "code",
      "metadata": {
        "colab": {
          "base_uri": "https://localhost:8080/"
        },
        "id": "33kjrGZ0Edb4",
        "outputId": "b177f3b5-3d5b-4a6e-8856-903900a9a6dc"
      },
      "source": [
        "tvect = TfidfVectorizer(stop_words='english') #, ngram_range=(1,2))\n",
        "tvect.fit(train_df.article)"
      ],
      "execution_count": 66,
      "outputs": [
        {
          "output_type": "execute_result",
          "data": {
            "text/plain": [
              "TfidfVectorizer(analyzer='word', binary=False, decode_error='strict',\n",
              "                dtype=<class 'numpy.float64'>, encoding='utf-8',\n",
              "                input='content', lowercase=True, max_df=1.0, max_features=None,\n",
              "                min_df=1, ngram_range=(1, 1), norm='l2', preprocessor=None,\n",
              "                smooth_idf=True, stop_words='english', strip_accents=None,\n",
              "                sublinear_tf=False, token_pattern='(?u)\\\\b\\\\w\\\\w+\\\\b',\n",
              "                tokenizer=None, use_idf=True, vocabulary=None)"
            ]
          },
          "metadata": {},
          "execution_count": 66
        }
      ]
    },
    {
      "cell_type": "code",
      "metadata": {
        "colab": {
          "base_uri": "https://localhost:8080/"
        },
        "id": "4bg-qU2qE3oo",
        "outputId": "cb2d7912-a13e-4f6f-9d4f-a6e8b088f0a2"
      },
      "source": [
        "X_train = tvect.transform(train_df.article)\n",
        "X_test = tvect.transform(test_df.article)\n",
        "X_train.shape, X_test.shape"
      ],
      "execution_count": 67,
      "outputs": [
        {
          "output_type": "execute_result",
          "data": {
            "text/plain": [
              "((11314, 85206), (7532, 85206))"
            ]
          },
          "metadata": {},
          "execution_count": 67
        }
      ]
    },
    {
      "cell_type": "code",
      "metadata": {
        "id": "uN4lGwbmFJCK"
      },
      "source": [
        "y_train = train_news.target\n",
        "y_test = test_news.target"
      ],
      "execution_count": 68,
      "outputs": []
    },
    {
      "cell_type": "markdown",
      "metadata": {
        "id": "MkjEN6TTFhe0"
      },
      "source": [
        "## 훈련 예측 평가"
      ]
    },
    {
      "cell_type": "code",
      "metadata": {
        "id": "53rgr5ihFgX2"
      },
      "source": [
        "#Support Vector Machine의 Classifier 사용 (logistic도 사용 가능)\n",
        "from sklearn.svm import SVC"
      ],
      "execution_count": 74,
      "outputs": []
    },
    {
      "cell_type": "code",
      "metadata": {
        "id": "meJ-_YXhF0qV"
      },
      "source": [
        "svc =SVC()"
      ],
      "execution_count": 70,
      "outputs": []
    },
    {
      "cell_type": "code",
      "metadata": {
        "colab": {
          "base_uri": "https://localhost:8080/"
        },
        "id": "x8EmhGOJF2LS",
        "outputId": "58ad783f-2dc4-446b-da3c-4691b348c231"
      },
      "source": [
        "svc.fit(X_train, y_train)"
      ],
      "execution_count": 71,
      "outputs": [
        {
          "output_type": "execute_result",
          "data": {
            "text/plain": [
              "SVC(C=1.0, break_ties=False, cache_size=200, class_weight=None, coef0=0.0,\n",
              "    decision_function_shape='ovr', degree=3, gamma='scale', kernel='rbf',\n",
              "    max_iter=-1, probability=False, random_state=None, shrinking=True,\n",
              "    tol=0.001, verbose=False)"
            ]
          },
          "metadata": {},
          "execution_count": 71
        }
      ]
    },
    {
      "cell_type": "code",
      "metadata": {
        "id": "BziOpqI6F66T"
      },
      "source": [
        "pred = svc.predict(X_test)\n"
      ],
      "execution_count": 72,
      "outputs": []
    },
    {
      "cell_type": "code",
      "metadata": {
        "colab": {
          "base_uri": "https://localhost:8080/"
        },
        "id": "2kMtBESgGZ0t",
        "outputId": "e39a1f89-f9ed-4b1b-c7ca-3e53ffe4cd84"
      },
      "source": [
        "from sklearn.metrics import accuracy_score\n",
        "accuracy_score(y_test, pred)"
      ],
      "execution_count": 73,
      "outputs": [
        {
          "output_type": "execute_result",
          "data": {
            "text/plain": [
              "0.6524163568773235"
            ]
          },
          "metadata": {},
          "execution_count": 73
        }
      ]
    },
    {
      "cell_type": "code",
      "metadata": {
        "id": "g49zoCy9Gwls"
      },
      "source": [
        ""
      ],
      "execution_count": null,
      "outputs": []
    }
  ]
}