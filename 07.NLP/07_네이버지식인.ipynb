{
 "cells": [
  {
   "cell_type": "markdown",
   "source": [
    "# 네이버 지식인 크롤링"
   ],
   "metadata": {}
  },
  {
   "cell_type": "code",
   "execution_count": 35,
   "source": [
    "from selenium import webdriver\r\n",
    "from bs4 import BeautifulSoup\r\n",
    "import time\r\n",
    "import pandas as pd\r\n",
    "from urllib.parse import quote"
   ],
   "outputs": [],
   "metadata": {}
  },
  {
   "cell_type": "code",
   "execution_count": 40,
   "source": [
    "chromedriver = '/Users/sku11/Downloads/chromedriver.exe'\r\n",
    "driver = webdriver.Chrome(chromedriver)\r\n"
   ],
   "outputs": [],
   "metadata": {}
  },
  {
   "cell_type": "code",
   "execution_count": 41,
   "source": [
    "base_url = 'https://kin.naver.com/search/list.naver?query='\r\n",
    "url = base_url + quote('여친선물')\r\n",
    "driver.get(url)\r\n"
   ],
   "outputs": [],
   "metadata": {}
  },
  {
   "cell_type": "code",
   "execution_count": 42,
   "source": [
    "html = driver.page_source\r\n",
    "soup = BeautifulSoup(html, 'html.parser')\r\n"
   ],
   "outputs": [],
   "metadata": {}
  },
  {
   "cell_type": "code",
   "execution_count": 43,
   "source": [
    "lis = soup.select('ul.basic1 > li')\r\n",
    "len(lis)"
   ],
   "outputs": [
    {
     "output_type": "execute_result",
     "data": {
      "text/plain": [
       "10"
      ]
     },
     "metadata": {},
     "execution_count": 43
    }
   ],
   "metadata": {}
  },
  {
   "cell_type": "code",
   "execution_count": 44,
   "source": [
    "li = lis[0]\r\n",
    "sub_url = li.select_one('a._searchListTitleAnchor')['href']\r\n",
    "sub_url"
   ],
   "outputs": [
    {
     "output_type": "execute_result",
     "data": {
      "text/plain": [
       "'https://kin.naver.com/qna/detail.naver?d1id=8&dirId=80101&docId=395035694&qb=7Jes7Lmc7ISg66y8&enc=utf8&section=kin&rank=1&search_sort=0&spq=0'"
      ]
     },
     "metadata": {},
     "execution_count": 44
    }
   ],
   "metadata": {}
  },
  {
   "cell_type": "code",
   "execution_count": 45,
   "source": [
    "driver.get(sub_url)\r\n"
   ],
   "outputs": [],
   "metadata": {}
  },
  {
   "cell_type": "code",
   "execution_count": 46,
   "source": [
    "#\r\n",
    "count = int(driver.find_element_by_css_selector('._answerCount.num').text)\r\n",
    "count\r\n"
   ],
   "outputs": [
    {
     "output_type": "execute_result",
     "data": {
      "text/plain": [
       "8"
      ]
     },
     "metadata": {},
     "execution_count": 46
    }
   ],
   "metadata": {}
  },
  {
   "cell_type": "code",
   "execution_count": 47,
   "source": [
    "answer_page = (count -1) // 5\r\n",
    "print(count, answer_page)\r\n"
   ],
   "outputs": [
    {
     "output_type": "stream",
     "name": "stdout",
     "text": [
      "8 1\n"
     ]
    }
   ],
   "metadata": {}
  },
  {
   "cell_type": "code",
   "execution_count": 48,
   "source": [
    "for i in range(answer_page):\r\n",
    "    driver.find_element_by_id('nextPageButton').click()\r\n",
    "    time.sleep(2)"
   ],
   "outputs": [],
   "metadata": {}
  },
  {
   "cell_type": "code",
   "execution_count": null,
   "source": [
    "html = driver.page_source\r\n",
    "soup = BeautifulSoup(html, 'html.parser')"
   ],
   "outputs": [],
   "metadata": {}
  },
  {
   "cell_type": "code",
   "execution_count": 51,
   "source": [
    "divs = soup.select('div.answer-content__item._contentWrap._answer')\r\n",
    "len(divs)"
   ],
   "outputs": [
    {
     "output_type": "execute_result",
     "data": {
      "text/plain": [
       "0"
      ]
     },
     "metadata": {},
     "execution_count": 51
    }
   ],
   "metadata": {}
  },
  {
   "cell_type": "code",
   "execution_count": 53,
   "source": [
    "div = divs[0]\r\n",
    "ps = div.select('p.se-text-paragraph')\r\n",
    "for p in ps:\r\n",
    "    print(p.get_text())"
   ],
   "outputs": [
    {
     "output_type": "error",
     "ename": "IndexError",
     "evalue": "list index out of range",
     "traceback": [
      "\u001b[1;31m---------------------------------------------------------------------------\u001b[0m",
      "\u001b[1;31mIndexError\u001b[0m                                Traceback (most recent call last)",
      "\u001b[1;32m<ipython-input-53-462d72b9ad5f>\u001b[0m in \u001b[0;36m<module>\u001b[1;34m\u001b[0m\n\u001b[1;32m----> 1\u001b[1;33m \u001b[0mdiv\u001b[0m \u001b[1;33m=\u001b[0m \u001b[0mdivs\u001b[0m\u001b[1;33m[\u001b[0m\u001b[1;36m0\u001b[0m\u001b[1;33m]\u001b[0m\u001b[1;33m\u001b[0m\u001b[1;33m\u001b[0m\u001b[0m\n\u001b[0m\u001b[0;32m      2\u001b[0m \u001b[0mps\u001b[0m \u001b[1;33m=\u001b[0m \u001b[0mdiv\u001b[0m\u001b[1;33m.\u001b[0m\u001b[0mselect\u001b[0m\u001b[1;33m(\u001b[0m\u001b[1;34m'p.se-text-paragraph'\u001b[0m\u001b[1;33m)\u001b[0m\u001b[1;33m\u001b[0m\u001b[1;33m\u001b[0m\u001b[0m\n\u001b[0;32m      3\u001b[0m \u001b[1;32mfor\u001b[0m \u001b[0mp\u001b[0m \u001b[1;32min\u001b[0m \u001b[0mps\u001b[0m\u001b[1;33m:\u001b[0m\u001b[1;33m\u001b[0m\u001b[1;33m\u001b[0m\u001b[0m\n\u001b[0;32m      4\u001b[0m     \u001b[0mprint\u001b[0m\u001b[1;33m(\u001b[0m\u001b[0mp\u001b[0m\u001b[1;33m.\u001b[0m\u001b[0mget_text\u001b[0m\u001b[1;33m(\u001b[0m\u001b[1;33m)\u001b[0m\u001b[1;33m)\u001b[0m\u001b[1;33m\u001b[0m\u001b[1;33m\u001b[0m\u001b[0m\n",
      "\u001b[1;31mIndexError\u001b[0m: list index out of range"
     ]
    }
   ],
   "metadata": {}
  },
  {
   "cell_type": "code",
   "execution_count": null,
   "source": [
    "driver.back()"
   ],
   "outputs": [],
   "metadata": {}
  },
  {
   "cell_type": "markdown",
   "source": [
    "#위에는 한페이지 크롤링\r\n",
    "#아래부터는 for 루프    "
   ],
   "metadata": {}
  },
  {
   "cell_type": "code",
   "execution_count": 33,
   "source": [
    "answer_list = []\r\n",
    "for li in lis:\r\n",
    "    sub_url = li.select_one('a._searchListTitleAnchor')['href']\r\n",
    "    driver.get(sub_url)\r\n",
    "    time.sleep(2)\r\n",
    "\r\n",
    "    count = int(driver.find_element_by_css_selector('._answerCount.num').text)\r\n",
    "    answer_page = (count - 1) // 5\r\n",
    "    print(count, end=', ')\r\n",
    "    for i in range(answer_page):\r\n",
    "        driver.find_element_by_id('nextPageButton').click()\r\n",
    "        time.sleep(2)\r\n",
    "\r\n",
    "    html = driver.page_source\r\n",
    "    soup = BeautifulSoup(html, 'html.parser')\r\n",
    "    divs = soup.select('div.answer-content__item._contentWrap._answer')\r\n",
    "    print(len(divs))\r\n",
    "    for div in divs:\r\n",
    "        ps = div.select('p.se-text-paragraph')\r\n",
    "        for p in ps:\r\n",
    "            text = p.get_text()\r\n",
    "            if text == ' ' or text == '\\u200b':\r\n",
    "                continue\r\n",
    "            answer_list.append(text)\r\n",
    "\r\n",
    "    driver.back()\r\n",
    "    time.sleep(2)"
   ],
   "outputs": [],
   "metadata": {}
  },
  {
   "cell_type": "code",
   "execution_count": null,
   "source": [
    "answer_list[100:110]"
   ],
   "outputs": [],
   "metadata": {}
  },
  {
   "cell_type": "markdown",
   "source": [
    "## 1~10 페이지 데이터 한꺼번에 하기 "
   ],
   "metadata": {}
  },
  {
   "cell_type": "code",
   "execution_count": null,
   "source": [
    "answer_list = []\r\n",
    "for page in range(1,11):\r\n",
    "    print('page', page)\r\n",
    "    url = f\"{base_url}{quote('여친선물')}&page={page}\"\r\n",
    "    driver.get(url)\r\n",
    "    time.sleep(2)\r\n",
    "\r\n",
    "    html = driver.page_source\r\n",
    "    soup = BeautifulSoup(html, 'html.parser')\r\n",
    "    lis = soup.select('ul.basic1 > li')\r\n",
    "\r\n",
    "    for li in lis:\r\n",
    "        sub_url = li.select_one('a._searchListTitleAnchor')['href']\r\n",
    "        driver.get(sub_url)\r\n",
    "        time.sleep(2)\r\n",
    "\r\n",
    "        count = int(driver.find_element_by_css_selector('._answerCount.num').text)\r\n",
    "        answer_page = (count - 1) // 5\r\n",
    "        #print(count, end=', ')\r\n",
    "        for i in range(answer_page):\r\n",
    "            driver.find_element_by_id('nextPageButton').click()\r\n",
    "            time.sleep(2)\r\n",
    "\r\n",
    "        html = driver.page_source\r\n",
    "        soup = BeautifulSoup(html, 'html.parser')\r\n",
    "        divs = soup.select('div.answer-content__item._contentWrap._answer')\r\n",
    "        #print(len(divs))\r\n",
    "        for div in divs:\r\n",
    "            ps = div.select('p.se-text-paragraph')\r\n",
    "            for p in ps:\r\n",
    "                text = p.get_text()\r\n",
    "                if text == ' ' or text == '\\u200b':\r\n",
    "                    continue\r\n",
    "                answer_list.append(text)\r\n",
    "\r\n",
    "        driver.back()\r\n",
    "        time.sleep(2)"
   ],
   "outputs": [],
   "metadata": {}
  },
  {
   "cell_type": "code",
   "execution_count": null,
   "source": [
    "len(answer_list)\r\n"
   ],
   "outputs": [],
   "metadata": {}
  },
  {
   "cell_type": "code",
   "execution_count": null,
   "source": [
    "with open('new_gift.txt', 'w', encoding='utf-8') as fp:\r\n",
    "    for answer in answer_list:\r\n",
    "        fp.write(answer+'\\n')"
   ],
   "outputs": [],
   "metadata": {}
  },
  {
   "cell_type": "code",
   "execution_count": null,
   "source": [
    "driver.close()"
   ],
   "outputs": [],
   "metadata": {}
  }
 ],
 "metadata": {
  "orig_nbformat": 4,
  "language_info": {
   "name": "python",
   "version": "3.8.10",
   "mimetype": "text/x-python",
   "codemirror_mode": {
    "name": "ipython",
    "version": 3
   },
   "pygments_lexer": "ipython3",
   "nbconvert_exporter": "python",
   "file_extension": ".py"
  },
  "kernelspec": {
   "name": "python3",
   "display_name": "Python 3.8.10 64-bit ('base': conda)"
  },
  "interpreter": {
   "hash": "620b99eeabf07894b8437e51fc7ff1f7d698cf63a4e485ae0cb2cda2be136736"
  }
 },
 "nbformat": 4,
 "nbformat_minor": 2
}