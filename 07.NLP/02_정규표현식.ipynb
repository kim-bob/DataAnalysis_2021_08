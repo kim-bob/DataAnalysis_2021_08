{
  "nbformat": 4,
  "nbformat_minor": 0,
  "metadata": {
    "colab": {
      "name": "02_정규표현식.ipynb",
      "provenance": [],
      "collapsed_sections": []
    },
    "kernelspec": {
      "name": "python3",
      "display_name": "Python 3"
    },
    "language_info": {
      "name": "python"
    }
  },
  "cells": [
    {
      "cell_type": "markdown",
      "metadata": {
        "id": "o42vm7jLcVNx"
      },
      "source": [
        "# 정규표현식 (Regular Expression)"
      ]
    },
    {
      "cell_type": "code",
      "metadata": {
        "id": "URfPaF7-Z8DN"
      },
      "source": [
        "#일반적인 사용법 re.sub('정규표현식', '바꿀문자', text)\n",
        "\n",
        "#교재에서 사용법\n",
        "#re.compile('정규표현식')\n",
        "#re.sub('바꿀문자')"
      ],
      "execution_count": null,
      "outputs": []
    },
    {
      "cell_type": "code",
      "metadata": {
        "id": "4M8cD4dRevS6"
      },
      "source": [
        "import re\n"
      ],
      "execution_count": 2,
      "outputs": []
    },
    {
      "cell_type": "markdown",
      "metadata": {
        "id": "NPzvquG0ex8J"
      },
      "source": [
        "## 1.정규 표현식 실습"
      ]
    },
    {
      "cell_type": "markdown",
      "metadata": {
        "id": "98YBwATWfQ1j"
      },
      "source": [
        "- 기호:한개의 임의의 문자\n"
      ]
    },
    {
      "cell_type": "code",
      "metadata": {
        "id": "WQaFHUR7e1Mp"
      },
      "source": [
        "re.search('a.c', 'kkk')"
      ],
      "execution_count": 3,
      "outputs": []
    },
    {
      "cell_type": "code",
      "metadata": {
        "colab": {
          "base_uri": "https://localhost:8080/"
        },
        "id": "tiEAve2LfC8L",
        "outputId": "bec02ecf-34f8-4567-be0c-1b132fdd7857"
      },
      "source": [
        "re.search('a.c', 'abc')"
      ],
      "execution_count": 4,
      "outputs": [
        {
          "output_type": "execute_result",
          "data": {
            "text/plain": [
              "<re.Match object; span=(0, 3), match='abc'>"
            ]
          },
          "metadata": {},
          "execution_count": 4
        }
      ]
    },
    {
      "cell_type": "markdown",
      "metadata": {
        "id": "2qwLgsZxfS8K"
      },
      "source": [
        "- ?기호 문자가 0개 또는 1개"
      ]
    },
    {
      "cell_type": "code",
      "metadata": {
        "id": "te1uwZIKfKJQ"
      },
      "source": [
        "r = re.compile('ab?c')"
      ],
      "execution_count": 7,
      "outputs": []
    },
    {
      "cell_type": "code",
      "metadata": {
        "id": "SJy8uDJmflUD"
      },
      "source": [
        "r.search('abbc') #실행안됨"
      ],
      "execution_count": 8,
      "outputs": []
    },
    {
      "cell_type": "code",
      "metadata": {
        "colab": {
          "base_uri": "https://localhost:8080/"
        },
        "id": "0ZezvwIDfpNZ",
        "outputId": "9ae5c0cc-d60d-469e-9782-3e20a6aebfc7"
      },
      "source": [
        "r.search('abc')"
      ],
      "execution_count": 9,
      "outputs": [
        {
          "output_type": "execute_result",
          "data": {
            "text/plain": [
              "<re.Match object; span=(0, 3), match='abc'>"
            ]
          },
          "metadata": {},
          "execution_count": 9
        }
      ]
    },
    {
      "cell_type": "markdown",
      "metadata": {
        "id": "-E29SyWTxU4O"
      },
      "source": [
        "- 기호: 바로앞의 문자가 0개 이상일경우"
      ]
    },
    {
      "cell_type": "code",
      "metadata": {
        "colab": {
          "base_uri": "https://localhost:8080/"
        },
        "id": "xleZm_jEfriM",
        "outputId": "1dd3d7cd-94d7-4ff4-f043-d4d22ac4217e"
      },
      "source": [
        "r= re.compile('ab*c')\n",
        "r.search('ac'), r.search('abbbbbc')"
      ],
      "execution_count": 11,
      "outputs": [
        {
          "output_type": "execute_result",
          "data": {
            "text/plain": [
              "(<re.Match object; span=(0, 2), match='ac'>,\n",
              " <re.Match object; span=(0, 7), match='abbbbbc'>)"
            ]
          },
          "metadata": {},
          "execution_count": 11
        }
      ]
    },
    {
      "cell_type": "markdown",
      "metadata": {
        "id": "tCfralLuxrVl"
      },
      "source": [
        "-기호 앞의 문자가 최소 1개 이상"
      ]
    },
    {
      "cell_type": "code",
      "metadata": {
        "colab": {
          "base_uri": "https://localhost:8080/"
        },
        "id": "KUyBhK30xhld",
        "outputId": "7ada7439-df5d-42a3-bf97-2c9ed5dc75b9"
      },
      "source": [
        "r= re.compile('ab+c')\n",
        "r.search('ac'), r.search('abbbbbc')"
      ],
      "execution_count": 12,
      "outputs": [
        {
          "output_type": "execute_result",
          "data": {
            "text/plain": [
              "(None, <re.Match object; span=(0, 7), match='abbbbbc'>)"
            ]
          },
          "metadata": {},
          "execution_count": 12
        }
      ]
    },
    {
      "cell_type": "markdown",
      "metadata": {
        "id": "QYU83yhyyGIv"
      },
      "source": [
        "- ^기호 시작되는 글자를 지정"
      ]
    },
    {
      "cell_type": "code",
      "metadata": {
        "colab": {
          "base_uri": "https://localhost:8080/"
        },
        "id": "vesanPNPyKGk",
        "outputId": "1d48cba0-9ff3-45c6-9876-4595f45f0f62"
      },
      "source": [
        "r=re.compile(\"^a\")\n",
        "r.search(\"bbc\"), r.search(\"ab\")"
      ],
      "execution_count": 14,
      "outputs": [
        {
          "output_type": "execute_result",
          "data": {
            "text/plain": [
              "(None, <re.Match object; span=(0, 1), match='a'>)"
            ]
          },
          "metadata": {},
          "execution_count": 14
        }
      ]
    },
    {
      "cell_type": "code",
      "metadata": {
        "id": "Le-kasSDyvB3"
      },
      "source": [
        "r=re.compile(\"ab{2}c\")\n",
        "r.search(\"ac\") # 아무런 결과도 출력되지 않는다.\n",
        "r.search(\"abc\") # 아무런 결과도 출력되지 않는다."
      ],
      "execution_count": null,
      "outputs": []
    },
    {
      "cell_type": "code",
      "metadata": {
        "id": "fI3adTvdzCFK"
      },
      "source": [
        "r.search(\"abbc\")"
      ],
      "execution_count": null,
      "outputs": []
    },
    {
      "cell_type": "markdown",
      "metadata": {
        "id": "4n3e6A5bzEtV"
      },
      "source": [
        "- '[ ]' 기호 : 문자들중 한개의 문자와 매치라는 뜻"
      ]
    },
    {
      "cell_type": "code",
      "metadata": {
        "id": "IUoD8eGAzNAM"
      },
      "source": [
        "r=re.compile(\"[abc]\") # [abc]는 [a-c]와 같다.\n",
        "r.search(\"zzz\") # 아무런 결과도 출력되지 않는다"
      ],
      "execution_count": 15,
      "outputs": []
    },
    {
      "cell_type": "code",
      "metadata": {
        "colab": {
          "base_uri": "https://localhost:8080/"
        },
        "id": "CYyxJU2zzZNy",
        "outputId": "e76df929-29c5-400b-c5b5-b8ff535b375f"
      },
      "source": [
        "r.search(\"baac\") "
      ],
      "execution_count": 18,
      "outputs": [
        {
          "output_type": "execute_result",
          "data": {
            "text/plain": [
              "<re.Match object; span=(0, 1), match='b'>"
            ]
          },
          "metadata": {},
          "execution_count": 18
        }
      ]
    },
    {
      "cell_type": "code",
      "metadata": {
        "id": "k5tgGOCwzbpT"
      },
      "source": [
        "#소문자\n",
        "r=re.compile(\"[a-z]\")\n",
        "r.search(\"AAA\")"
      ],
      "execution_count": 19,
      "outputs": []
    },
    {
      "cell_type": "code",
      "metadata": {
        "id": "RKl_GrvizsS2"
      },
      "source": [
        "#문자 또는 숫자\n",
        "re.search('[0-9A-Za-z]', '$%^&')\n",
        "re.search('\\w', '$%^&') "
      ],
      "execution_count": null,
      "outputs": []
    },
    {
      "cell_type": "markdown",
      "metadata": {
        "id": "egRk1mSYz20r"
      },
      "source": [
        "- [^문자]기호 : ^기호뒤에 붙은 문자들을 제외한 모든 문자를 매치"
      ]
    },
    {
      "cell_type": "code",
      "metadata": {
        "id": "E6b-5TVL0B2W"
      },
      "source": [
        "r=re.compile(\"[^abc]\")\n",
        "r.search(\"a\") # 아무런 결과도 출력되지 않는다.\n",
        "r.search(\"ab\") # 아무런 결과도 출력되지 않는다.\n",
        "r.search(\"b\") # 아무런 결과도 출력되지 않는다."
      ],
      "execution_count": 21,
      "outputs": []
    },
    {
      "cell_type": "code",
      "metadata": {
        "colab": {
          "base_uri": "https://localhost:8080/"
        },
        "id": "1C3ybhfl0DQs",
        "outputId": "9dac334e-7590-47d6-d552-881fbca4cf86"
      },
      "source": [
        "r.search(\"d\"), r.search(\"1\")"
      ],
      "execution_count": 22,
      "outputs": [
        {
          "output_type": "execute_result",
          "data": {
            "text/plain": [
              "(<re.Match object; span=(0, 1), match='d'>,\n",
              " <re.Match object; span=(0, 1), match='1'>)"
            ]
          },
          "metadata": {},
          "execution_count": 22
        }
      ]
    },
    {
      "cell_type": "code",
      "metadata": {
        "colab": {
          "base_uri": "https://localhost:8080/",
          "height": 35
        },
        "id": "zZTsxHk100kU",
        "outputId": "0f7257d2-6893-4732-b1b4-2a5318729acb"
      },
      "source": [
        "#한글과 공백을 제외한 모든 문자를 제거\n",
        "re.sub('[^ㄱ-ㅎㅏ-ㅣ가-힣 ]', '', '^기호 뒤에 붙은 문자. ')"
      ],
      "execution_count": 24,
      "outputs": [
        {
          "output_type": "execute_result",
          "data": {
            "application/vnd.google.colaboratory.intrinsic+json": {
              "type": "string"
            },
            "text/plain": [
              "'기호 뒤에 붙은 문자 '"
            ]
          },
          "metadata": {},
          "execution_count": 24
        }
      ]
    },
    {
      "cell_type": "markdown",
      "metadata": {
        "id": "ol2lnEZs1p83"
      },
      "source": [
        "# 2.re모듈함수"
      ]
    },
    {
      "cell_type": "markdown",
      "metadata": {
        "id": "2JG5-MYk2IIQ"
      },
      "source": [
        "- re.match()와 re.search()차이"
      ]
    },
    {
      "cell_type": "code",
      "metadata": {
        "colab": {
          "base_uri": "https://localhost:8080/"
        },
        "id": "SGFv3pEh1dGf",
        "outputId": "98072626-4d8d-4765-b757-fe85391504d2"
      },
      "source": [
        "re.match('ab. ', 'kkkabc'), re.search('ab. ', 'kkkabc')"
      ],
      "execution_count": 26,
      "outputs": [
        {
          "output_type": "execute_result",
          "data": {
            "text/plain": [
              "(None, None)"
            ]
          },
          "metadata": {},
          "execution_count": 26
        }
      ]
    },
    {
      "cell_type": "markdown",
      "metadata": {
        "id": "eRtkkBpr2PCA"
      },
      "source": [
        "- re.split()\n"
      ]
    },
    {
      "cell_type": "code",
      "metadata": {
        "colab": {
          "base_uri": "https://localhost:8080/"
        },
        "id": "ijYkiIbg1770",
        "outputId": "1186c070-26cd-4a99-c2cc-56e6e91165ce"
      },
      "source": [
        "text=\"사과 딸기 수박 메론 바나나\"\n",
        "re.split(\" \",text)"
      ],
      "execution_count": 27,
      "outputs": [
        {
          "output_type": "execute_result",
          "data": {
            "text/plain": [
              "['사과', '딸기', '수박', '메론', '바나나']"
            ]
          },
          "metadata": {},
          "execution_count": 27
        }
      ]
    },
    {
      "cell_type": "code",
      "metadata": {
        "id": "kyuINuEv214J"
      },
      "source": [
        ""
      ],
      "execution_count": null,
      "outputs": []
    },
    {
      "cell_type": "code",
      "metadata": {
        "colab": {
          "base_uri": "https://localhost:8080/"
        },
        "id": "7soTSbY12k_Z",
        "outputId": "f3ca5c5e-477d-418b-dc96-a3dcc95dac23"
      },
      "source": [
        "text= '''사과 \n",
        "딸기 \n",
        "수박\n",
        " 메론    바나나'''\n",
        "re.split(\"\\s\",text)"
      ],
      "execution_count": 32,
      "outputs": [
        {
          "output_type": "execute_result",
          "data": {
            "text/plain": [
              "['사과', '', '딸기', '', '수박', '', '메론', '', '', '', '바나나']"
            ]
          },
          "metadata": {},
          "execution_count": 32
        }
      ]
    },
    {
      "cell_type": "code",
      "metadata": {
        "colab": {
          "base_uri": "https://localhost:8080/"
        },
        "id": "GE3PzRpf2nAP",
        "outputId": "40562fb0-307a-4f38-8736-2a33ea3e32b6"
      },
      "source": [
        "re.split('\\s+',text)"
      ],
      "execution_count": 33,
      "outputs": [
        {
          "output_type": "execute_result",
          "data": {
            "text/plain": [
              "['사과', '딸기', '수박', '메론', '바나나']"
            ]
          },
          "metadata": {},
          "execution_count": 33
        }
      ]
    },
    {
      "cell_type": "code",
      "metadata": {
        "colab": {
          "base_uri": "https://localhost:8080/"
        },
        "id": "NlaJ3FW32xEE",
        "outputId": "fa31459f-505b-4c11-d25b-74aea57ba8cc"
      },
      "source": [
        "text=\"\"\"이름 : 김철수\n",
        "전화번호 : 010 - 1234 - 1234\n",
        "나이 : 30\n",
        "성별 : 남\"\"\"  \n",
        "re.findall(\"\\d+\", text), re.findall(\"\\d+\", '김철수'), "
      ],
      "execution_count": 35,
      "outputs": [
        {
          "output_type": "execute_result",
          "data": {
            "text/plain": [
              "(['010', '1234', '1234', '30'], [])"
            ]
          },
          "metadata": {},
          "execution_count": 35
        }
      ]
    },
    {
      "cell_type": "markdown",
      "metadata": {
        "id": "DG5OmHFM3lLV"
      },
      "source": [
        "- re.sub()"
      ]
    },
    {
      "cell_type": "code",
      "metadata": {
        "colab": {
          "base_uri": "https://localhost:8080/",
          "height": 53
        },
        "id": "bEUMlnvj3jW3",
        "outputId": "a1b385b8-ee79-4457-9abd-796bdacb9749"
      },
      "source": [
        "import re\n",
        "text=\"Regular expression : A regular expression, regex or regexp[1](sometimes called a rational expression)[2][3] is, in theoretical computer science and formal language theory, a sequence of characters that define a search pattern.\"\n",
        "re.sub('[^a-zA-Z]',' ',text)"
      ],
      "execution_count": 36,
      "outputs": [
        {
          "output_type": "execute_result",
          "data": {
            "application/vnd.google.colaboratory.intrinsic+json": {
              "type": "string"
            },
            "text/plain": [
              "'Regular expression   A regular expression  regex or regexp    sometimes called a rational expression        is  in theoretical computer science and formal language theory  a sequence of characters that define a search pattern '"
            ]
          },
          "metadata": {},
          "execution_count": 36
        }
      ]
    },
    {
      "cell_type": "markdown",
      "metadata": {
        "id": "AKQPCR9z36iK"
      },
      "source": [
        "### 3. 정규표현식 텍스트 전처리 예제"
      ]
    },
    {
      "cell_type": "code",
      "metadata": {
        "colab": {
          "base_uri": "https://localhost:8080/"
        },
        "id": "_5VUZC8Q3J9q",
        "outputId": "9420f8cd-e85d-4888-dea3-cef4c34f6698"
      },
      "source": [
        "text = \"\"\"100 John    PROF\n",
        "101 James   STUD\n",
        "102 Mac   STUD\"\"\"  \n",
        "\n",
        "re.split('\\s+', text)  "
      ],
      "execution_count": 37,
      "outputs": [
        {
          "output_type": "execute_result",
          "data": {
            "text/plain": [
              "['100', 'John', 'PROF', '101', 'James', 'STUD', '102', 'Mac', 'STUD']"
            ]
          },
          "metadata": {},
          "execution_count": 37
        }
      ]
    },
    {
      "cell_type": "code",
      "metadata": {
        "colab": {
          "base_uri": "https://localhost:8080/"
        },
        "id": "vgQu6pln4P4n",
        "outputId": "240f3ff5-8290-4d77-9d94-9a4e27d13933"
      },
      "source": [
        "re.findall('\\d+', text)"
      ],
      "execution_count": 38,
      "outputs": [
        {
          "output_type": "execute_result",
          "data": {
            "text/plain": [
              "['100', '101', '102']"
            ]
          },
          "metadata": {},
          "execution_count": 38
        }
      ]
    },
    {
      "cell_type": "code",
      "metadata": {
        "colab": {
          "base_uri": "https://localhost:8080/"
        },
        "id": "yQ2fVsf84U_A",
        "outputId": "2ba595ea-b168-42ac-ae64-1af716d0958b"
      },
      "source": [
        "#대문자 찾기\n",
        "re.findall('[A-Z]+', text)"
      ],
      "execution_count": 41,
      "outputs": [
        {
          "output_type": "execute_result",
          "data": {
            "text/plain": [
              "['J', 'PROF', 'J', 'STUD', 'M', 'STUD']"
            ]
          },
          "metadata": {},
          "execution_count": 41
        }
      ]
    },
    {
      "cell_type": "code",
      "metadata": {
        "colab": {
          "base_uri": "https://localhost:8080/"
        },
        "id": "3X78m8xY4frs",
        "outputId": "100cff47-3bd0-4e3a-80a8-110816a08c5c"
      },
      "source": [
        "re.findall('[A-Z]{4}', text)"
      ],
      "execution_count": 42,
      "outputs": [
        {
          "output_type": "execute_result",
          "data": {
            "text/plain": [
              "['PROF', 'STUD', 'STUD']"
            ]
          },
          "metadata": {},
          "execution_count": 42
        }
      ]
    },
    {
      "cell_type": "code",
      "metadata": {
        "colab": {
          "base_uri": "https://localhost:8080/"
        },
        "id": "AUjGquXX4wgm",
        "outputId": "017e85d7-3a11-43e7-92ad-f27a2eb5f1fe"
      },
      "source": [
        "re.findall('[A-Z][a-z]+', text)\n",
        "#첫번째 글자는 대무낮 두번째 글자는 소문자"
      ],
      "execution_count": 46,
      "outputs": [
        {
          "output_type": "execute_result",
          "data": {
            "text/plain": [
              "['John', 'James', 'Mac']"
            ]
          },
          "metadata": {},
          "execution_count": 46
        }
      ]
    },
    {
      "cell_type": "code",
      "metadata": {
        "colab": {
          "base_uri": "https://localhost:8080/"
        },
        "id": "wHOtQJky5IjV",
        "outputId": "5fe11b04-5d79-4e06-935f-f4b6771c2abf"
      },
      "source": [
        "\n",
        "re.findall('[A-Za-z]+', text)\n",
        "#대문자 또는 소문자"
      ],
      "execution_count": 43,
      "outputs": [
        {
          "output_type": "execute_result",
          "data": {
            "text/plain": [
              "['John', 'PROF', 'James', 'STUD', 'Mac', 'STUD']"
            ]
          },
          "metadata": {},
          "execution_count": 43
        }
      ]
    }
  ]
}