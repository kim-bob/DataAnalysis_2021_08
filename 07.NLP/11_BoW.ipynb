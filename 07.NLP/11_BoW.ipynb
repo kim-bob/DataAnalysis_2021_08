{
  "nbformat": 4,
  "nbformat_minor": 0,
  "metadata": {
    "colab": {
      "name": "11_BoW.ipynb",
      "provenance": [],
      "collapsed_sections": []
    },
    "kernelspec": {
      "name": "python3",
      "display_name": "Python 3"
    },
    "language_info": {
      "name": "python"
    }
  },
  "cells": [
    {
      "cell_type": "markdown",
      "metadata": {
        "id": "6KXAXUkg9IuD"
      },
      "source": [
        "# Bag of Words"
      ]
    },
    {
      "cell_type": "markdown",
      "metadata": {
        "id": "UB8IdAKy-vQT"
      },
      "source": [
        "## 1. CountVectorizer"
      ]
    },
    {
      "cell_type": "code",
      "metadata": {
        "id": "DAgG9UXusBGf"
      },
      "source": [
        "from sklearn.feature_extraction.text import CountVectorizer\n",
        "corpus = ['you know I want your love. because I love you.']"
      ],
      "execution_count": 10,
      "outputs": []
    },
    {
      "cell_type": "code",
      "metadata": {
        "id": "xS_UWSG0A4C7"
      },
      "source": [
        "cvector = CountVectorizer()"
      ],
      "execution_count": 12,
      "outputs": []
    },
    {
      "cell_type": "code",
      "metadata": {
        "colab": {
          "base_uri": "https://localhost:8080/"
        },
        "id": "MtdJY6THBNB8",
        "outputId": "6e928f72-862d-45f6-9082-2011615dead4"
      },
      "source": [
        "cvector.fit(corpus)      #학습\n",
        "cvector.transform(corpus).toarray() #변환"
      ],
      "execution_count": 15,
      "outputs": [
        {
          "output_type": "execute_result",
          "data": {
            "text/plain": [
              "array([[1, 1, 2, 1, 2, 1]])"
            ]
          },
          "metadata": {},
          "execution_count": 15
        }
      ]
    },
    {
      "cell_type": "code",
      "metadata": {
        "colab": {
          "base_uri": "https://localhost:8080/"
        },
        "id": "vabLC334Bn8C",
        "outputId": "659bd9dc-8b6c-4ec7-ac0d-c1c5e9c13def"
      },
      "source": [
        "cvector.vocabulary_"
      ],
      "execution_count": 16,
      "outputs": [
        {
          "output_type": "execute_result",
          "data": {
            "text/plain": [
              "{'because': 0, 'know': 1, 'love': 2, 'want': 3, 'you': 4, 'your': 5}"
            ]
          },
          "metadata": {},
          "execution_count": 16
        }
      ]
    },
    {
      "cell_type": "code",
      "metadata": {
        "colab": {
          "base_uri": "https://localhost:8080/"
        },
        "id": "YB_utdCdCEu6",
        "outputId": "710d410e-ffe7-4da9-e1c7-0ac968cc8952"
      },
      "source": [
        "cvector.fit_transform(corpus)"
      ],
      "execution_count": 17,
      "outputs": [
        {
          "output_type": "execute_result",
          "data": {
            "text/plain": [
              "<1x6 sparse matrix of type '<class 'numpy.int64'>'\n",
              "\twith 6 stored elements in Compressed Sparse Row format>"
            ]
          },
          "metadata": {},
          "execution_count": 17
        }
      ]
    },
    {
      "cell_type": "code",
      "metadata": {
        "colab": {
          "base_uri": "https://localhost:8080/"
        },
        "id": "03XO7HRDCRDi",
        "outputId": "4d86bc26-0e61-4ebb-a83b-991209f73efa"
      },
      "source": [
        "output = cvector.fit_transform(corpus).toarray()\n",
        "output\n"
      ],
      "execution_count": 20,
      "outputs": [
        {
          "output_type": "execute_result",
          "data": {
            "text/plain": [
              "array([[1, 1, 2, 1, 2, 1]])"
            ]
          },
          "metadata": {},
          "execution_count": 20
        }
      ]
    },
    {
      "cell_type": "code",
      "metadata": {
        "colab": {
          "base_uri": "https://localhost:8080/"
        },
        "id": "27GMj2XkCqdh",
        "outputId": "64f76107-9cd5-490c-92cc-f3b228e8004d"
      },
      "source": [
        "output.shape"
      ],
      "execution_count": 21,
      "outputs": [
        {
          "output_type": "execute_result",
          "data": {
            "text/plain": [
              "(1, 6)"
            ]
          },
          "metadata": {},
          "execution_count": 21
        }
      ]
    },
    {
      "cell_type": "markdown",
      "metadata": {
        "id": "LigwMeIDFlGx"
      },
      "source": [
        "- 불용어를 제거한 BoW\n"
      ]
    },
    {
      "cell_type": "code",
      "metadata": {
        "colab": {
          "base_uri": "https://localhost:8080/"
        },
        "id": "aVYz0cnFCxUB",
        "outputId": "0c6fbeb2-469f-4293-81fe-e533df618fc2"
      },
      "source": [
        "# 사용자 정의 \n",
        "text=[\"Family is not an important thing. It's everything.\"]\n",
        "vect = CountVectorizer(stop_words=[\"the\", \"a\", \"an\", \"is\", \"not\"])\n",
        "print(vect.fit_transform(text).toarray()) \n",
        "print(vect.vocabulary_)"
      ],
      "execution_count": 22,
      "outputs": [
        {
          "output_type": "stream",
          "name": "stdout",
          "text": [
            "[[1 1 1 1 1]]\n",
            "{'family': 1, 'important': 2, 'thing': 4, 'it': 3, 'everything': 0}\n"
          ]
        }
      ]
    },
    {
      "cell_type": "code",
      "metadata": {
        "colab": {
          "base_uri": "https://localhost:8080/"
        },
        "id": "KF9Gz43EF7ds",
        "outputId": "86f1d750-06b1-4076-fa14-03e2f61bb609"
      },
      "source": [
        "#Scikit-Learn 제공\n",
        "text=[\"Family is not an important thing. It's everything.\"]\n",
        "vect = CountVectorizer(stop_words=\"english\")\n",
        "print(vect.fit_transform(text).toarray()) \n",
        "print(vect.vocabulary_)"
      ],
      "execution_count": 23,
      "outputs": [
        {
          "output_type": "stream",
          "name": "stdout",
          "text": [
            "[[1 1 1]]\n",
            "{'family': 0, 'important': 1, 'thing': 2}\n"
          ]
        }
      ]
    },
    {
      "cell_type": "code",
      "metadata": {
        "colab": {
          "base_uri": "https://localhost:8080/"
        },
        "id": "8tb-toCgGTuB",
        "outputId": "3257f73b-22b2-47d8-b9a7-72671fdb972f"
      },
      "source": [
        "import nltk\n",
        "nltk.download('stopwords')"
      ],
      "execution_count": 25,
      "outputs": [
        {
          "output_type": "stream",
          "name": "stdout",
          "text": [
            "[nltk_data] Downloading package stopwords to /root/nltk_data...\n",
            "[nltk_data]   Unzipping corpora/stopwords.zip.\n"
          ]
        },
        {
          "output_type": "execute_result",
          "data": {
            "text/plain": [
              "True"
            ]
          },
          "metadata": {},
          "execution_count": 25
        }
      ]
    },
    {
      "cell_type": "code",
      "metadata": {
        "colab": {
          "base_uri": "https://localhost:8080/"
        },
        "id": "99yNxd57GOgZ",
        "outputId": "afcde02a-14d2-40bd-c211-992659374a99"
      },
      "source": [
        "from nltk.corpus import stopwords\n",
        "\n",
        "text=[\"Family is not an important thing. It's everything.\"]\n",
        "sw = stopwords.words(\"english\")\n",
        "vect = CountVectorizer(stop_words =sw)\n",
        "print(vect.fit_transform(text).toarray()) \n",
        "print(vect.vocabulary_)"
      ],
      "execution_count": 26,
      "outputs": [
        {
          "output_type": "stream",
          "name": "stdout",
          "text": [
            "[[1 1 1 1]]\n",
            "{'family': 1, 'important': 2, 'thing': 3, 'everything': 0}\n"
          ]
        }
      ]
    },
    {
      "cell_type": "code",
      "metadata": {
        "id": "KGWo4fzrGfkq"
      },
      "source": [
        "def get_word(index, voca):\n",
        "    for key, value in voca.items():\n",
        "        if value == index:\n",
        "            return key\n"
      ],
      "execution_count": 27,
      "outputs": []
    },
    {
      "cell_type": "code",
      "metadata": {
        "colab": {
          "base_uri": "https://localhost:8080/",
          "height": 35
        },
        "id": "ygR3kfdjG9lX",
        "outputId": "0e5cdc8a-0e8e-44cf-c07e-9f5062571b6a"
      },
      "source": [
        "get_word(2, vect.vocabulary_)"
      ],
      "execution_count": 31,
      "outputs": [
        {
          "output_type": "execute_result",
          "data": {
            "application/vnd.google.colaboratory.intrinsic+json": {
              "type": "string"
            },
            "text/plain": [
              "'important'"
            ]
          },
          "metadata": {},
          "execution_count": 31
        }
      ]
    },
    {
      "cell_type": "markdown",
      "metadata": {
        "id": "VmoL6fndICRr"
      },
      "source": [
        "- N-gram"
      ]
    },
    {
      "cell_type": "code",
      "metadata": {
        "id": "hQn5vGGTG_8C"
      },
      "source": [
        "text1 = ['Machine learning is fun and not boring']\n",
        "text2 = ['Machine is boring and learning is not fun']"
      ],
      "execution_count": 33,
      "outputs": []
    },
    {
      "cell_type": "code",
      "metadata": {
        "colab": {
          "base_uri": "https://localhost:8080/"
        },
        "id": "5o7tmF09Ie_m",
        "outputId": "1543ace7-267e-48fd-be8d-a11e4af61357"
      },
      "source": [
        "#다른 문장이지만 카운트 벡터 쓰면 같은 결과가 나옴 따라서 N-gram을 같이 써야함\n",
        "vect = CountVectorizer(stop_words=\"english\")\n",
        "print(vect.fit_transform(text1).toarray()) \n",
        "print(vect.vocabulary_)"
      ],
      "execution_count": 34,
      "outputs": [
        {
          "output_type": "stream",
          "name": "stdout",
          "text": [
            "[[1 1 1 1]]\n",
            "{'machine': 3, 'learning': 2, 'fun': 1, 'boring': 0}\n"
          ]
        }
      ]
    },
    {
      "cell_type": "code",
      "metadata": {
        "colab": {
          "base_uri": "https://localhost:8080/"
        },
        "id": "RwVrfv_QIlTT",
        "outputId": "468f115d-a724-4d67-ccb1-d5faa50f7cc8"
      },
      "source": [
        "vect = CountVectorizer(stop_words=\"english\")\n",
        "print(vect.fit_transform(text2).toarray()) \n",
        "print(vect.vocabulary_)"
      ],
      "execution_count": 35,
      "outputs": [
        {
          "output_type": "stream",
          "name": "stdout",
          "text": [
            "[[1 1 1 1]]\n",
            "{'machine': 3, 'boring': 0, 'learning': 2, 'fun': 1}\n"
          ]
        }
      ]
    },
    {
      "cell_type": "code",
      "metadata": {
        "colab": {
          "base_uri": "https://localhost:8080/"
        },
        "id": "TliFRRjFI5WC",
        "outputId": "0ba193a7-198d-476b-8cf1-f62f7c17afe1"
      },
      "source": [
        "#N-gram range (1, 2)\n",
        "vect = CountVectorizer(ngram_range=(1,2))\n",
        "print(vect.fit_transform(text1).toarray()) \n",
        "print(vect.vocabulary_)"
      ],
      "execution_count": 36,
      "outputs": [
        {
          "output_type": "stream",
          "name": "stdout",
          "text": [
            "[[1 1 1 1 1 1 1 1 1 1 1 1 1]]\n",
            "{'machine': 9, 'learning': 7, 'is': 5, 'fun': 3, 'and': 0, 'not': 11, 'boring': 2, 'machine learning': 10, 'learning is': 8, 'is fun': 6, 'fun and': 4, 'and not': 1, 'not boring': 12}\n"
          ]
        }
      ]
    },
    {
      "cell_type": "code",
      "metadata": {
        "colab": {
          "base_uri": "https://localhost:8080/"
        },
        "id": "pWhmY_m6JIql",
        "outputId": "beb8bd27-c541-4364-84c0-69d1b2117e09"
      },
      "source": [
        "\n",
        "print(vect.fit_transform(text2).toarray()) \n",
        "print(vect.vocabulary_)"
      ],
      "execution_count": 37,
      "outputs": [
        {
          "output_type": "stream",
          "name": "stdout",
          "text": [
            "[[1 1 1 1 1 2 1 1 1 1 1 1 1 1]]\n",
            "{'machine': 10, 'is': 5, 'boring': 2, 'and': 0, 'learning': 8, 'not': 12, 'fun': 4, 'machine is': 11, 'is boring': 6, 'boring and': 3, 'and learning': 1, 'learning is': 9, 'is not': 7, 'not fun': 13}\n"
          ]
        }
      ]
    },
    {
      "cell_type": "code",
      "metadata": {
        "colab": {
          "base_uri": "https://localhost:8080/"
        },
        "id": "sLwyebGgJlwv",
        "outputId": "d5dd262f-84fa-4d0f-deec-80625b6f3feb"
      },
      "source": [
        "#N-gram range (1, 3)\n",
        "vect = CountVectorizer(ngram_range=(1,3), stop_words=\"english\")\n",
        "print(vect.fit_transform(text1).toarray()) \n",
        "print(vect.vocabulary_)"
      ],
      "execution_count": 38,
      "outputs": [
        {
          "output_type": "stream",
          "name": "stdout",
          "text": [
            "[[1 1 1 1 1 1 1 1 1]]\n",
            "{'machine': 6, 'learning': 3, 'fun': 1, 'boring': 0, 'machine learning': 7, 'learning fun': 4, 'fun boring': 2, 'machine learning fun': 8, 'learning fun boring': 5}\n"
          ]
        }
      ]
    },
    {
      "cell_type": "code",
      "metadata": {
        "id": "JzzJ0C0tJqt4"
      },
      "source": [
        ""
      ],
      "execution_count": null,
      "outputs": []
    },
    {
      "cell_type": "markdown",
      "metadata": {
        "id": "ie6SdM-dJ5F_"
      },
      "source": [
        "- Hyper parameter"
      ]
    },
    {
      "cell_type": "code",
      "metadata": {
        "colab": {
          "base_uri": "https://localhost:8080/"
        },
        "id": "NW2BChupJ7he",
        "outputId": "f52b376a-3db9-42a2-c24f-8032ebcc9a24"
      },
      "source": [
        "vect.get_params() #파라메터들을 잘 써야함 "
      ],
      "execution_count": 39,
      "outputs": [
        {
          "output_type": "execute_result",
          "data": {
            "text/plain": [
              "{'analyzer': 'word',\n",
              " 'binary': False,\n",
              " 'decode_error': 'strict',\n",
              " 'dtype': numpy.int64,\n",
              " 'encoding': 'utf-8',\n",
              " 'input': 'content',\n",
              " 'lowercase': True,\n",
              " 'max_df': 1.0,\n",
              " 'max_features': None,\n",
              " 'min_df': 1,\n",
              " 'ngram_range': (1, 3),\n",
              " 'preprocessor': None,\n",
              " 'stop_words': 'english',\n",
              " 'strip_accents': None,\n",
              " 'token_pattern': '(?u)\\\\b\\\\w\\\\w+\\\\b',\n",
              " 'tokenizer': None,\n",
              " 'vocabulary': None}"
            ]
          },
          "metadata": {},
          "execution_count": 39
        }
      ]
    },
    {
      "cell_type": "markdown",
      "metadata": {
        "id": "gXEoavwfKoUP"
      },
      "source": [
        "- DTM"
      ]
    },
    {
      "cell_type": "code",
      "metadata": {
        "colab": {
          "base_uri": "https://localhost:8080/"
        },
        "id": "CAUJJxuZK5D5",
        "outputId": "4b85a42d-92a8-473f-e865-ebc8638affd5"
      },
      "source": [
        "corpus = [\"you know I want your love. because I love you.\", \"I like you\",\"What should I do.\"] \n",
        "vect = CountVectorizer()\n",
        "print(vect.fit_transform(corpus).toarray()) \n",
        "print(vect.vocabulary_)"
      ],
      "execution_count": 40,
      "outputs": [
        {
          "output_type": "stream",
          "name": "stdout",
          "text": [
            "[[1 0 1 0 2 0 1 0 2 1]\n",
            " [0 0 0 1 0 0 0 0 1 0]\n",
            " [0 1 0 0 0 1 0 1 0 0]]\n",
            "{'you': 8, 'know': 2, 'want': 6, 'your': 9, 'love': 4, 'because': 0, 'like': 3, 'what': 7, 'should': 5, 'do': 1}\n"
          ]
        }
      ]
    },
    {
      "cell_type": "markdown",
      "metadata": {
        "id": "LCBTHtsaKeY4"
      },
      "source": [
        "## TF-IDF vectorizer"
      ]
    },
    {
      "cell_type": "code",
      "metadata": {
        "colab": {
          "base_uri": "https://localhost:8080/"
        },
        "id": "h2Orm2-DKBPs",
        "outputId": "a94d126c-88fe-4f9c-d86d-30accf841e87"
      },
      "source": [
        "from sklearn.feature_extraction.text import TfidfVectorizer\n",
        "tvect = TfidfVectorizer()\n",
        "print(tvect.fit_transform(corpus).toarray().round(2)) \n",
        "print(tvect.vocabulary_)"
      ],
      "execution_count": 47,
      "outputs": [
        {
          "output_type": "stream",
          "name": "stdout",
          "text": [
            "[[0.31 0.   0.31 0.   0.62 0.   0.31 0.   0.47 0.31]\n",
            " [0.   0.   0.   0.8  0.   0.   0.   0.   0.61 0.  ]\n",
            " [0.   0.58 0.   0.   0.   0.58 0.   0.58 0.   0.  ]]\n",
            "{'you': 8, 'know': 2, 'want': 6, 'your': 9, 'love': 4, 'because': 0, 'like': 3, 'what': 7, 'should': 5, 'do': 1}\n"
          ]
        }
      ]
    },
    {
      "cell_type": "code",
      "metadata": {
        "colab": {
          "base_uri": "https://localhost:8080/"
        },
        "id": "8I1Nw2GtOMbp",
        "outputId": "cf50f45e-9275-4082-93c6-95903729b2cb"
      },
      "source": [
        "tvect = TfidfVectorizer(ngram_range=(1,2), stop_words=\"english\")\n",
        "print(tvect.fit_transform(corpus).toarray().round(2)) \n",
        "print(tvect.vocabulary_)"
      ],
      "execution_count": 49,
      "outputs": [
        {
          "output_type": "stream",
          "name": "stdout",
          "text": [
            "[[0.33 0.33 0.   0.67 0.33 0.33 0.33]\n",
            " [0.   0.   1.   0.   0.   0.   0.  ]\n",
            " [0.   0.   0.   0.   0.   0.   0.  ]]\n",
            "{'know': 0, 'want': 5, 'love': 3, 'know want': 1, 'want love': 6, 'love love': 4, 'like': 2}\n"
          ]
        }
      ]
    },
    {
      "cell_type": "code",
      "metadata": {
        "colab": {
          "base_uri": "https://localhost:8080/"
        },
        "id": "d_8avbBpPI4-",
        "outputId": "89a4cc18-c596-49ed-affd-c2f499632fdf"
      },
      "source": [
        "tvect.get_params()"
      ],
      "execution_count": 50,
      "outputs": [
        {
          "output_type": "execute_result",
          "data": {
            "text/plain": [
              "{'analyzer': 'word',\n",
              " 'binary': False,\n",
              " 'decode_error': 'strict',\n",
              " 'dtype': numpy.float64,\n",
              " 'encoding': 'utf-8',\n",
              " 'input': 'content',\n",
              " 'lowercase': True,\n",
              " 'max_df': 1.0,\n",
              " 'max_features': None,\n",
              " 'min_df': 1,\n",
              " 'ngram_range': (1, 2),\n",
              " 'norm': 'l2',\n",
              " 'preprocessor': None,\n",
              " 'smooth_idf': True,\n",
              " 'stop_words': 'english',\n",
              " 'strip_accents': None,\n",
              " 'sublinear_tf': False,\n",
              " 'token_pattern': '(?u)\\\\b\\\\w\\\\w+\\\\b',\n",
              " 'tokenizer': None,\n",
              " 'use_idf': True,\n",
              " 'vocabulary': None}"
            ]
          },
          "metadata": {},
          "execution_count": 50
        }
      ]
    },
    {
      "cell_type": "code",
      "metadata": {
        "id": "sEArJE30PWuY"
      },
      "source": [
        ""
      ],
      "execution_count": null,
      "outputs": []
    }
  ]
}