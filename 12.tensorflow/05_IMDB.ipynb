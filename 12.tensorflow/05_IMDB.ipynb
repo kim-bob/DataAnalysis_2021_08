{
  "nbformat": 4,
  "nbformat_minor": 0,
  "metadata": {
    "colab": {
      "name": "05_IMDB.ipynb",
      "provenance": [],
      "collapsed_sections": []
    },
    "kernelspec": {
      "name": "python3",
      "display_name": "Python 3"
    },
    "language_info": {
      "name": "python"
    }
  },
  "cells": [
    {
      "cell_type": "code",
      "metadata": {
        "id": "Dd8vrNZFW9Yf"
      },
      "source": [
        "from keras.layers import Embedding\n"
      ],
      "execution_count": 1,
      "outputs": []
    },
    {
      "cell_type": "code",
      "metadata": {
        "id": "42LLqZlMWHkY"
      },
      "source": [
        "from keras.datasets import imdb\n",
        "from keras import preprocessing"
      ],
      "execution_count": 2,
      "outputs": []
    },
    {
      "cell_type": "code",
      "metadata": {
        "id": "GKrdMjIJWO_d"
      },
      "source": [
        "max_features =  10000\n",
        "maxlen = 20 # 리뷰의 최대 단어 20개만 뽑고 모자랄경우 0으로 남는경우 잘라내기하여 최대길이를 20개로 맞춤 \n"
      ],
      "execution_count": 3,
      "outputs": []
    },
    {
      "cell_type": "code",
      "metadata": {
        "colab": {
          "base_uri": "https://localhost:8080/"
        },
        "id": "h-L3dxwoWVbF",
        "outputId": "958ac19f-4579-48d9-bff5-2b8b89585d4a"
      },
      "source": [
        "(x_train, y_train), (x_test, y_test) = imdb.load_data(num_words=max_features)\n",
        "x_train = preprocessing.sequence.pad_sequences(x_train, maxlen=maxlen)\n",
        "x_test = preprocessing.sequence.pad_sequences(x_test, maxlen=maxlen)\n"
      ],
      "execution_count": 4,
      "outputs": [
        {
          "output_type": "stream",
          "name": "stdout",
          "text": [
            "Downloading data from https://storage.googleapis.com/tensorflow/tf-keras-datasets/imdb.npz\n",
            "17465344/17464789 [==============================] - 0s 0us/step\n",
            "17473536/17464789 [==============================] - 0s 0us/step\n"
          ]
        }
      ]
    },
    {
      "cell_type": "code",
      "metadata": {
        "id": "Tx5vfBqUVQrR"
      },
      "source": [
        "from keras.models import Sequential\n",
        "from keras.layers import Flatten, Dense\n"
      ],
      "execution_count": 5,
      "outputs": []
    },
    {
      "cell_type": "code",
      "metadata": {
        "id": "fssp5TDwVe9z"
      },
      "source": [
        "model = Sequential()"
      ],
      "execution_count": 6,
      "outputs": []
    },
    {
      "cell_type": "code",
      "metadata": {
        "id": "QcK3HFkvVlyW"
      },
      "source": [
        "model.add(Embedding(10000, 8, input_length=maxlen))\n",
        "model.add(Flatten())\n",
        "model.add(Dense(1, activation='sigmoid'))\n",
        "\n"
      ],
      "execution_count": 7,
      "outputs": []
    },
    {
      "cell_type": "code",
      "metadata": {
        "id": "-Th1bmmuWCAK"
      },
      "source": [
        "model.compile(optimizer='rmsprop', loss='binary_crossentropy', metrics=['acc'])\n"
      ],
      "execution_count": 8,
      "outputs": []
    },
    {
      "cell_type": "code",
      "metadata": {
        "colab": {
          "base_uri": "https://localhost:8080/"
        },
        "id": "hiE8vZCgXUbo",
        "outputId": "b06f26f6-47cd-4783-e33d-3d555104bff3"
      },
      "source": [
        "model.summary()"
      ],
      "execution_count": 9,
      "outputs": [
        {
          "output_type": "stream",
          "name": "stdout",
          "text": [
            "Model: \"sequential\"\n",
            "_________________________________________________________________\n",
            "Layer (type)                 Output Shape              Param #   \n",
            "=================================================================\n",
            "embedding (Embedding)        (None, 20, 8)             80000     \n",
            "_________________________________________________________________\n",
            "flatten (Flatten)            (None, 160)               0         \n",
            "_________________________________________________________________\n",
            "dense (Dense)                (None, 1)                 161       \n",
            "=================================================================\n",
            "Total params: 80,161\n",
            "Trainable params: 80,161\n",
            "Non-trainable params: 0\n",
            "_________________________________________________________________\n"
          ]
        }
      ]
    },
    {
      "cell_type": "code",
      "metadata": {
        "colab": {
          "base_uri": "https://localhost:8080/"
        },
        "id": "f5eQxLLUXWEk",
        "outputId": "c3b25c23-b056-4263-be9c-8d6e57cee46d"
      },
      "source": [
        "history = model.fit(x_train, y_train, epochs=20, batch_size=32, validation_split=0.2)"
      ],
      "execution_count": 10,
      "outputs": [
        {
          "output_type": "stream",
          "name": "stdout",
          "text": [
            "Epoch 1/20\n",
            "625/625 [==============================] - 2s 2ms/step - loss: 0.6663 - acc: 0.6322 - val_loss: 0.6119 - val_acc: 0.7030\n",
            "Epoch 2/20\n",
            "625/625 [==============================] - 1s 2ms/step - loss: 0.5375 - acc: 0.7507 - val_loss: 0.5217 - val_acc: 0.7326\n",
            "Epoch 3/20\n",
            "625/625 [==============================] - 1s 2ms/step - loss: 0.4597 - acc: 0.7866 - val_loss: 0.4983 - val_acc: 0.7450\n",
            "Epoch 4/20\n",
            "625/625 [==============================] - 1s 2ms/step - loss: 0.4210 - acc: 0.8073 - val_loss: 0.4934 - val_acc: 0.7512\n",
            "Epoch 5/20\n",
            "625/625 [==============================] - 1s 2ms/step - loss: 0.3934 - acc: 0.8235 - val_loss: 0.4944 - val_acc: 0.7522\n",
            "Epoch 6/20\n",
            "625/625 [==============================] - 1s 1ms/step - loss: 0.3715 - acc: 0.8360 - val_loss: 0.4993 - val_acc: 0.7534\n",
            "Epoch 7/20\n",
            "625/625 [==============================] - 1s 1ms/step - loss: 0.3517 - acc: 0.8471 - val_loss: 0.5068 - val_acc: 0.7534\n",
            "Epoch 8/20\n",
            "625/625 [==============================] - 1s 2ms/step - loss: 0.3339 - acc: 0.8565 - val_loss: 0.5144 - val_acc: 0.7540\n",
            "Epoch 9/20\n",
            "625/625 [==============================] - 1s 2ms/step - loss: 0.3170 - acc: 0.8665 - val_loss: 0.5220 - val_acc: 0.7506\n",
            "Epoch 10/20\n",
            "625/625 [==============================] - 1s 2ms/step - loss: 0.3009 - acc: 0.8751 - val_loss: 0.5310 - val_acc: 0.7482\n",
            "Epoch 11/20\n",
            "625/625 [==============================] - 1s 2ms/step - loss: 0.2859 - acc: 0.8835 - val_loss: 0.5404 - val_acc: 0.7464\n",
            "Epoch 12/20\n",
            "625/625 [==============================] - 1s 2ms/step - loss: 0.2718 - acc: 0.8916 - val_loss: 0.5508 - val_acc: 0.7454\n",
            "Epoch 13/20\n",
            "625/625 [==============================] - 1s 2ms/step - loss: 0.2580 - acc: 0.8971 - val_loss: 0.5620 - val_acc: 0.7416\n",
            "Epoch 14/20\n",
            "625/625 [==============================] - 1s 1ms/step - loss: 0.2449 - acc: 0.9056 - val_loss: 0.5745 - val_acc: 0.7412\n",
            "Epoch 15/20\n",
            "625/625 [==============================] - 1s 2ms/step - loss: 0.2324 - acc: 0.9121 - val_loss: 0.5866 - val_acc: 0.7362\n",
            "Epoch 16/20\n",
            "625/625 [==============================] - 1s 2ms/step - loss: 0.2207 - acc: 0.9171 - val_loss: 0.5995 - val_acc: 0.7338\n",
            "Epoch 17/20\n",
            "625/625 [==============================] - 1s 2ms/step - loss: 0.2092 - acc: 0.9232 - val_loss: 0.6130 - val_acc: 0.7318\n",
            "Epoch 18/20\n",
            "625/625 [==============================] - 1s 1ms/step - loss: 0.1985 - acc: 0.9269 - val_loss: 0.6273 - val_acc: 0.7298\n",
            "Epoch 19/20\n",
            "625/625 [==============================] - 1s 2ms/step - loss: 0.1883 - acc: 0.9316 - val_loss: 0.6417 - val_acc: 0.7276\n",
            "Epoch 20/20\n",
            "625/625 [==============================] - 1s 2ms/step - loss: 0.1787 - acc: 0.9352 - val_loss: 0.6566 - val_acc: 0.7252\n"
          ]
        }
      ]
    },
    {
      "cell_type": "code",
      "metadata": {
        "colab": {
          "base_uri": "https://localhost:8080/",
          "height": 545
        },
        "id": "xS1PrLlPXsRp",
        "outputId": "528a097e-b5a6-4d8c-df57-a47cf9d5f79a"
      },
      "source": [
        "import matplotlib.pyplot as plt\n",
        "acc = history.history['acc']\n",
        "val_acc = history.history['val_acc']\n",
        "loss = history.history['loss']\n",
        "val_loss = history.history['val_loss']\n",
        "epochs = range(1, len(acc)+1)\n",
        "plt.plot(epochs, acc, 'bo', label='Training acc')\n",
        "plt.plot(epochs, val_acc, 'b', label='Validation acc')\n",
        "plt.title('Training and validation accuracy')\n",
        "plt.legend()\n",
        "plt.figure()\n",
        "plt.plot(epochs, loss, 'bo', label='Training loss')\n",
        "plt.plot(epochs, val_loss, 'b', label='Validation loss')\n",
        "plt.title('Training and validation loss')\n",
        "plt.legend()\n",
        "plt.show()"
      ],
      "execution_count": 11,
      "outputs": [
        {
          "output_type": "display_data",
          "data": {
            "image/png": "[encoded data removed]",
            "text/plain": [
              "<Figure size 432x288 with 1 Axes>"
            ]
          },
          "metadata": {
            "needs_background": "light"
          }
        },
        {
          "output_type": "display_data",
          "data": {
            "image/png": "[encoded data removed]",
            "text/plain": [
              "<Figure size 432x288 with 1 Axes>"
            ]
          },
          "metadata": {
            "needs_background": "light"
          }
        }
      ]
    }
  ]
}