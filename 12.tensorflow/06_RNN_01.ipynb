{
  "nbformat": 4,
  "nbformat_minor": 0,
  "metadata": {
    "colab": {
      "name": "06_RNN_01.ipynb",
      "provenance": [],
      "collapsed_sections": []
    },
    "kernelspec": {
      "name": "python3",
      "display_name": "Python 3"
    },
    "language_info": {
      "name": "python"
    }
  },
  "cells": [
    {
      "cell_type": "markdown",
      "metadata": {
        "id": "bTu5hwRo0LKL"
      },
      "source": [
        "# Understanding Recurrent Neural Networks (RNN)\n",
        "- Preparing the IMDB data"
      ]
    },
    {
      "cell_type": "code",
      "metadata": {
        "id": "Q4hV2Xy9eGiq"
      },
      "source": [
        "from keras.datasets import imdb"
      ],
      "execution_count": 4,
      "outputs": []
    },
    {
      "cell_type": "code",
      "metadata": {
        "id": "luWOKI51egmV"
      },
      "source": [
        "from keras.preprocessing import sequence\n",
        "\n",
        "from keras.models import Sequential"
      ],
      "execution_count": 9,
      "outputs": []
    },
    {
      "cell_type": "code",
      "metadata": {
        "id": "OKtc6V-tekuk"
      },
      "source": [
        "max_features = 10000\n",
        "maxlen = 500\n",
        "batch_size = 32"
      ],
      "execution_count": 6,
      "outputs": []
    },
    {
      "cell_type": "code",
      "metadata": {
        "colab": {
          "base_uri": "https://localhost:8080/"
        },
        "id": "FVjQBXeBeroG",
        "outputId": "d50be2ac-8522-460b-99f6-5a58fed7a653"
      },
      "source": [
        "print('Loading data....')\n",
        "(input_train, y_train), (input_test, y_test) = imdb.load_data(num_words=max_features)\n",
        "print(len(input_train), 'train sequences')\n",
        "print(len(input_test), 'test sequences')\n"
      ],
      "execution_count": 7,
      "outputs": [
        {
          "output_type": "stream",
          "name": "stdout",
          "text": [
            "Loading data....\n",
            "Downloading data from https://storage.googleapis.com/tensorflow/tf-keras-datasets/imdb.npz\n",
            "17465344/17464789 [==============================] - 0s 0us/step\n",
            "17473536/17464789 [==============================] - 0s 0us/step\n",
            "25000 train sequences\n",
            "25000 test sequences\n"
          ]
        }
      ]
    },
    {
      "cell_type": "code",
      "metadata": {
        "colab": {
          "base_uri": "https://localhost:8080/"
        },
        "id": "uVj6h7iWz4o1",
        "outputId": "410c3da0-69d2-4326-b66c-901c6c4a7b50"
      },
      "source": [
        "print('Pad sequences (samples x time)')\n",
        "input_train = sequence.pad_sequences(input_train, maxlen=maxlen)\n",
        "input_test = sequence.pad_sequences(input_test, maxlen=maxlen)\n",
        "print('input_train shape:', input_train.shape)\n",
        "print('input_test shape:', input_test.shape)"
      ],
      "execution_count": 8,
      "outputs": [
        {
          "output_type": "stream",
          "name": "stdout",
          "text": [
            "Pad sequences (samples x time)\n",
            "input_train shape: (25000, 500)\n",
            "input_test shape: (25000, 500)\n"
          ]
        }
      ]
    },
    {
      "cell_type": "markdown",
      "metadata": {
        "id": "9w6xNdxF0Wws"
      },
      "source": [
        "- Training the model with Embedding and SimpleRNN layers"
      ]
    },
    {
      "cell_type": "code",
      "metadata": {
        "colab": {
          "base_uri": "https://localhost:8080/"
        },
        "id": "MhSsVsjI0al_",
        "outputId": "242dd515-9e5a-4012-9d18-d318e92c10b4"
      },
      "source": [
        "from keras.layers import Dense\n",
        "from keras.layers import Embedding, Flatten, Dense\n",
        "from keras.layers import SimpleRNN\n",
        "model = Sequential()\n",
        "model.add(Embedding(max_features, 32))\n",
        "model.add(SimpleRNN(32))\n",
        "model.add(Dense(1, activation='sigmoid'))\n",
        "model.compile(optimizer='rmsprop', loss='binary_crossentropy', metrics=['acc'])\n",
        "history = model.fit(input_train, y_train, epochs=10, batch_size=128, validation_split=0.2)"
      ],
      "execution_count": 12,
      "outputs": [
        {
          "output_type": "stream",
          "name": "stdout",
          "text": [
            "Epoch 1/10\n",
            "157/157 [==============================] - 25s 151ms/step - loss: 0.6826 - acc: 0.5525 - val_loss: 0.6727 - val_acc: 0.5648\n",
            "Epoch 2/10\n",
            "157/157 [==============================] - 23s 148ms/step - loss: 0.4853 - acc: 0.7951 - val_loss: 0.4261 - val_acc: 0.8270\n",
            "Epoch 3/10\n",
            "157/157 [==============================] - 24s 151ms/step - loss: 0.3115 - acc: 0.8744 - val_loss: 0.3761 - val_acc: 0.8468\n",
            "Epoch 4/10\n",
            "157/157 [==============================] - 23s 148ms/step - loss: 0.2099 - acc: 0.9212 - val_loss: 0.4060 - val_acc: 0.8246\n",
            "Epoch 5/10\n",
            "157/157 [==============================] - 23s 148ms/step - loss: 0.1347 - acc: 0.9523 - val_loss: 0.4129 - val_acc: 0.8490\n",
            "Epoch 6/10\n",
            "157/157 [==============================] - 23s 149ms/step - loss: 0.0842 - acc: 0.9737 - val_loss: 0.5160 - val_acc: 0.8112\n",
            "Epoch 7/10\n",
            "157/157 [==============================] - 23s 149ms/step - loss: 0.0466 - acc: 0.9862 - val_loss: 0.5411 - val_acc: 0.8386\n",
            "Epoch 8/10\n",
            "157/157 [==============================] - 24s 152ms/step - loss: 0.0270 - acc: 0.9925 - val_loss: 0.6259 - val_acc: 0.8110\n",
            "Epoch 9/10\n",
            "157/157 [==============================] - 24s 152ms/step - loss: 0.0187 - acc: 0.9944 - val_loss: 0.7480 - val_acc: 0.7774\n",
            "Epoch 10/10\n",
            "157/157 [==============================] - 23s 149ms/step - loss: 0.0127 - acc: 0.9962 - val_loss: 0.8057 - val_acc: 0.7742\n"
          ]
        }
      ]
    },
    {
      "cell_type": "code",
      "metadata": {
        "id": "SdN9C_RP9ya8"
      },
      "source": [
        "import matplotlib.pyplot as plt"
      ],
      "execution_count": 13,
      "outputs": []
    },
    {
      "cell_type": "code",
      "metadata": {
        "id": "M8vhrw4s9wwF"
      },
      "source": [
        "acc = history.history['acc']\n",
        "val_acc = history.history['val_acc']\n",
        "loss = history.history['loss']\n",
        "val_loss = history.history['val_loss']"
      ],
      "execution_count": 14,
      "outputs": []
    },
    {
      "cell_type": "code",
      "metadata": {
        "id": "V2GcmZo29tZc"
      },
      "source": [
        "epochs = range(1, len(acc) + 1)"
      ],
      "execution_count": 15,
      "outputs": []
    },
    {
      "cell_type": "code",
      "metadata": {
        "colab": {
          "base_uri": "https://localhost:8080/",
          "height": 563
        },
        "id": "5AoZINNJ8PNK",
        "outputId": "ed5ad758-197d-47f0-b884-aabd612dc16a"
      },
      "source": [
        "plt.plot(epochs, acc, 'bo', label='Training acc')\n",
        "plt.plot(epochs, val_acc, 'b', label='Validation acc')\n",
        "plt.title('Training and validation accuracy')\n",
        "plt.legend()\n",
        "\n",
        "plt.figure()\n",
        "plt.plot(epochs, loss, 'bo', label='Training loss')\n",
        "plt.plot(epochs, val_loss, 'b', label='Validation loss')\n",
        "plt.title('Training and validation loss')\n",
        "plt.legend()"
      ],
      "execution_count": 16,
      "outputs": [
        {
          "output_type": "execute_result",
          "data": {
            "text/plain": [
              "<matplotlib.legend.Legend at 0x7f9506467210>"
            ]
          },
          "metadata": {},
          "execution_count": 16
        },
        {
          "output_type": "display_data",
          "data": {
            "image/png": "[encoded data removed]",
            "text/plain": [
              "<Figure size 432x288 with 1 Axes>"
            ]
          },
          "metadata": {
            "needs_background": "light"
          }
        },
        {
          "output_type": "display_data",
          "data": {
            "image/png": "[encoded data removed]",
            "text/plain": [
              "<Figure size 432x288 with 1 Axes>"
            ]
          },
          "metadata": {
            "needs_background": "light"
          }
        }
      ]
    }
  ]
}