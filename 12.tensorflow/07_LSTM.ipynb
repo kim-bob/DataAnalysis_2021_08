{
  "nbformat": 4,
  "nbformat_minor": 0,
  "metadata": {
    "colab": {
      "name": "07_LSTM.ipynb",
      "provenance": [],
      "collapsed_sections": []
    },
    "kernelspec": {
      "name": "python3",
      "display_name": "Python 3"
    },
    "language_info": {
      "name": "python"
    }
  },
  "cells": [
    {
      "cell_type": "markdown",
      "metadata": {
        "id": "t4PfqQCL5nXS"
      },
      "source": [
        "# Using the LSTM layer in Keras"
      ]
    },
    {
      "cell_type": "code",
      "metadata": {
        "id": "LIBhxsBL7tQt"
      },
      "source": [
        "from keras.datasets import imdb"
      ],
      "execution_count": 12,
      "outputs": []
    },
    {
      "cell_type": "code",
      "metadata": {
        "id": "U8Di8C1A7QxJ"
      },
      "source": [
        "from keras.models import Sequential\n",
        "from keras.layers import LSTM\n",
        "from keras.preprocessing import sequence\n",
        "from keras.layers import Dense\n",
        "from keras.layers import Embedding, Flatten, Dense"
      ],
      "execution_count": 13,
      "outputs": []
    },
    {
      "cell_type": "code",
      "metadata": {
        "id": "Ks-FlA9V7krX"
      },
      "source": [
        "max_features = 10000\n",
        "maxlen = 500\n",
        "batch_size = 32"
      ],
      "execution_count": 14,
      "outputs": []
    },
    {
      "cell_type": "code",
      "metadata": {
        "colab": {
          "base_uri": "https://localhost:8080/"
        },
        "id": "SFXmzBRP7qKK",
        "outputId": "2bd19464-a076-4937-9d3c-66cbe808969a"
      },
      "source": [
        "print('Loading data....')\n",
        "(input_train, y_train), (input_test, y_test) = imdb.load_data(num_words=max_features)\n",
        "print(len(input_train), 'train sequences')\n",
        "print(len(input_test), 'test sequences')"
      ],
      "execution_count": 15,
      "outputs": [
        {
          "output_type": "stream",
          "name": "stdout",
          "text": [
            "Loading data....\n",
            "Downloading data from https://storage.googleapis.com/tensorflow/tf-keras-datasets/imdb.npz\n",
            "17465344/17464789 [==============================] - 0s 0us/step\n",
            "17473536/17464789 [==============================] - 0s 0us/step\n",
            "25000 train sequences\n",
            "25000 test sequences\n"
          ]
        }
      ]
    },
    {
      "cell_type": "code",
      "metadata": {
        "colab": {
          "base_uri": "https://localhost:8080/"
        },
        "id": "OJXCfOHT-BcL",
        "outputId": "e17fd0da-b07a-4c95-ee81-e8396300e294"
      },
      "source": [
        "print('Pad sequences (samples x time)')\n",
        "input_train = sequence.pad_sequences(input_train, maxlen=maxlen)\n",
        "input_test = sequence.pad_sequences(input_test, maxlen=maxlen)\n",
        "print('input_train shape:', input_train.shape)\n",
        "print('input_test shape:', input_test.shape)"
      ],
      "execution_count": 18,
      "outputs": [
        {
          "output_type": "stream",
          "name": "stdout",
          "text": [
            "Pad sequences (samples x time)\n",
            "input_train shape: (25000, 500)\n",
            "input_test shape: (25000, 500)\n"
          ]
        }
      ]
    },
    {
      "cell_type": "code",
      "metadata": {
        "colab": {
          "base_uri": "https://localhost:8080/"
        },
        "id": "aeggPwxh5dl_",
        "outputId": "27b0f156-662a-4edf-95db-7c2f776a96d7"
      },
      "source": [
        "\n",
        "model = Sequential()\n",
        "model.add(Embedding(max_features, 32))\n",
        "model.add(LSTM(32))\n",
        "model.add(Dense(1, activation='sigmoid'))\n",
        "model.compile(optimizer='rmsprop', loss='binary_crossentropy', metrics=['acc'])\n",
        "history = model.fit(input_train, y_train, epochs=10, batch_size=128, validation_split=0.2)\n",
        " "
      ],
      "execution_count": 19,
      "outputs": [
        {
          "output_type": "stream",
          "name": "stdout",
          "text": [
            "Epoch 1/10\n",
            "157/157 [==============================] - 58s 359ms/step - loss: 0.5108 - acc: 0.7659 - val_loss: 0.4242 - val_acc: 0.8064\n",
            "Epoch 2/10\n",
            "157/157 [==============================] - 56s 354ms/step - loss: 0.3014 - acc: 0.8819 - val_loss: 0.3337 - val_acc: 0.8784\n",
            "Epoch 3/10\n",
            "157/157 [==============================] - 56s 357ms/step - loss: 0.2384 - acc: 0.9111 - val_loss: 0.3301 - val_acc: 0.8756\n",
            "Epoch 4/10\n",
            "157/157 [==============================] - 56s 357ms/step - loss: 0.2004 - acc: 0.9268 - val_loss: 0.5065 - val_acc: 0.8534\n",
            "Epoch 5/10\n",
            "157/157 [==============================] - 56s 354ms/step - loss: 0.1768 - acc: 0.9371 - val_loss: 0.3001 - val_acc: 0.8892\n",
            "Epoch 6/10\n",
            "157/157 [==============================] - 56s 356ms/step - loss: 0.1580 - acc: 0.9437 - val_loss: 0.3343 - val_acc: 0.8830\n",
            "Epoch 7/10\n",
            "157/157 [==============================] - 56s 356ms/step - loss: 0.1425 - acc: 0.9481 - val_loss: 0.4625 - val_acc: 0.8064\n",
            "Epoch 8/10\n",
            "157/157 [==============================] - 56s 355ms/step - loss: 0.1316 - acc: 0.9538 - val_loss: 0.3596 - val_acc: 0.8792\n",
            "Epoch 9/10\n",
            "157/157 [==============================] - 56s 356ms/step - loss: 0.1188 - acc: 0.9581 - val_loss: 0.4072 - val_acc: 0.8758\n",
            "Epoch 10/10\n",
            "157/157 [==============================] - 56s 355ms/step - loss: 0.1115 - acc: 0.9608 - val_loss: 0.4201 - val_acc: 0.8820\n"
          ]
        }
      ]
    },
    {
      "cell_type": "code",
      "metadata": {
        "id": "eZsrcEhL7IwH"
      },
      "source": [
        "import matplotlib.pyplot as plt"
      ],
      "execution_count": 20,
      "outputs": []
    },
    {
      "cell_type": "code",
      "metadata": {
        "id": "EruL7MUc7HA_"
      },
      "source": [
        "acc = history.history['acc']\n",
        "val_acc = history.history['val_acc']\n",
        "loss = history.history['loss']\n",
        "val_loss = history.history['val_loss']"
      ],
      "execution_count": 21,
      "outputs": []
    },
    {
      "cell_type": "code",
      "metadata": {
        "id": "y-qpgCDo7EiM"
      },
      "source": [
        "epochs = range(1, len(acc) + 1)\n"
      ],
      "execution_count": 22,
      "outputs": []
    },
    {
      "cell_type": "code",
      "metadata": {
        "colab": {
          "base_uri": "https://localhost:8080/",
          "height": 563
        },
        "id": "7Ud-BRNG7Byo",
        "outputId": "41dc8b91-9964-44ae-e429-4bdd1eae7718"
      },
      "source": [
        "plt.plot(epochs, acc, 'bo', label='Training acc')\n",
        "plt.plot(epochs, val_acc, 'b', label='Validation acc')\n",
        "plt.title('Training and validation accuracy')\n",
        "plt.legend()\n",
        "\n",
        "plt.figure()\n",
        "plt.plot(epochs, loss, 'bo', label='Training loss')\n",
        "plt.plot(epochs, val_loss, 'b', label='Validation loss')\n",
        "plt.title('Training and validation loss')\n",
        "plt.legend()"
      ],
      "execution_count": 23,
      "outputs": [
        {
          "output_type": "execute_result",
          "data": {
            "text/plain": [
              "<matplotlib.legend.Legend at 0x7f34d0d6ba10>"
            ]
          },
          "metadata": {},
          "execution_count": 23
        },
        {
          "output_type": "display_data",
          "data": {
            "image/png": "[encoded data removed]",
            "text/plain": [
              "<Figure size 432x288 with 1 Axes>"
            ]
          },
          "metadata": {
            "needs_background": "light"
          }
        },
        {
          "output_type": "display_data",
          "data": {
            "image/png": "[encoded data removed]",
            "text/plain": [
              "<Figure size 432x288 with 1 Axes>"
            ]
          },
          "metadata": {
            "needs_background": "light"
          }
        }
      ]
    },
    {
      "cell_type": "markdown",
      "metadata": {
        "id": "fjA6FMmm67pO"
      },
      "source": [
        ""
      ]
    }
  ]
}